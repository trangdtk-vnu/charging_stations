{
 "cells": [
  {
   "cell_type": "markdown",
   "metadata": {},
   "source": [
    "# hypercarge_locations "
   ]
  },
  {
   "cell_type": "code",
   "execution_count": 198,
   "metadata": {},
   "outputs": [],
   "source": [
    "# Importing essential libraries\n",
    "import pandas as pd\n",
    "import numpy as np\n",
    "import matplotlib.pyplot as plt\n",
    "import seaborn as sns"
   ]
  },
  {
   "cell_type": "code",
   "execution_count": 199,
   "metadata": {},
   "outputs": [
    {
     "data": {
      "text/html": [
       "<div>\n",
       "<style scoped>\n",
       "    .dataframe tbody tr th:only-of-type {\n",
       "        vertical-align: middle;\n",
       "    }\n",
       "\n",
       "    .dataframe tbody tr th {\n",
       "        vertical-align: top;\n",
       "    }\n",
       "\n",
       "    .dataframe thead th {\n",
       "        text-align: right;\n",
       "    }\n",
       "</style>\n",
       "<table border=\"1\" class=\"dataframe\">\n",
       "  <thead>\n",
       "    <tr style=\"text-align: right;\">\n",
       "      <th></th>\n",
       "      <th>chargerId</th>\n",
       "      <th>serialNumber</th>\n",
       "      <th>sshurl</th>\n",
       "      <th>sshPort</th>\n",
       "      <th>gpsLat</th>\n",
       "      <th>gpsLong</th>\n",
       "      <th>numberStacks</th>\n",
       "      <th>chassis</th>\n",
       "      <th>emergencyStop</th>\n",
       "      <th>doorContactSwitch</th>\n",
       "      <th>...</th>\n",
       "      <th>corporationName</th>\n",
       "      <th>operatorName</th>\n",
       "      <th>hasVollmacht</th>\n",
       "      <th>hasCommissioningProtocol</th>\n",
       "      <th>surroundingChargers</th>\n",
       "      <th>isFavourite</th>\n",
       "      <th>sessionLiveViewEnabled</th>\n",
       "      <th>finishedEol</th>\n",
       "      <th>lendeeId</th>\n",
       "      <th>lendeeName</th>\n",
       "    </tr>\n",
       "  </thead>\n",
       "  <tbody>\n",
       "    <tr>\n",
       "      <th>0</th>\n",
       "      <td>20800</td>\n",
       "      <td>23BZ1509B</td>\n",
       "      <td>10.245.161.30</td>\n",
       "      <td>NaN</td>\n",
       "      <td>45.041390</td>\n",
       "      <td>11.710673</td>\n",
       "      <td>4</td>\n",
       "      <td>HYC_300</td>\n",
       "      <td>False</td>\n",
       "      <td>True</td>\n",
       "      <td>...</td>\n",
       "      <td>Free To X S.p.A.</td>\n",
       "      <td>NaN</td>\n",
       "      <td>False</td>\n",
       "      <td>False</td>\n",
       "      <td>[{'chargerId': 6772, 'gpsLat': 44.66244, 'gpsL...</td>\n",
       "      <td>False</td>\n",
       "      <td>False</td>\n",
       "      <td>True</td>\n",
       "      <td>NaN</td>\n",
       "      <td>NaN</td>\n",
       "    </tr>\n",
       "    <tr>\n",
       "      <th>1</th>\n",
       "      <td>17737</td>\n",
       "      <td>22BZ5330B</td>\n",
       "      <td>10.245.22.116</td>\n",
       "      <td>NaN</td>\n",
       "      <td>42.029548</td>\n",
       "      <td>11.962168</td>\n",
       "      <td>4</td>\n",
       "      <td>HYC_300</td>\n",
       "      <td>False</td>\n",
       "      <td>True</td>\n",
       "      <td>...</td>\n",
       "      <td>Free To X S.p.A.</td>\n",
       "      <td>NaN</td>\n",
       "      <td>False</td>\n",
       "      <td>False</td>\n",
       "      <td>[{'chargerId': 6771, 'gpsLat': 42.49917, 'gpsL...</td>\n",
       "      <td>False</td>\n",
       "      <td>False</td>\n",
       "      <td>True</td>\n",
       "      <td>NaN</td>\n",
       "      <td>NaN</td>\n",
       "    </tr>\n",
       "    <tr>\n",
       "      <th>2</th>\n",
       "      <td>83776</td>\n",
       "      <td>24BZ1716B</td>\n",
       "      <td>10.246.181.216</td>\n",
       "      <td>NaN</td>\n",
       "      <td>43.812700</td>\n",
       "      <td>11.154000</td>\n",
       "      <td>4</td>\n",
       "      <td>HYC_300</td>\n",
       "      <td>False</td>\n",
       "      <td>True</td>\n",
       "      <td>...</td>\n",
       "      <td>Free To X S.p.A.</td>\n",
       "      <td>NaN</td>\n",
       "      <td>False</td>\n",
       "      <td>False</td>\n",
       "      <td>[{'chargerId': 6772, 'gpsLat': 44.66244, 'gpsL...</td>\n",
       "      <td>False</td>\n",
       "      <td>NaN</td>\n",
       "      <td>True</td>\n",
       "      <td>NaN</td>\n",
       "      <td>NaN</td>\n",
       "    </tr>\n",
       "    <tr>\n",
       "      <th>3</th>\n",
       "      <td>19519</td>\n",
       "      <td>23BZ1033B</td>\n",
       "      <td>10.245.29.175</td>\n",
       "      <td>NaN</td>\n",
       "      <td>42.034378</td>\n",
       "      <td>12.648893</td>\n",
       "      <td>4</td>\n",
       "      <td>HYC_300</td>\n",
       "      <td>False</td>\n",
       "      <td>True</td>\n",
       "      <td>...</td>\n",
       "      <td>Free To X S.p.A.</td>\n",
       "      <td>NaN</td>\n",
       "      <td>False</td>\n",
       "      <td>False</td>\n",
       "      <td>[{'chargerId': 6771, 'gpsLat': 42.49917, 'gpsL...</td>\n",
       "      <td>False</td>\n",
       "      <td>False</td>\n",
       "      <td>True</td>\n",
       "      <td>NaN</td>\n",
       "      <td>NaN</td>\n",
       "    </tr>\n",
       "    <tr>\n",
       "      <th>4</th>\n",
       "      <td>83781</td>\n",
       "      <td>24BZ1721B</td>\n",
       "      <td>10.246.186.62</td>\n",
       "      <td>NaN</td>\n",
       "      <td>NaN</td>\n",
       "      <td>NaN</td>\n",
       "      <td>4</td>\n",
       "      <td>HYC_300</td>\n",
       "      <td>False</td>\n",
       "      <td>True</td>\n",
       "      <td>...</td>\n",
       "      <td>Free To X S.p.A.</td>\n",
       "      <td>NaN</td>\n",
       "      <td>False</td>\n",
       "      <td>False</td>\n",
       "      <td>NaN</td>\n",
       "      <td>False</td>\n",
       "      <td>NaN</td>\n",
       "      <td>True</td>\n",
       "      <td>NaN</td>\n",
       "      <td>NaN</td>\n",
       "    </tr>\n",
       "  </tbody>\n",
       "</table>\n",
       "<p>5 rows × 74 columns</p>\n",
       "</div>"
      ],
      "text/plain": [
       "   chargerId serialNumber          sshurl  sshPort     gpsLat    gpsLong  \\\n",
       "0      20800    23BZ1509B   10.245.161.30      NaN  45.041390  11.710673   \n",
       "1      17737    22BZ5330B   10.245.22.116      NaN  42.029548  11.962168   \n",
       "2      83776    24BZ1716B  10.246.181.216      NaN  43.812700  11.154000   \n",
       "3      19519    23BZ1033B   10.245.29.175      NaN  42.034378  12.648893   \n",
       "4      83781    24BZ1721B   10.246.186.62      NaN        NaN        NaN   \n",
       "\n",
       "   numberStacks  chassis  emergencyStop  doorContactSwitch  ...  \\\n",
       "0             4  HYC_300          False               True  ...   \n",
       "1             4  HYC_300          False               True  ...   \n",
       "2             4  HYC_300          False               True  ...   \n",
       "3             4  HYC_300          False               True  ...   \n",
       "4             4  HYC_300          False               True  ...   \n",
       "\n",
       "    corporationName  operatorName  hasVollmacht hasCommissioningProtocol  \\\n",
       "0  Free To X S.p.A.           NaN         False                    False   \n",
       "1  Free To X S.p.A.           NaN         False                    False   \n",
       "2  Free To X S.p.A.           NaN         False                    False   \n",
       "3  Free To X S.p.A.           NaN         False                    False   \n",
       "4  Free To X S.p.A.           NaN         False                    False   \n",
       "\n",
       "                                 surroundingChargers isFavourite  \\\n",
       "0  [{'chargerId': 6772, 'gpsLat': 44.66244, 'gpsL...       False   \n",
       "1  [{'chargerId': 6771, 'gpsLat': 42.49917, 'gpsL...       False   \n",
       "2  [{'chargerId': 6772, 'gpsLat': 44.66244, 'gpsL...       False   \n",
       "3  [{'chargerId': 6771, 'gpsLat': 42.49917, 'gpsL...       False   \n",
       "4                                                NaN       False   \n",
       "\n",
       "   sessionLiveViewEnabled  finishedEol lendeeId lendeeName  \n",
       "0                   False         True      NaN        NaN  \n",
       "1                   False         True      NaN        NaN  \n",
       "2                     NaN         True      NaN        NaN  \n",
       "3                   False         True      NaN        NaN  \n",
       "4                     NaN         True      NaN        NaN  \n",
       "\n",
       "[5 rows x 74 columns]"
      ]
     },
     "execution_count": 199,
     "metadata": {},
     "output_type": "execute_result"
    }
   ],
   "source": [
    "# Load the dataset\n",
    "hypercarge_location = pd.read_csv(r'dataset\\full\\hypercarge_locations.csv')\n",
    "\n",
    "# Preview the first few rows\n",
    "hypercarge_location.head()"
   ]
  },
  {
   "cell_type": "code",
   "execution_count": 200,
   "metadata": {},
   "outputs": [
    {
     "data": {
      "text/html": [
       "<div>\n",
       "<style scoped>\n",
       "    .dataframe tbody tr th:only-of-type {\n",
       "        vertical-align: middle;\n",
       "    }\n",
       "\n",
       "    .dataframe tbody tr th {\n",
       "        vertical-align: top;\n",
       "    }\n",
       "\n",
       "    .dataframe thead th {\n",
       "        text-align: right;\n",
       "    }\n",
       "</style>\n",
       "<table border=\"1\" class=\"dataframe\">\n",
       "  <thead>\n",
       "    <tr style=\"text-align: right;\">\n",
       "      <th></th>\n",
       "      <th>chargerId</th>\n",
       "      <th>sshPort</th>\n",
       "      <th>gpsLat</th>\n",
       "      <th>gpsLong</th>\n",
       "      <th>numberStacks</th>\n",
       "      <th>simIccid</th>\n",
       "      <th>serviceExpirationDate</th>\n",
       "      <th>softwareExpirationDate</th>\n",
       "      <th>locationZipCode</th>\n",
       "      <th>calibrationLawOrdered</th>\n",
       "      <th>...</th>\n",
       "      <th>defaultSoftwareVersion</th>\n",
       "      <th>officialEichrechtCompletion</th>\n",
       "      <th>endClientId</th>\n",
       "      <th>distributorId</th>\n",
       "      <th>corporationId</th>\n",
       "      <th>operatorId</th>\n",
       "      <th>endClientName</th>\n",
       "      <th>operatorName</th>\n",
       "      <th>lendeeId</th>\n",
       "      <th>lendeeName</th>\n",
       "    </tr>\n",
       "  </thead>\n",
       "  <tbody>\n",
       "    <tr>\n",
       "      <th>count</th>\n",
       "      <td>374.000000</td>\n",
       "      <td>0.0</td>\n",
       "      <td>259.000000</td>\n",
       "      <td>259.000000</td>\n",
       "      <td>374.000000</td>\n",
       "      <td>3.720000e+02</td>\n",
       "      <td>0.0</td>\n",
       "      <td>0.0</td>\n",
       "      <td>153.000000</td>\n",
       "      <td>0.0</td>\n",
       "      <td>...</td>\n",
       "      <td>0.0</td>\n",
       "      <td>0.0</td>\n",
       "      <td>0.0</td>\n",
       "      <td>374.000000</td>\n",
       "      <td>374.000000</td>\n",
       "      <td>0.0</td>\n",
       "      <td>0.0</td>\n",
       "      <td>0.0</td>\n",
       "      <td>0.0</td>\n",
       "      <td>0.0</td>\n",
       "    </tr>\n",
       "    <tr>\n",
       "      <th>mean</th>\n",
       "      <td>43247.780749</td>\n",
       "      <td>NaN</td>\n",
       "      <td>41.117911</td>\n",
       "      <td>6.143900</td>\n",
       "      <td>3.823529</td>\n",
       "      <td>8.945020e+18</td>\n",
       "      <td>NaN</td>\n",
       "      <td>NaN</td>\n",
       "      <td>35724.941176</td>\n",
       "      <td>NaN</td>\n",
       "      <td>...</td>\n",
       "      <td>NaN</td>\n",
       "      <td>NaN</td>\n",
       "      <td>NaN</td>\n",
       "      <td>184.350267</td>\n",
       "      <td>186.018717</td>\n",
       "      <td>NaN</td>\n",
       "      <td>NaN</td>\n",
       "      <td>NaN</td>\n",
       "      <td>NaN</td>\n",
       "      <td>NaN</td>\n",
       "    </tr>\n",
       "    <tr>\n",
       "      <th>std</th>\n",
       "      <td>33380.514195</td>\n",
       "      <td>NaN</td>\n",
       "      <td>9.314472</td>\n",
       "      <td>15.581104</td>\n",
       "      <td>0.421770</td>\n",
       "      <td>7.217696e+06</td>\n",
       "      <td>NaN</td>\n",
       "      <td>NaN</td>\n",
       "      <td>24216.932744</td>\n",
       "      <td>NaN</td>\n",
       "      <td>...</td>\n",
       "      <td>NaN</td>\n",
       "      <td>NaN</td>\n",
       "      <td>NaN</td>\n",
       "      <td>84.130167</td>\n",
       "      <td>85.055996</td>\n",
       "      <td>NaN</td>\n",
       "      <td>NaN</td>\n",
       "      <td>NaN</td>\n",
       "      <td>NaN</td>\n",
       "      <td>NaN</td>\n",
       "    </tr>\n",
       "    <tr>\n",
       "      <th>min</th>\n",
       "      <td>6590.000000</td>\n",
       "      <td>NaN</td>\n",
       "      <td>0.000000</td>\n",
       "      <td>-50.000000</td>\n",
       "      <td>1.000000</td>\n",
       "      <td>8.945020e+18</td>\n",
       "      <td>NaN</td>\n",
       "      <td>NaN</td>\n",
       "      <td>10.000000</td>\n",
       "      <td>NaN</td>\n",
       "      <td>...</td>\n",
       "      <td>NaN</td>\n",
       "      <td>NaN</td>\n",
       "      <td>NaN</td>\n",
       "      <td>180.000000</td>\n",
       "      <td>180.000000</td>\n",
       "      <td>NaN</td>\n",
       "      <td>NaN</td>\n",
       "      <td>NaN</td>\n",
       "      <td>NaN</td>\n",
       "      <td>NaN</td>\n",
       "    </tr>\n",
       "    <tr>\n",
       "      <th>25%</th>\n",
       "      <td>13418.250000</td>\n",
       "      <td>NaN</td>\n",
       "      <td>41.849835</td>\n",
       "      <td>9.046675</td>\n",
       "      <td>4.000000</td>\n",
       "      <td>8.945020e+18</td>\n",
       "      <td>NaN</td>\n",
       "      <td>NaN</td>\n",
       "      <td>20045.000000</td>\n",
       "      <td>NaN</td>\n",
       "      <td>...</td>\n",
       "      <td>NaN</td>\n",
       "      <td>NaN</td>\n",
       "      <td>NaN</td>\n",
       "      <td>180.000000</td>\n",
       "      <td>180.000000</td>\n",
       "      <td>NaN</td>\n",
       "      <td>NaN</td>\n",
       "      <td>NaN</td>\n",
       "      <td>NaN</td>\n",
       "      <td>NaN</td>\n",
       "    </tr>\n",
       "    <tr>\n",
       "      <th>50%</th>\n",
       "      <td>19747.500000</td>\n",
       "      <td>NaN</td>\n",
       "      <td>43.818792</td>\n",
       "      <td>11.419845</td>\n",
       "      <td>4.000000</td>\n",
       "      <td>8.945020e+18</td>\n",
       "      <td>NaN</td>\n",
       "      <td>NaN</td>\n",
       "      <td>31032.000000</td>\n",
       "      <td>NaN</td>\n",
       "      <td>...</td>\n",
       "      <td>NaN</td>\n",
       "      <td>NaN</td>\n",
       "      <td>NaN</td>\n",
       "      <td>180.000000</td>\n",
       "      <td>180.000000</td>\n",
       "      <td>NaN</td>\n",
       "      <td>NaN</td>\n",
       "      <td>NaN</td>\n",
       "      <td>NaN</td>\n",
       "      <td>NaN</td>\n",
       "    </tr>\n",
       "    <tr>\n",
       "      <th>75%</th>\n",
       "      <td>83748.750000</td>\n",
       "      <td>NaN</td>\n",
       "      <td>44.962939</td>\n",
       "      <td>12.903881</td>\n",
       "      <td>4.000000</td>\n",
       "      <td>8.945020e+18</td>\n",
       "      <td>NaN</td>\n",
       "      <td>NaN</td>\n",
       "      <td>50019.000000</td>\n",
       "      <td>NaN</td>\n",
       "      <td>...</td>\n",
       "      <td>NaN</td>\n",
       "      <td>NaN</td>\n",
       "      <td>NaN</td>\n",
       "      <td>180.000000</td>\n",
       "      <td>180.000000</td>\n",
       "      <td>NaN</td>\n",
       "      <td>NaN</td>\n",
       "      <td>NaN</td>\n",
       "      <td>NaN</td>\n",
       "      <td>NaN</td>\n",
       "    </tr>\n",
       "    <tr>\n",
       "      <th>max</th>\n",
       "      <td>83842.000000</td>\n",
       "      <td>NaN</td>\n",
       "      <td>57.000000</td>\n",
       "      <td>16.777855</td>\n",
       "      <td>4.000000</td>\n",
       "      <td>8.945020e+18</td>\n",
       "      <td>NaN</td>\n",
       "      <td>NaN</td>\n",
       "      <td>83100.000000</td>\n",
       "      <td>NaN</td>\n",
       "      <td>...</td>\n",
       "      <td>NaN</td>\n",
       "      <td>NaN</td>\n",
       "      <td>NaN</td>\n",
       "      <td>1807.000000</td>\n",
       "      <td>1807.000000</td>\n",
       "      <td>NaN</td>\n",
       "      <td>NaN</td>\n",
       "      <td>NaN</td>\n",
       "      <td>NaN</td>\n",
       "      <td>NaN</td>\n",
       "    </tr>\n",
       "  </tbody>\n",
       "</table>\n",
       "<p>8 rows × 24 columns</p>\n",
       "</div>"
      ],
      "text/plain": [
       "          chargerId  sshPort      gpsLat     gpsLong  numberStacks  \\\n",
       "count    374.000000      0.0  259.000000  259.000000    374.000000   \n",
       "mean   43247.780749      NaN   41.117911    6.143900      3.823529   \n",
       "std    33380.514195      NaN    9.314472   15.581104      0.421770   \n",
       "min     6590.000000      NaN    0.000000  -50.000000      1.000000   \n",
       "25%    13418.250000      NaN   41.849835    9.046675      4.000000   \n",
       "50%    19747.500000      NaN   43.818792   11.419845      4.000000   \n",
       "75%    83748.750000      NaN   44.962939   12.903881      4.000000   \n",
       "max    83842.000000      NaN   57.000000   16.777855      4.000000   \n",
       "\n",
       "           simIccid  serviceExpirationDate  softwareExpirationDate  \\\n",
       "count  3.720000e+02                    0.0                     0.0   \n",
       "mean   8.945020e+18                    NaN                     NaN   \n",
       "std    7.217696e+06                    NaN                     NaN   \n",
       "min    8.945020e+18                    NaN                     NaN   \n",
       "25%    8.945020e+18                    NaN                     NaN   \n",
       "50%    8.945020e+18                    NaN                     NaN   \n",
       "75%    8.945020e+18                    NaN                     NaN   \n",
       "max    8.945020e+18                    NaN                     NaN   \n",
       "\n",
       "       locationZipCode  calibrationLawOrdered  ...  defaultSoftwareVersion  \\\n",
       "count       153.000000                    0.0  ...                     0.0   \n",
       "mean      35724.941176                    NaN  ...                     NaN   \n",
       "std       24216.932744                    NaN  ...                     NaN   \n",
       "min          10.000000                    NaN  ...                     NaN   \n",
       "25%       20045.000000                    NaN  ...                     NaN   \n",
       "50%       31032.000000                    NaN  ...                     NaN   \n",
       "75%       50019.000000                    NaN  ...                     NaN   \n",
       "max       83100.000000                    NaN  ...                     NaN   \n",
       "\n",
       "       officialEichrechtCompletion  endClientId  distributorId  corporationId  \\\n",
       "count                          0.0          0.0     374.000000     374.000000   \n",
       "mean                           NaN          NaN     184.350267     186.018717   \n",
       "std                            NaN          NaN      84.130167      85.055996   \n",
       "min                            NaN          NaN     180.000000     180.000000   \n",
       "25%                            NaN          NaN     180.000000     180.000000   \n",
       "50%                            NaN          NaN     180.000000     180.000000   \n",
       "75%                            NaN          NaN     180.000000     180.000000   \n",
       "max                            NaN          NaN    1807.000000    1807.000000   \n",
       "\n",
       "       operatorId  endClientName  operatorName  lendeeId  lendeeName  \n",
       "count         0.0            0.0           0.0       0.0         0.0  \n",
       "mean          NaN            NaN           NaN       NaN         NaN  \n",
       "std           NaN            NaN           NaN       NaN         NaN  \n",
       "min           NaN            NaN           NaN       NaN         NaN  \n",
       "25%           NaN            NaN           NaN       NaN         NaN  \n",
       "50%           NaN            NaN           NaN       NaN         NaN  \n",
       "75%           NaN            NaN           NaN       NaN         NaN  \n",
       "max           NaN            NaN           NaN       NaN         NaN  \n",
       "\n",
       "[8 rows x 24 columns]"
      ]
     },
     "execution_count": 200,
     "metadata": {},
     "output_type": "execute_result"
    }
   ],
   "source": [
    "# Check the statistics of numeric columns\n",
    "hypercarge_location.describe()"
   ]
  },
  {
   "cell_type": "markdown",
   "metadata": {},
   "source": [
    "## Handling missing values"
   ]
  },
  {
   "cell_type": "code",
   "execution_count": 201,
   "metadata": {},
   "outputs": [
    {
     "data": {
      "text/plain": [
       "chargerId                   0\n",
       "serialNumber                0\n",
       "sshurl                      0\n",
       "sshPort                   374\n",
       "gpsLat                    115\n",
       "                         ... \n",
       "isFavourite                 0\n",
       "sessionLiveViewEnabled    160\n",
       "finishedEol                 0\n",
       "lendeeId                  374\n",
       "lendeeName                374\n",
       "Length: 74, dtype: int64"
      ]
     },
     "execution_count": 201,
     "metadata": {},
     "output_type": "execute_result"
    }
   ],
   "source": [
    "# Check for missing values\n",
    "hypercarge_location.isnull().sum()"
   ]
  },
  {
   "cell_type": "code",
   "execution_count": 202,
   "metadata": {},
   "outputs": [
    {
     "data": {
      "text/plain": [
       "0"
      ]
     },
     "execution_count": 202,
     "metadata": {},
     "output_type": "execute_result"
    }
   ],
   "source": [
    "# Check for duplicates\n",
    "hypercarge_location.duplicated().sum()"
   ]
  },
  {
   "cell_type": "markdown",
   "metadata": {},
   "source": [
    "The maximumn number of columns is 374, so I deleted all the features with 374 missing values."
   ]
  },
  {
   "cell_type": "code",
   "execution_count": 203,
   "metadata": {},
   "outputs": [
    {
     "name": "stdout",
     "output_type": "stream",
     "text": [
      "Dropped columns: ['sshPort', 'serviceExpirationDate', 'softwareExpirationDate', 'calibrationLawOrdered', 'lastMaintenance', 'defaultSoftwareVersion', 'officialEichrechtCompletion', 'endClientId', 'operatorId', 'endClientName', 'operatorName', 'lendeeId', 'lendeeName']\n",
      "   chargerId serialNumber          sshurl     gpsLat    gpsLong  numberStacks  \\\n",
      "0      20800    23BZ1509B   10.245.161.30  45.041390  11.710673             4   \n",
      "1      17737    22BZ5330B   10.245.22.116  42.029548  11.962168             4   \n",
      "2      83776    24BZ1716B  10.246.181.216  43.812700  11.154000             4   \n",
      "3      19519    23BZ1033B   10.245.29.175  42.034378  12.648893             4   \n",
      "4      83781    24BZ1721B   10.246.186.62        NaN        NaN             4   \n",
      "\n",
      "   chassis  emergencyStop  doorContactSwitch standAloneOrBackend  ...  \\\n",
      "0  HYC_300          False               True             Backend  ...   \n",
      "1  HYC_300          False               True             Backend  ...   \n",
      "2  HYC_300          False               True             Backend  ...   \n",
      "3  HYC_300          False               True             Backend  ...   \n",
      "4  HYC_300          False               True             Backend  ...   \n",
      "\n",
      "   corporationId  enableClientWebinterface   distributorName  \\\n",
      "0            180                     False  Free To X S.p.A.   \n",
      "1            180                     False  Free To X S.p.A.   \n",
      "2            180                     False  Free To X S.p.A.   \n",
      "3            180                     False  Free To X S.p.A.   \n",
      "4            180                     False  Free To X S.p.A.   \n",
      "\n",
      "    corporationName hasVollmacht hasCommissioningProtocol  \\\n",
      "0  Free To X S.p.A.        False                    False   \n",
      "1  Free To X S.p.A.        False                    False   \n",
      "2  Free To X S.p.A.        False                    False   \n",
      "3  Free To X S.p.A.        False                    False   \n",
      "4  Free To X S.p.A.        False                    False   \n",
      "\n",
      "                                 surroundingChargers isFavourite  \\\n",
      "0  [{'chargerId': 6772, 'gpsLat': 44.66244, 'gpsL...       False   \n",
      "1  [{'chargerId': 6771, 'gpsLat': 42.49917, 'gpsL...       False   \n",
      "2  [{'chargerId': 6772, 'gpsLat': 44.66244, 'gpsL...       False   \n",
      "3  [{'chargerId': 6771, 'gpsLat': 42.49917, 'gpsL...       False   \n",
      "4                                                NaN       False   \n",
      "\n",
      "  sessionLiveViewEnabled  finishedEol  \n",
      "0                  False         True  \n",
      "1                  False         True  \n",
      "2                    NaN         True  \n",
      "3                  False         True  \n",
      "4                    NaN         True  \n",
      "\n",
      "[5 rows x 61 columns]\n"
     ]
    }
   ],
   "source": [
    "# Check for columns with exactly 374 missing values\n",
    "missing_value_count = hypercarge_location.isnull().sum()\n",
    "\n",
    "# Identify columns where the missing value count is exactly 374\n",
    "columns_to_drop = missing_value_count[missing_value_count == 374].index\n",
    "\n",
    "# Drop those columns\n",
    "hypercarge_location_cleaned = hypercarge_location.drop(columns=columns_to_drop)\n",
    "\n",
    "# Check the result\n",
    "print(f\"Dropped columns: {list(columns_to_drop)}\")\n",
    "print(hypercarge_location_cleaned.head())"
   ]
  },
  {
   "cell_type": "markdown",
   "metadata": {},
   "source": [
    "New dataset name \"hypercarge_location_cleaned\" after deleting all features have 374 missing values."
   ]
  },
  {
   "cell_type": "code",
   "execution_count": 204,
   "metadata": {},
   "outputs": [
    {
     "name": "stdout",
     "output_type": "stream",
     "text": [
      "gpsLat                    115\n",
      "gpsLong                   115\n",
      "simIccid                    2\n",
      "commissioningDate         107\n",
      "chargePointIdentity       113\n",
      "customerIccid             336\n",
      "warrantyExpiration        160\n",
      "websocketUrl              114\n",
      "locationStreet            221\n",
      "locationTown              221\n",
      "locationZipCode           221\n",
      "locationProvince          221\n",
      "locationCountry           147\n",
      "locationUpdateNote        252\n",
      "status_hycErrorCode        85\n",
      "status_text               213\n",
      "simActivationDate          35\n",
      "simLastRequest             35\n",
      "hymaintVersion             48\n",
      "surroundingChargers       115\n",
      "sessionLiveViewEnabled    160\n",
      "dtype: int64\n"
     ]
    }
   ],
   "source": [
    "# Find features with missing values\n",
    "missing_values = hypercarge_location_cleaned.isnull().sum()\n",
    "\n",
    "# Filter to show only columns with missing values\n",
    "missing_values = missing_values[missing_values > 0]\n",
    "\n",
    "# Display features with missing values and the count\n",
    "print(missing_values)"
   ]
  },
  {
   "cell_type": "markdown",
   "metadata": {},
   "source": [
    "There are still a lot of features with too many missing values. Continue dropping features with > 200 missing values."
   ]
  },
  {
   "cell_type": "code",
   "execution_count": 205,
   "metadata": {},
   "outputs": [
    {
     "name": "stdout",
     "output_type": "stream",
     "text": [
      "Dropped columns: ['sshPort', 'customerIccid', 'serviceExpirationDate', 'softwareExpirationDate', 'locationStreet', 'locationTown', 'locationZipCode', 'locationProvince', 'locationUpdateNote', 'calibrationLawOrdered', 'status_text', 'lastMaintenance', 'defaultSoftwareVersion', 'officialEichrechtCompletion', 'endClientId', 'operatorId', 'endClientName', 'operatorName', 'lendeeId', 'lendeeName']\n",
      "   chargerId serialNumber          sshurl     gpsLat    gpsLong  numberStacks  \\\n",
      "0      20800    23BZ1509B   10.245.161.30  45.041390  11.710673             4   \n",
      "1      17737    22BZ5330B   10.245.22.116  42.029548  11.962168             4   \n",
      "2      83776    24BZ1716B  10.246.181.216  43.812700  11.154000             4   \n",
      "3      19519    23BZ1033B   10.245.29.175  42.034378  12.648893             4   \n",
      "4      83781    24BZ1721B   10.246.186.62        NaN        NaN             4   \n",
      "\n",
      "   chassis  emergencyStop  doorContactSwitch standAloneOrBackend  ...  \\\n",
      "0  HYC_300          False               True             Backend  ...   \n",
      "1  HYC_300          False               True             Backend  ...   \n",
      "2  HYC_300          False               True             Backend  ...   \n",
      "3  HYC_300          False               True             Backend  ...   \n",
      "4  HYC_300          False               True             Backend  ...   \n",
      "\n",
      "   corporationId  enableClientWebinterface   distributorName  \\\n",
      "0            180                     False  Free To X S.p.A.   \n",
      "1            180                     False  Free To X S.p.A.   \n",
      "2            180                     False  Free To X S.p.A.   \n",
      "3            180                     False  Free To X S.p.A.   \n",
      "4            180                     False  Free To X S.p.A.   \n",
      "\n",
      "    corporationName hasVollmacht hasCommissioningProtocol  \\\n",
      "0  Free To X S.p.A.        False                    False   \n",
      "1  Free To X S.p.A.        False                    False   \n",
      "2  Free To X S.p.A.        False                    False   \n",
      "3  Free To X S.p.A.        False                    False   \n",
      "4  Free To X S.p.A.        False                    False   \n",
      "\n",
      "                                 surroundingChargers  isFavourite  \\\n",
      "0  [{'chargerId': 6772, 'gpsLat': 44.66244, 'gpsL...        False   \n",
      "1  [{'chargerId': 6771, 'gpsLat': 42.49917, 'gpsL...        False   \n",
      "2  [{'chargerId': 6772, 'gpsLat': 44.66244, 'gpsL...        False   \n",
      "3  [{'chargerId': 6771, 'gpsLat': 42.49917, 'gpsL...        False   \n",
      "4                                                NaN        False   \n",
      "\n",
      "   sessionLiveViewEnabled  finishedEol  \n",
      "0                   False         True  \n",
      "1                   False         True  \n",
      "2                     NaN         True  \n",
      "3                   False         True  \n",
      "4                     NaN         True  \n",
      "\n",
      "[5 rows x 54 columns]\n"
     ]
    }
   ],
   "source": [
    "# Identify columns where the missing value count is exactly 374\n",
    "columns_to_drop = missing_value_count[missing_value_count > 200].index\n",
    "\n",
    "# Drop those columns\n",
    "hypercarge_location_cleaned = hypercarge_location.drop(columns=columns_to_drop)\n",
    "\n",
    "# Check the result\n",
    "print(f\"Dropped columns: {list(columns_to_drop)}\")\n",
    "print(hypercarge_location_cleaned.head())"
   ]
  },
  {
   "cell_type": "code",
   "execution_count": 206,
   "metadata": {},
   "outputs": [
    {
     "name": "stdout",
     "output_type": "stream",
     "text": [
      "gpsLat                    115\n",
      "gpsLong                   115\n",
      "simIccid                    2\n",
      "commissioningDate         107\n",
      "chargePointIdentity       113\n",
      "warrantyExpiration        160\n",
      "websocketUrl              114\n",
      "locationCountry           147\n",
      "status_hycErrorCode        85\n",
      "simActivationDate          35\n",
      "simLastRequest             35\n",
      "hymaintVersion             48\n",
      "surroundingChargers       115\n",
      "sessionLiveViewEnabled    160\n",
      "dtype: int64\n"
     ]
    }
   ],
   "source": [
    "# Find features with missing values\n",
    "missing_values = hypercarge_location_cleaned.isnull().sum()\n",
    "\n",
    "# Filter to show only columns with missing values\n",
    "missing_values = missing_values[missing_values > 0]\n",
    "\n",
    "# Display features with missing values and the count\n",
    "print(missing_values)"
   ]
  },
  {
   "cell_type": "markdown",
   "metadata": {},
   "source": [
    "simActivationDate and simLastRequest both have 35 missing values, I want to see if when simActivationDate = NaN, simLastRequest is also NaN"
   ]
  },
  {
   "cell_type": "code",
   "execution_count": 207,
   "metadata": {},
   "outputs": [
    {
     "name": "stdout",
     "output_type": "stream",
     "text": [
      "simLastRequest\n",
      "True    35\n",
      "Name: count, dtype: int64\n"
     ]
    }
   ],
   "source": [
    "# Check if simLastRequest is NaN when simActivationDate is NaN\n",
    "nan_check = hypercarge_location_cleaned[hypercarge_location_cleaned['simActivationDate'].isnull()]['simLastRequest'].isnull().value_counts()\n",
    "\n",
    "# Display the results\n",
    "print(nan_check)"
   ]
  },
  {
   "cell_type": "markdown",
   "metadata": {},
   "source": [
    "There is a feature simActivated (Boolean), I want to check if simActivated = False, both simActivationDate and simLastRequest = NaN"
   ]
  },
  {
   "cell_type": "code",
   "execution_count": 208,
   "metadata": {},
   "outputs": [
    {
     "name": "stdout",
     "output_type": "stream",
     "text": [
      "Number of rows where simActivated is False and both simActivationDate and simLastRequest are NaN: 35\n"
     ]
    }
   ],
   "source": [
    "# Check if both simActivationDate and simLastRequest are NaN when simActivated is False\n",
    "nan_check_sim_activated_false = hypercarge_location_cleaned.loc[\n",
    "    hypercarge_location_cleaned['simActivated'] == False\n",
    "]\n",
    "\n",
    "# Count how many of those rows have simActivationDate and simLastRequest as NaN\n",
    "count_nan_rows = nan_check_sim_activated_false[\n",
    "    nan_check_sim_activated_false['simActivationDate'].isnull() & \n",
    "    nan_check_sim_activated_false['simLastRequest'].isnull()\n",
    "].shape[0]\n",
    "\n",
    "# Display the result\n",
    "print(\"Number of rows where simActivated is False and both simActivationDate and simLastRequest are NaN:\", count_nan_rows)"
   ]
  },
  {
   "cell_type": "markdown",
   "metadata": {},
   "source": [
    "Since both simActivationDate and simLastRequest are NaN when simActivated is False, their utility in the analysis may be limited => Drop these 2 features."
   ]
  },
  {
   "cell_type": "code",
   "execution_count": 209,
   "metadata": {},
   "outputs": [],
   "source": [
    "# Delete the features from the dataset\n",
    "hypercarge_location_cleaned.drop(columns=['simActivationDate', 'simLastRequest'], inplace=True)"
   ]
  },
  {
   "cell_type": "markdown",
   "metadata": {},
   "source": [
    "I wanted to check if simIccid important feature. First, let's see how many different values are there in that feature"
   ]
  },
  {
   "cell_type": "code",
   "execution_count": 210,
   "metadata": {},
   "outputs": [
    {
     "name": "stdout",
     "output_type": "stream",
     "text": [
      "Number of unique values in simIccid: 107\n"
     ]
    }
   ],
   "source": [
    "# Count the number of unique values in the ICCID feature (simIccid)\n",
    "unique_iccid_values_count = hypercarge_location_cleaned['simIccid'].nunique()\n",
    "\n",
    "# Display the count of unique values\n",
    "print(\"Number of unique values in simIccid:\", unique_iccid_values_count)"
   ]
  },
  {
   "cell_type": "markdown",
   "metadata": {},
   "source": [
    "There are 107 different values which is a large number. There might be ok to delete this feature."
   ]
  },
  {
   "cell_type": "code",
   "execution_count": 211,
   "metadata": {},
   "outputs": [],
   "source": [
    "# Delete the IsimIccidCCID feature from the dataset\n",
    "hypercarge_location_cleaned.drop(columns=['simIccid'], inplace=True)"
   ]
  },
  {
   "cell_type": "markdown",
   "metadata": {},
   "source": [
    "Let's see if chargePointIdentity is worth to analysis."
   ]
  },
  {
   "cell_type": "code",
   "execution_count": 212,
   "metadata": {},
   "outputs": [
    {
     "name": "stdout",
     "output_type": "stream",
     "text": [
      "Number of unique values in chargePointIdentity: 258\n"
     ]
    }
   ],
   "source": [
    "# Count the number of unique values in the feature \"Unique identity or name of the charge point\"\n",
    "unique_charge_point_identity_count = hypercarge_location_cleaned['chargePointIdentity'].nunique()\n",
    "\n",
    "# Display the count of unique values\n",
    "print(\"Number of unique values in chargePointIdentity:\", unique_charge_point_identity_count)"
   ]
  },
  {
   "cell_type": "markdown",
   "metadata": {},
   "source": [
    "There are also too many different ID for this feature. Also, we already have ID for charger, I think it is not important to include this feature into analysing."
   ]
  },
  {
   "cell_type": "code",
   "execution_count": 213,
   "metadata": {},
   "outputs": [],
   "source": [
    "# Delete the chargePointIdentity feature from the dataset\n",
    "hypercarge_location_cleaned.drop(columns=['chargePointIdentity'], inplace=True)"
   ]
  },
  {
   "cell_type": "markdown",
   "metadata": {},
   "source": [
    "With too many missing values, warrantyExpiration (160), websocketUrl (114); hymaintVersion; commissioningDate (107) affect operational and maintenance aspects rather than directly influencing customer behaviour. It is reasonable to delete this feature."
   ]
  },
  {
   "cell_type": "code",
   "execution_count": 214,
   "metadata": {},
   "outputs": [],
   "source": [
    "# Delete warrantyExpiration, websocketUrl and hymaintVersion feature from the dataset\n",
    "hypercarge_location_cleaned.drop(columns=['warrantyExpiration', 'websocketUrl', 'hymaintVersion', 'commissioningDate'], inplace=True)"
   ]
  },
  {
   "cell_type": "markdown",
   "metadata": {},
   "source": [
    "Diagnose status_hycErrorCode"
   ]
  },
  {
   "cell_type": "code",
   "execution_count": 215,
   "metadata": {},
   "outputs": [
    {
     "name": "stdout",
     "output_type": "stream",
     "text": [
      "Number of unique values in status_hycErrorCode: 2\n",
      "Unique values and their counts:\n",
      " status_hycErrorCode\n",
      "NoError        283\n",
      "Door Opened      6\n",
      "Name: count, dtype: int64\n"
     ]
    }
   ],
   "source": [
    "# Count the number of unique values in the feature \"status_hycErrorCode\" and display those values\n",
    "unique_hyc_error_codes = hypercarge_location_cleaned['status_hycErrorCode'].value_counts()\n",
    "\n",
    "# Display the count of unique values and the unique values themselves\n",
    "unique_hyc_error_codes_count = unique_hyc_error_codes.shape[0]\n",
    "\n",
    "print(\"Number of unique values in status_hycErrorCode:\", unique_hyc_error_codes_count)\n",
    "print(\"Unique values and their counts:\\n\", unique_hyc_error_codes)"
   ]
  },
  {
   "cell_type": "code",
   "execution_count": 216,
   "metadata": {},
   "outputs": [],
   "source": [
    "# Fill missing values in the status_hycErrorCode with \"Unknown\"\n",
    "hypercarge_location_cleaned['status_hycErrorCode'] = hypercarge_location_cleaned['status_hycErrorCode'].fillna('Unknown')"
   ]
  },
  {
   "cell_type": "markdown",
   "metadata": {},
   "source": [
    "Diagnose sessionLiveViewEnabled"
   ]
  },
  {
   "cell_type": "code",
   "execution_count": 217,
   "metadata": {},
   "outputs": [
    {
     "name": "stdout",
     "output_type": "stream",
     "text": [
      "Number of unique values in sessionLiveViewEnabled: 1\n",
      "Unique values and their counts:\n",
      " sessionLiveViewEnabled\n",
      "False    214\n",
      "Name: count, dtype: int64\n"
     ]
    }
   ],
   "source": [
    "# Count the number of unique values in the feature \"status_hycErrorCode\" and display those values\n",
    "unique_sessionLiveViewEnabled = hypercarge_location_cleaned['sessionLiveViewEnabled'].value_counts()\n",
    "\n",
    "# Display the count of unique values and the unique values themselves\n",
    "unique_sessionLiveViewEnabled_count = unique_sessionLiveViewEnabled.shape[0]\n",
    "\n",
    "print(\"Number of unique values in sessionLiveViewEnabled:\", unique_sessionLiveViewEnabled_count)\n",
    "print(\"Unique values and their counts:\\n\", unique_sessionLiveViewEnabled)"
   ]
  },
  {
   "cell_type": "markdown",
   "metadata": {},
   "source": [
    "There could be reasonable to consider missing value as True in this context"
   ]
  },
  {
   "cell_type": "code",
   "execution_count": 218,
   "metadata": {},
   "outputs": [],
   "source": [
    "# Ensure the sessionLiveViewEnabled column is of type boolean before filling NaNs\n",
    "hypercarge_location_cleaned['sessionLiveViewEnabled'] = hypercarge_location_cleaned['sessionLiveViewEnabled'].astype('boolean')\n",
    "\n",
    "# Fill missing values in the sessionLiveViewEnabled with True\n",
    "hypercarge_location_cleaned['sessionLiveViewEnabled'] = hypercarge_location_cleaned['sessionLiveViewEnabled'].fillna(True)"
   ]
  },
  {
   "cell_type": "markdown",
   "metadata": {},
   "source": [
    "Since FreeX currently only operates in Italy => safely delete locationCountry"
   ]
  },
  {
   "cell_type": "code",
   "execution_count": 219,
   "metadata": {},
   "outputs": [],
   "source": [
    "hypercarge_location_cleaned.drop(columns=['locationCountry'], inplace=True)"
   ]
  },
  {
   "cell_type": "markdown",
   "metadata": {},
   "source": [
    "Diagnose gpsLat gpsLong and surroundingChargers:\n",
    "They all have 115 missing values"
   ]
  },
  {
   "cell_type": "code",
   "execution_count": 220,
   "metadata": {},
   "outputs": [
    {
     "name": "stdout",
     "output_type": "stream",
     "text": [
      "Number of rows where gpsLat, gpsLong, and surroundingChargers are all NaN: 115\n"
     ]
    }
   ],
   "source": [
    "# Check if gpsLat, gpsLong, and surroundingChargers all have NaN values simultaneously\n",
    "missing_combination = hypercarge_location_cleaned[\n",
    "    hypercarge_location_cleaned['gpsLat'].isnull() & \n",
    "    hypercarge_location_cleaned['gpsLong'].isnull() & \n",
    "    hypercarge_location_cleaned['surroundingChargers'].isnull()\n",
    "]\n",
    "\n",
    "# Count the number of rows that meet this condition\n",
    "count_missing_combination = missing_combination.shape[0]\n",
    "\n",
    "# Display the result\n",
    "print(\"Number of rows where gpsLat, gpsLong, and surroundingChargers are all NaN:\", count_missing_combination)"
   ]
  },
  {
   "cell_type": "markdown",
   "metadata": {},
   "source": [
    "We don't know how too fill NaN values for these features. For now, keep them."
   ]
  },
  {
   "cell_type": "code",
   "execution_count": 221,
   "metadata": {},
   "outputs": [
    {
     "name": "stdout",
     "output_type": "stream",
     "text": [
      "gpsLat                 115\n",
      "gpsLong                115\n",
      "surroundingChargers    115\n",
      "dtype: int64\n"
     ]
    }
   ],
   "source": [
    "# Find features with missing values\n",
    "missing_values = hypercarge_location_cleaned.isnull().sum()\n",
    "\n",
    "# Filter to show only columns with missing values\n",
    "missing_values = missing_values[missing_values > 0]\n",
    "\n",
    "# Display features with missing values and the count\n",
    "print(missing_values)"
   ]
  },
  {
   "cell_type": "markdown",
   "metadata": {},
   "source": [
    "## Diagnose individual features"
   ]
  },
  {
   "cell_type": "code",
   "execution_count": 222,
   "metadata": {},
   "outputs": [
    {
     "name": "stdout",
     "output_type": "stream",
     "text": [
      "                      Feature     Type  Unique Value Count\n",
      "0                   chargerId    int64                 374\n",
      "1                serialNumber   object                 374\n",
      "2                      sshurl   object                 374\n",
      "3                      gpsLat  float64                 232\n",
      "4                     gpsLong  float64                 232\n",
      "5                numberStacks    int64                   3\n",
      "6                     chassis   object                   3\n",
      "7               emergencyStop     bool                   1\n",
      "8           doorContactSwitch     bool                   2\n",
      "9         standAloneOrBackend   object                   1\n",
      "10                   isPublic     bool                   1\n",
      "11    prohibitSoftwareupdates     bool                   1\n",
      "12         needsSpecialAccess     bool                   1\n",
      "13             notServiceable     bool                   1\n",
      "14              deadManSwitch     bool                   2\n",
      "15                  hwVersion    int64                   1\n",
      "16              telemetrySave    int64                   3\n",
      "17           hymaintInstalled     bool                   2\n",
      "18           isRemoteLocation     bool                   1\n",
      "19             lastSignOfLife   object                 142\n",
      "20                 outletList   object                 374\n",
      "21            status_position    int64                   1\n",
      "22           status_errorcode   object                   3\n",
      "23        status_hycErrorCode   object                   3\n",
      "24              status_status   object                   5\n",
      "25          status_updatetime   object                 362\n",
      "26           status_isPrivate     bool                   1\n",
      "27               simActivated     bool                   2\n",
      "28      excludeFromStatistics     bool                   1\n",
      "29                   isActive     bool                   2\n",
      "30            softwareVersion   object                   9\n",
      "31  isUtilityExecutionBlocked     bool                   1\n",
      "32                   allNotes   object                 173\n",
      "33   creditCardTerminalActive     bool                   1\n",
      "34              distributorId    int64                   2\n",
      "35              corporationId    int64                   3\n",
      "36   enableClientWebinterface     bool                   1\n",
      "37            distributorName   object                   2\n",
      "38            corporationName   object                   3\n",
      "39               hasVollmacht     bool                   1\n",
      "40   hasCommissioningProtocol     bool                   1\n",
      "41        surroundingChargers   object                 235\n",
      "42                isFavourite     bool                   2\n",
      "43     sessionLiveViewEnabled  boolean                   2\n",
      "44                finishedEol     bool                   1\n"
     ]
    }
   ],
   "source": [
    "# Get the data types of each feature in the dataset\n",
    "feature_types = hypercarge_location_cleaned.dtypes\n",
    "\n",
    "# Get the count of unique values for each feature in the dataset\n",
    "unique_value_counts = {feature: hypercarge_location_cleaned[feature].nunique() for feature in hypercarge_location_cleaned.columns}\n",
    "\n",
    "# Create a DataFrame to display features, their types, and unique value counts\n",
    "combined_info = pd.DataFrame({\n",
    "    'Feature': feature_types.index,\n",
    "    'Type': feature_types.values,\n",
    "    'Unique Value Count': [unique_value_counts[feature] for feature in feature_types.index]\n",
    "})\n",
    "\n",
    "# Display the combined DataFrame\n",
    "print(combined_info)"
   ]
  },
  {
   "cell_type": "markdown",
   "metadata": {},
   "source": [
    "List of deleted features and reason(s):\n",
    "1. Technical Specifications not directly influencing customer behaviour: serialNumber, sshurl, outletList, allNotes; status_updatetime\n",
    "2. Only have 1 value, don't have valuable analysis result: standAloneOrBackend, isPublic, prohibitSoftwareupdates, needsSpecialAccess, notServiceable, hwVersion, isRemoteLocation, status_position, status_isPrivate, excludeFromStatistics, isUtilityExecutionBlocked, creditCardTerminalActive, enableClientWebinterface, hasVollmacht, hasCommissioningProtocol, finishedEol\n"
   ]
  },
  {
   "cell_type": "code",
   "execution_count": 223,
   "metadata": {},
   "outputs": [],
   "source": [
    "features_to_delete = [\n",
    "    'serialNumber',\n",
    "    'sshurl',\n",
    "    'outletList',\n",
    "    'allNotes',\n",
    "    'standAloneOrBackend',\n",
    "    'isPublic',\n",
    "    'prohibitSoftwareupdates',\n",
    "    'needsSpecialAccess',\n",
    "    'notServiceable',\n",
    "    'hwVersion',\n",
    "    'isRemoteLocation',\n",
    "    'status_position',\n",
    "    'status_isPrivate',\n",
    "    'excludeFromStatistics',\n",
    "    'isUtilityExecutionBlocked',\n",
    "    'creditCardTerminalActive',\n",
    "    'enableClientWebinterface',\n",
    "    'hasVollmacht',\n",
    "    'hasCommissioningProtocol',\n",
    "    'finishedEol',\n",
    "    'status_updatetime',\n",
    "    'emergencyStop'\n",
    "]\n",
    "\n",
    "# Delete the specified features from the dataset\n",
    "hypercarge_location_cleaned.drop(columns=features_to_delete, inplace=True)"
   ]
  },
  {
   "cell_type": "code",
   "execution_count": 224,
   "metadata": {},
   "outputs": [
    {
     "name": "stdout",
     "output_type": "stream",
     "text": [
      "                   Feature     Type  Unique Value Count\n",
      "0                chargerId    int64                 374\n",
      "1                   gpsLat  float64                 232\n",
      "2                  gpsLong  float64                 232\n",
      "3             numberStacks    int64                   3\n",
      "4                  chassis   object                   3\n",
      "5        doorContactSwitch     bool                   2\n",
      "6            deadManSwitch     bool                   2\n",
      "7            telemetrySave    int64                   3\n",
      "8         hymaintInstalled     bool                   2\n",
      "9           lastSignOfLife   object                 142\n",
      "10        status_errorcode   object                   3\n",
      "11     status_hycErrorCode   object                   3\n",
      "12           status_status   object                   5\n",
      "13            simActivated     bool                   2\n",
      "14                isActive     bool                   2\n",
      "15         softwareVersion   object                   9\n",
      "16           distributorId    int64                   2\n",
      "17           corporationId    int64                   3\n",
      "18         distributorName   object                   2\n",
      "19         corporationName   object                   3\n",
      "20     surroundingChargers   object                 235\n",
      "21             isFavourite     bool                   2\n",
      "22  sessionLiveViewEnabled  boolean                   2\n"
     ]
    }
   ],
   "source": [
    "# Get the data types of each feature in the dataset\n",
    "feature_types = hypercarge_location_cleaned.dtypes\n",
    "\n",
    "# Get the count of unique values for each feature in the dataset\n",
    "unique_value_counts = {feature: hypercarge_location_cleaned[feature].nunique() for feature in hypercarge_location_cleaned.columns}\n",
    "\n",
    "# Create a DataFrame to display features, their types, and unique value counts\n",
    "combined_info = pd.DataFrame({\n",
    "    'Feature': feature_types.index,\n",
    "    'Type': feature_types.values,\n",
    "    'Unique Value Count': [unique_value_counts[feature] for feature in feature_types.index]\n",
    "})\n",
    "\n",
    "# Display the combined DataFrame\n",
    "print(combined_info)"
   ]
  },
  {
   "cell_type": "markdown",
   "metadata": {},
   "source": [
    "NEXT STEPS\n",
    "1. There are some chargerId have the same gpsLat and gpsLong?\n",
    "(take in to consideration missing value for gpsLat and gpsLong)\n",
    "2. lastSignOfLife: considering create new features LastSignOfLife_Year; LastSignOfLife_Month; LastSignOfLife_Week\n",
    "3. surroundingChargers: count number of surroundingChargers\n"
   ]
  },
  {
   "cell_type": "code",
   "execution_count": 225,
   "metadata": {},
   "outputs": [
    {
     "name": "stdout",
     "output_type": "stream",
     "text": [
      "     chargerId     gpsLat    gpsLong\n",
      "10       20793  45.517027   9.147218\n",
      "28       83765  44.609700   8.661300\n",
      "36       20805  45.633854   9.600788\n",
      "40       20791  41.595306  15.470685\n",
      "48       17424  41.849835  12.732820\n",
      "60       19522  44.826193  10.380317\n",
      "85       83753  44.427700  11.601300\n",
      "124      83768  44.427700  11.601300\n",
      "136      12615  45.461680   9.276506\n",
      "143      20804  45.517027   9.147218\n",
      "149      17815  45.142908   9.634451\n",
      "188      83756  43.094100  11.780600\n",
      "194      12616  45.461680   9.276506\n",
      "220      17422  41.849835  12.732820\n",
      "235      20807  45.633854   9.600788\n",
      "244      20806  41.595306  15.470685\n",
      "254       9922  45.461680   9.276506\n",
      "259      83772  43.094100  11.780600\n",
      "260      16941  45.142908   9.634451\n",
      "268      83759  43.094100  11.780600\n",
      "279      83767  44.609700   8.661300\n",
      "351      19527  44.826193  10.380317\n"
     ]
    }
   ],
   "source": [
    "# Check for chargerId with the same (gpsLat, gpsLong) values, ignoring NaN values\n",
    "duplicate_coordinates = hypercarge_location_cleaned[\n",
    "    hypercarge_location_cleaned['gpsLat'].notnull() & \n",
    "    hypercarge_location_cleaned['gpsLong'].notnull()\n",
    "]\n",
    "\n",
    "# Identify duplicates based on gpsLat and gpsLong\n",
    "duplicate_charger_ids = duplicate_coordinates[duplicate_coordinates.duplicated(subset=['gpsLat', 'gpsLong'], keep=False)]\n",
    "\n",
    "# Select chargerId, gpsLat, and gpsLong for display\n",
    "duplicate_charger_ids = duplicate_charger_ids[['chargerId', 'gpsLat', 'gpsLong']]\n",
    "\n",
    "# Display the result\n",
    "print(duplicate_charger_ids)"
   ]
  },
  {
   "cell_type": "markdown",
   "metadata": {},
   "source": [
    "So there are some chargerId entries that share the same gpsLat and gpsLong values, while ignoring any entries where these values are NaN\n",
    "=> If it is not data errors, could ignore"
   ]
  },
  {
   "cell_type": "markdown",
   "metadata": {},
   "source": [
    "Diagnose gpsLong gpsLat"
   ]
  },
  {
   "cell_type": "code",
   "execution_count": 226,
   "metadata": {},
   "outputs": [],
   "source": [
    "# Define latitude and longitude boundaries for Italy\n",
    "lat_min = 35.4892\n",
    "lat_max = 47.0929\n",
    "long_min = 6.6272\n",
    "long_max = 18.9837\n",
    "\n",
    "# Filter for rows where gpsLat and gpsLong are NOT within the boundaries of Italy\n",
    "not_italy_coordinates = hypercarge_location_cleaned[~(\n",
    "    (hypercarge_location_cleaned['gpsLat'].notnull()) & \n",
    "    (hypercarge_location_cleaned['gpsLong'].notnull()) & \n",
    "    (hypercarge_location_cleaned['gpsLat'] >= lat_min) &\n",
    "    (hypercarge_location_cleaned['gpsLat'] <= lat_max) &\n",
    "    (hypercarge_location_cleaned['gpsLong'] >= long_min) &\n",
    "    (hypercarge_location_cleaned['gpsLong'] <= long_max)\n",
    ")]\n",
    "\n",
    "# Select relevant columns for chargerId to delete\n",
    "not_italy_charger_ids = not_italy_coordinates['chargerId']"
   ]
  },
  {
   "cell_type": "markdown",
   "metadata": {},
   "source": [
    "Delete all these chargerId?"
   ]
  },
  {
   "cell_type": "code",
   "execution_count": 227,
   "metadata": {},
   "outputs": [],
   "source": [
    "# Delete these chargerId entries from the original dataset\n",
    "hypercarge_location_cleaned = hypercarge_location_cleaned[~hypercarge_location_cleaned['chargerId'].isin(not_italy_charger_ids)]"
   ]
  },
  {
   "cell_type": "markdown",
   "metadata": {},
   "source": [
    "Label Encoding"
   ]
  },
  {
   "cell_type": "code",
   "execution_count": 228,
   "metadata": {},
   "outputs": [
    {
     "name": "stdout",
     "output_type": "stream",
     "text": [
      "Skipping encoding for sessionLiveViewEnabled because it's not categorical.\n",
      "Label Encoding applied successfully to specified features.\n"
     ]
    }
   ],
   "source": [
    "from sklearn.preprocessing import LabelEncoder\n",
    "# List of features to apply Label Encoding\n",
    "features_to_encode = [\n",
    "    'chassis',\n",
    "    'doorContactSwitch',\n",
    "    'deadManSwitch',\n",
    "    'hymaintInstalled',\n",
    "    'status_errorcode',\n",
    "    'status_hycErrorCode',\n",
    "    'status_status',\n",
    "    'simActivated',\n",
    "    'isActive',\n",
    "    'softwareVersion',\n",
    "    'isFavourite',\n",
    "    'sessionLiveViewEnabled'\n",
    "]\n",
    "\n",
    "# Initialize the LabelEncoder\n",
    "label_encoder = LabelEncoder()\n",
    "\n",
    "# Apply Label Encoding to each specified feature\n",
    "for feature in features_to_encode:\n",
    "    if hypercarge_location_cleaned[feature].dtype == 'object' or hypercarge_location_cleaned[feature].dtype == 'bool':\n",
    "        hypercarge_location_cleaned[feature + '_encoded'] = label_encoder.fit_transform(hypercarge_location_cleaned[feature])\n",
    "    else:\n",
    "        print(f\"Skipping encoding for {feature} because it's not categorical.\")\n",
    "\n",
    "print(\"Label Encoding applied successfully to specified features.\")"
   ]
  },
  {
   "cell_type": "code",
   "execution_count": 229,
   "metadata": {},
   "outputs": [
    {
     "data": {
      "text/html": [
       "<div>\n",
       "<style scoped>\n",
       "    .dataframe tbody tr th:only-of-type {\n",
       "        vertical-align: middle;\n",
       "    }\n",
       "\n",
       "    .dataframe tbody tr th {\n",
       "        vertical-align: top;\n",
       "    }\n",
       "\n",
       "    .dataframe thead th {\n",
       "        text-align: right;\n",
       "    }\n",
       "</style>\n",
       "<table border=\"1\" class=\"dataframe\">\n",
       "  <thead>\n",
       "    <tr style=\"text-align: right;\">\n",
       "      <th></th>\n",
       "      <th>chargerId</th>\n",
       "      <th>gpsLat</th>\n",
       "      <th>gpsLong</th>\n",
       "      <th>numberStacks</th>\n",
       "      <th>chassis</th>\n",
       "      <th>doorContactSwitch</th>\n",
       "      <th>deadManSwitch</th>\n",
       "      <th>telemetrySave</th>\n",
       "      <th>hymaintInstalled</th>\n",
       "      <th>lastSignOfLife</th>\n",
       "      <th>...</th>\n",
       "      <th>doorContactSwitch_encoded</th>\n",
       "      <th>deadManSwitch_encoded</th>\n",
       "      <th>hymaintInstalled_encoded</th>\n",
       "      <th>status_errorcode_encoded</th>\n",
       "      <th>status_hycErrorCode_encoded</th>\n",
       "      <th>status_status_encoded</th>\n",
       "      <th>simActivated_encoded</th>\n",
       "      <th>isActive_encoded</th>\n",
       "      <th>softwareVersion_encoded</th>\n",
       "      <th>isFavourite_encoded</th>\n",
       "    </tr>\n",
       "  </thead>\n",
       "  <tbody>\n",
       "    <tr>\n",
       "      <th>0</th>\n",
       "      <td>20800</td>\n",
       "      <td>45.041390</td>\n",
       "      <td>11.710673</td>\n",
       "      <td>4</td>\n",
       "      <td>HYC_300</td>\n",
       "      <td>True</td>\n",
       "      <td>False</td>\n",
       "      <td>0</td>\n",
       "      <td>True</td>\n",
       "      <td>2024-09-03T20:35:41.376538+00:00</td>\n",
       "      <td>...</td>\n",
       "      <td>1</td>\n",
       "      <td>0</td>\n",
       "      <td>1</td>\n",
       "      <td>1</td>\n",
       "      <td>1</td>\n",
       "      <td>1</td>\n",
       "      <td>1</td>\n",
       "      <td>1</td>\n",
       "      <td>2</td>\n",
       "      <td>0</td>\n",
       "    </tr>\n",
       "    <tr>\n",
       "      <th>1</th>\n",
       "      <td>17737</td>\n",
       "      <td>42.029548</td>\n",
       "      <td>11.962168</td>\n",
       "      <td>4</td>\n",
       "      <td>HYC_300</td>\n",
       "      <td>True</td>\n",
       "      <td>False</td>\n",
       "      <td>0</td>\n",
       "      <td>True</td>\n",
       "      <td>2024-09-03T20:33:37.978534+00:00</td>\n",
       "      <td>...</td>\n",
       "      <td>1</td>\n",
       "      <td>0</td>\n",
       "      <td>1</td>\n",
       "      <td>1</td>\n",
       "      <td>1</td>\n",
       "      <td>0</td>\n",
       "      <td>1</td>\n",
       "      <td>1</td>\n",
       "      <td>2</td>\n",
       "      <td>0</td>\n",
       "    </tr>\n",
       "    <tr>\n",
       "      <th>2</th>\n",
       "      <td>83776</td>\n",
       "      <td>43.812700</td>\n",
       "      <td>11.154000</td>\n",
       "      <td>4</td>\n",
       "      <td>HYC_300</td>\n",
       "      <td>True</td>\n",
       "      <td>False</td>\n",
       "      <td>0</td>\n",
       "      <td>False</td>\n",
       "      <td>2024-09-03T20:35:18.908548+00:00</td>\n",
       "      <td>...</td>\n",
       "      <td>1</td>\n",
       "      <td>0</td>\n",
       "      <td>0</td>\n",
       "      <td>1</td>\n",
       "      <td>1</td>\n",
       "      <td>0</td>\n",
       "      <td>0</td>\n",
       "      <td>1</td>\n",
       "      <td>0</td>\n",
       "      <td>0</td>\n",
       "    </tr>\n",
       "    <tr>\n",
       "      <th>3</th>\n",
       "      <td>19519</td>\n",
       "      <td>42.034378</td>\n",
       "      <td>12.648893</td>\n",
       "      <td>4</td>\n",
       "      <td>HYC_300</td>\n",
       "      <td>True</td>\n",
       "      <td>False</td>\n",
       "      <td>0</td>\n",
       "      <td>True</td>\n",
       "      <td>2024-09-03T20:32:17.466134+00:00</td>\n",
       "      <td>...</td>\n",
       "      <td>1</td>\n",
       "      <td>0</td>\n",
       "      <td>1</td>\n",
       "      <td>1</td>\n",
       "      <td>2</td>\n",
       "      <td>0</td>\n",
       "      <td>1</td>\n",
       "      <td>1</td>\n",
       "      <td>2</td>\n",
       "      <td>0</td>\n",
       "    </tr>\n",
       "    <tr>\n",
       "      <th>6</th>\n",
       "      <td>19531</td>\n",
       "      <td>45.548180</td>\n",
       "      <td>9.202131</td>\n",
       "      <td>4</td>\n",
       "      <td>HYC_300</td>\n",
       "      <td>True</td>\n",
       "      <td>False</td>\n",
       "      <td>0</td>\n",
       "      <td>True</td>\n",
       "      <td>2024-09-03T20:31:55.695629+00:00</td>\n",
       "      <td>...</td>\n",
       "      <td>1</td>\n",
       "      <td>0</td>\n",
       "      <td>1</td>\n",
       "      <td>1</td>\n",
       "      <td>1</td>\n",
       "      <td>0</td>\n",
       "      <td>1</td>\n",
       "      <td>1</td>\n",
       "      <td>2</td>\n",
       "      <td>0</td>\n",
       "    </tr>\n",
       "  </tbody>\n",
       "</table>\n",
       "<p>5 rows × 34 columns</p>\n",
       "</div>"
      ],
      "text/plain": [
       "   chargerId     gpsLat    gpsLong  numberStacks  chassis  doorContactSwitch  \\\n",
       "0      20800  45.041390  11.710673             4  HYC_300               True   \n",
       "1      17737  42.029548  11.962168             4  HYC_300               True   \n",
       "2      83776  43.812700  11.154000             4  HYC_300               True   \n",
       "3      19519  42.034378  12.648893             4  HYC_300               True   \n",
       "6      19531  45.548180   9.202131             4  HYC_300               True   \n",
       "\n",
       "   deadManSwitch  telemetrySave  hymaintInstalled  \\\n",
       "0          False              0              True   \n",
       "1          False              0              True   \n",
       "2          False              0             False   \n",
       "3          False              0              True   \n",
       "6          False              0              True   \n",
       "\n",
       "                     lastSignOfLife  ... doorContactSwitch_encoded  \\\n",
       "0  2024-09-03T20:35:41.376538+00:00  ...                         1   \n",
       "1  2024-09-03T20:33:37.978534+00:00  ...                         1   \n",
       "2  2024-09-03T20:35:18.908548+00:00  ...                         1   \n",
       "3  2024-09-03T20:32:17.466134+00:00  ...                         1   \n",
       "6  2024-09-03T20:31:55.695629+00:00  ...                         1   \n",
       "\n",
       "  deadManSwitch_encoded hymaintInstalled_encoded  status_errorcode_encoded  \\\n",
       "0                     0                        1                         1   \n",
       "1                     0                        1                         1   \n",
       "2                     0                        0                         1   \n",
       "3                     0                        1                         1   \n",
       "6                     0                        1                         1   \n",
       "\n",
       "   status_hycErrorCode_encoded status_status_encoded  simActivated_encoded  \\\n",
       "0                            1                     1                     1   \n",
       "1                            1                     0                     1   \n",
       "2                            1                     0                     0   \n",
       "3                            2                     0                     1   \n",
       "6                            1                     0                     1   \n",
       "\n",
       "   isActive_encoded softwareVersion_encoded isFavourite_encoded  \n",
       "0                 1                       2                   0  \n",
       "1                 1                       2                   0  \n",
       "2                 1                       0                   0  \n",
       "3                 1                       2                   0  \n",
       "6                 1                       2                   0  \n",
       "\n",
       "[5 rows x 34 columns]"
      ]
     },
     "execution_count": 229,
     "metadata": {},
     "output_type": "execute_result"
    }
   ],
   "source": [
    "hypercarge_location_cleaned.head()"
   ]
  },
  {
   "cell_type": "markdown",
   "metadata": {},
   "source": [
    "Create new features"
   ]
  },
  {
   "cell_type": "code",
   "execution_count": 230,
   "metadata": {},
   "outputs": [],
   "source": [
    "# Convert lastSignOfLife to datetime\n",
    "hypercarge_location_cleaned['lastSignOfLife'] = pd.to_datetime(hypercarge_location_cleaned['lastSignOfLife'], errors='coerce')\n",
    "\n",
    "# Create new features for Year, Month, and Week\n",
    "hypercarge_location_cleaned['LastSignOfLife_Year'] = hypercarge_location_cleaned['lastSignOfLife'].dt.year\n",
    "hypercarge_location_cleaned['LastSignOfLife_Month'] = hypercarge_location_cleaned['lastSignOfLife'].dt.month\n",
    "hypercarge_location_cleaned['LastSignOfLife_Week'] = hypercarge_location_cleaned['lastSignOfLife'].dt.isocalendar().week"
   ]
  },
  {
   "cell_type": "code",
   "execution_count": 231,
   "metadata": {},
   "outputs": [],
   "source": [
    "import ast\n",
    "# Function to count available surrounding chargers\n",
    "def count_available_surrounding_chargers(surrounding_chargers_str):\n",
    "    try:\n",
    "        # Safely evaluate the string representation to convert to a list of dictionaries\n",
    "        surrounding_chargers_list = ast.literal_eval(surrounding_chargers_str)\n",
    "        # Count only the chargers that are available\n",
    "        return sum(1 for charger in surrounding_chargers_list if charger['status'] == 'Available')\n",
    "    except (ValueError, SyntaxError):\n",
    "        return 0  # Return 0 if there is an error in parsing\n",
    "\n",
    "# Apply the function to the surroundingChargers column\n",
    "hypercarge_location_cleaned['AvailableSurroundingChargers_Count'] = hypercarge_location_cleaned['surroundingChargers'].apply(count_available_surrounding_chargers)"
   ]
  },
  {
   "cell_type": "code",
   "execution_count": 232,
   "metadata": {},
   "outputs": [
    {
     "name": "stdout",
     "output_type": "stream",
     "text": [
      "Series([], dtype: int64)\n"
     ]
    }
   ],
   "source": [
    "# Find features with missing values\n",
    "missing_values = hypercarge_location_cleaned.isnull().sum()\n",
    "\n",
    "# Filter to show only columns with missing values\n",
    "missing_values = missing_values[missing_values > 0]\n",
    "\n",
    "# Display features with missing values and the count\n",
    "print(missing_values)"
   ]
  },
  {
   "cell_type": "markdown",
   "metadata": {},
   "source": [
    "Visualisations"
   ]
  },
  {
   "cell_type": "code",
   "execution_count": 234,
   "metadata": {},
   "outputs": [
    {
     "data": {
      "text/html": [
       "<div style=\"width:100%;\"><div style=\"position:relative;width:100%;height:0;padding-bottom:60%;\"><span style=\"color:#565656\">Make this Notebook Trusted to load map: File -> Trust Notebook</span><iframe srcdoc=\"&lt;!DOCTYPE html&gt;\n",
       "&lt;html&gt;\n",
       "&lt;head&gt;\n",
       "    \n",
       "    &lt;meta http-equiv=&quot;content-type&quot; content=&quot;text/html; charset=UTF-8&quot; /&gt;\n",
       "    \n",
       "        &lt;script&gt;\n",
       "            L_NO_TOUCH = false;\n",
       "            L_DISABLE_3D = false;\n",
       "        &lt;/script&gt;\n",
       "    \n",
       "    &lt;style&gt;html, body {width: 100%;height: 100%;margin: 0;padding: 0;}&lt;/style&gt;\n",
       "    &lt;style&gt;#map {position:absolute;top:0;bottom:0;right:0;left:0;}&lt;/style&gt;\n",
       "    &lt;script src=&quot;https://cdn.jsdelivr.net/npm/leaflet@1.9.3/dist/leaflet.js&quot;&gt;&lt;/script&gt;\n",
       "    &lt;script src=&quot;https://code.jquery.com/jquery-3.7.1.min.js&quot;&gt;&lt;/script&gt;\n",
       "    &lt;script src=&quot;https://cdn.jsdelivr.net/npm/bootstrap@5.2.2/dist/js/bootstrap.bundle.min.js&quot;&gt;&lt;/script&gt;\n",
       "    &lt;script src=&quot;https://cdnjs.cloudflare.com/ajax/libs/Leaflet.awesome-markers/2.0.2/leaflet.awesome-markers.js&quot;&gt;&lt;/script&gt;\n",
       "    &lt;link rel=&quot;stylesheet&quot; href=&quot;https://cdn.jsdelivr.net/npm/leaflet@1.9.3/dist/leaflet.css&quot;/&gt;\n",
       "    &lt;link rel=&quot;stylesheet&quot; href=&quot;https://cdn.jsdelivr.net/npm/bootstrap@5.2.2/dist/css/bootstrap.min.css&quot;/&gt;\n",
       "    &lt;link rel=&quot;stylesheet&quot; href=&quot;https://netdna.bootstrapcdn.com/bootstrap/3.0.0/css/bootstrap-glyphicons.css&quot;/&gt;\n",
       "    &lt;link rel=&quot;stylesheet&quot; href=&quot;https://cdn.jsdelivr.net/npm/@fortawesome/fontawesome-free@6.2.0/css/all.min.css&quot;/&gt;\n",
       "    &lt;link rel=&quot;stylesheet&quot; href=&quot;https://cdnjs.cloudflare.com/ajax/libs/Leaflet.awesome-markers/2.0.2/leaflet.awesome-markers.css&quot;/&gt;\n",
       "    &lt;link rel=&quot;stylesheet&quot; href=&quot;https://cdn.jsdelivr.net/gh/python-visualization/folium/folium/templates/leaflet.awesome.rotate.min.css&quot;/&gt;\n",
       "    \n",
       "            &lt;meta name=&quot;viewport&quot; content=&quot;width=device-width,\n",
       "                initial-scale=1.0, maximum-scale=1.0, user-scalable=no&quot; /&gt;\n",
       "            &lt;style&gt;\n",
       "                #map_28f760fd72da4a6b30c6ec3a93582c63 {\n",
       "                    position: relative;\n",
       "                    width: 100.0%;\n",
       "                    height: 100.0%;\n",
       "                    left: 0.0%;\n",
       "                    top: 0.0%;\n",
       "                }\n",
       "                .leaflet-container { font-size: 1rem; }\n",
       "            &lt;/style&gt;\n",
       "        \n",
       "    &lt;script src=&quot;https://cdn.jsdelivr.net/gh/python-visualization/folium@main/folium/templates/leaflet_heat.min.js&quot;&gt;&lt;/script&gt;\n",
       "&lt;/head&gt;\n",
       "&lt;body&gt;\n",
       "    \n",
       "    \n",
       "            &lt;div class=&quot;folium-map&quot; id=&quot;map_28f760fd72da4a6b30c6ec3a93582c63&quot; &gt;&lt;/div&gt;\n",
       "        \n",
       "&lt;/body&gt;\n",
       "&lt;script&gt;\n",
       "    \n",
       "    \n",
       "            var map_28f760fd72da4a6b30c6ec3a93582c63 = L.map(\n",
       "                &quot;map_28f760fd72da4a6b30c6ec3a93582c63&quot;,\n",
       "                {\n",
       "                    center: [41.8719, 12.5674],\n",
       "                    crs: L.CRS.EPSG3857,\n",
       "                    zoom: 6,\n",
       "                    zoomControl: true,\n",
       "                    preferCanvas: false,\n",
       "                }\n",
       "            );\n",
       "\n",
       "            \n",
       "\n",
       "        \n",
       "    \n",
       "            var tile_layer_0ca24f31389f32db460a1ad31a9707b3 = L.tileLayer(\n",
       "                &quot;https://tile.openstreetmap.org/{z}/{x}/{y}.png&quot;,\n",
       "                {&quot;attribution&quot;: &quot;\\u0026copy; \\u003ca href=\\&quot;https://www.openstreetmap.org/copyright\\&quot;\\u003eOpenStreetMap\\u003c/a\\u003e contributors&quot;, &quot;detectRetina&quot;: false, &quot;maxNativeZoom&quot;: 19, &quot;maxZoom&quot;: 19, &quot;minZoom&quot;: 0, &quot;noWrap&quot;: false, &quot;opacity&quot;: 1, &quot;subdomains&quot;: &quot;abc&quot;, &quot;tms&quot;: false}\n",
       "            );\n",
       "        \n",
       "    \n",
       "            tile_layer_0ca24f31389f32db460a1ad31a9707b3.addTo(map_28f760fd72da4a6b30c6ec3a93582c63);\n",
       "        \n",
       "    \n",
       "            var heat_map_0fbd82f34f5fc1e0266da8bf8abaec9f = L.heatLayer(\n",
       "                [[45.0413896291706, 11.710672816333831], [42.02954808589307, 11.962168151083445], [43.8127, 11.154], [42.034378, 12.648893], [45.54818, 9.202131], [45.517027, 9.147218], [43.071302, 13.844789], [43.48079, 13.59644], [44.6617823, 10.8555736], [44.87931, 11.57079], [44.1169093728499, 12.408989135006673], [42.03136484930663, 11.96287806209704], [45.60774184359634, 12.298581731769657], [44.60469302341558, 8.953060110443314], [45.07469, 8.51101], [43.83179219080415, 11.16010001834332], [44.4277929435558, 11.59927773004565], [44.6097, 8.6613], [41.9025, 12.752471], [45.5738853, 9.392549], [45.63385426728856, 9.600788152862714], [44.88013, 11.56906], [41.595306, 15.470685], [45.62475539738236, 8.712067013491533], [43.084033, 13.844127], [43.58292202603713, 11.522620177756425], [41.8498347, 12.7328198], [42.62348381178956, 12.232490713525506], [45.461887776561866, 9.2763829988045], [44.962869094179965, 9.90444213224484], [41.06467591621623, 15.314206038647178], [44.874039, 8.833501], [44.60469167309025, 8.953054420619305], [45.53256573064744, 10.151177887472564], [40.92542, 14.78317], [41.89188154748638, 12.758657253033844], [44.826193, 10.380317], [46.49900946415393, 13.375391836695504], [43.6359, 11.4559], [43.619242, 13.336944], [43.81879153258581, 11.17229195985093], [42.799503, 12.020228], [41.092773, 16.777855], [41.060190578679766, 15.013472521529495], [45.559134, 9.039494], [41.25181, 16.22019], [45.55895321501664, 9.042345936402976], [43.65052, 11.46442], [44.15107355193594, 11.19363641216908], [41.066562, 15.3155346], [45.607714, 12.298069], [44.39338, 9.04665], [40.83769660577199, 14.119591440381846], [41.8914925, 12.7594371], [44.428383, 11.599576], [44.4277, 11.6013], [44.6216434, 11.4203974], [45.72983940534127, 9.02800875314488], [45.5738, 9.3887], [41.498, 13.682], [42.199803, 14.610773], [42.531719172262456, 14.12450694544286], [41.68596811184035, 13.513187604772613], [41.04907707432876, 14.323144528269848], [43.8226, 11.1515], [44.5996, 8.6657], [42.628433, 12.230046], [44.96291787090095, 9.906272294036722], [43.48079, 13.59624], [44.96261, 9.90443], [45.029393, 11.701105], [42.03137331652554, 11.962792231411816], [45.0420310709263, 11.709231256806136], [44.51956, 11.21367], [42.032747, 11.953672], [41.068329, 14.88722], [41.68599050937753, 13.187538979556642], [45.729051, 9.028446], [44.4277, 11.6013], [44.116922, 12.409015], [44.4278511, 11.5986996], [44.59141, 8.665706], [41.100521, 16.753673], [44.87931, 11.57073], [44.66229, 10.85797], [46.182976, 13.126373], [40.92668, 14.78317], [44.6763717, 8.6581214], [45.4616799, 9.2765061], [45.76292, 8.80962], [44.453754, 11.280675], [46.49905823466896, 13.37512094073765], [41.04907, 14.3231], [45.517027, 9.147218], [45.57416179644078, 9.392527994720972], [42.8761818, 12.0173079], [44.28766933773564, 8.441119911448869], [45.14290767128583, 9.634451384519403], [42.53072, 14.12426], [42.49927, 12.31106], [44.51957, 11.21374], [45.321012, 9.375258], [42.868913, 12.026451], [42.364143, 12.4788065], [41.23408, 14.09174], [45.32151, 9.37723], [43.62697, 13.33516], [44.62261139860479, 11.41988490594841], [45.613064, 8.720427], [44.821237, 10.377416], [44.589635, 8.664777], [44.609688, 8.661311], [41.918249, 15.180058], [45.07462, 8.51099], [44.827259, 10.37933], [44.428896, 11.6002905], [40.872321, 14.283121], [40.889277, 14.3178], [45.14232079789667, 9.632879063429876], [44.393273, 9.046552], [41.06670928675303, 15.315971667173134], [45.76241, 8.81087], [43.0941, 11.7806], [42.5483537, 14.1012901], [45.676823, 12.172375], [43.8318004140493, 11.160087277850982], [45.4616799, 9.2765061], [42.87650230358312, 12.017141551638364], [42.53174922101295, 14.124406425212973], [45.773998, 9.04934], [45.5756, 9.0086], [42.36412917089691, 12.478752310868412], [40.92666, 14.78311], [43.652973, 13.32744], [44.51834, 11.21432], [41.686012834348304, 13.187509256904688], [41.105972, 16.692888], [44.96296017659537, 9.906183880356323], [41.497747210987065, 13.684203241919125], [45.57585, 9.39382], [43.4050125, 11.7649416], [41.8498347, 12.7328198], [42.316788, 12.492107], [41.25078, 16.21886], [44.15121060750389, 11.193671191410036], [44.45620200747712, 11.279479255591484], [45.32147, 9.37718], [45.63385426728856, 9.600788152862714], [45.60832003095096, 12.297277564364082], [40.92538, 14.7831], [45.7293, 9.02912], [41.595306, 15.470685], [44.4848, 11.2583], [44.62256010204987, 11.419845077178076], [45.07489, 8.50897], [41.569647, 15.518173], [46.206436157227, 13.048324584961], [44.66229, 10.85801], [45.76237, 8.81087], [45.4616799, 9.2765061], [44.39232885796939, 9.045140638956768], [45.040109, 11.708764], [43.0941, 11.7806], [45.14290767128583, 9.634451384519403], [44.39339, 9.0467], [44.829025268555, 11.594009399414], [42.318209, 12.491354], [45.76298, 8.80962], [43.07510245885713, 13.842822845673412], [41.4877, 13.69], [43.0941, 11.7806], [43.404625, 11.76227], [44.366226196289, 9.1481781005859], [45.57584, 9.39376], [45.5322914, 10.1514359], [44.6097, 8.6613], [44.28767509785708, 8.441156121269197], [43.81879540319122, 11.172247703403862], [43.99432, 12.61851], [45.53250080821757, 10.148404368913836], [44.5183, 11.21429], [43.62697, 13.33526], [42.2000860064834, 14.561545153634787], [44.66223666034456, 10.85800979285428], [45.46226590000001, 9.2378661], [44.96265, 9.90435], [41.926337, 15.131712], [41.25181, 16.2201], [42.624796, 12.231543], [41.064709, 15.314145], [45.53245626526257, 10.148463121581308], [45.32181749999999, 9.3746729], [43.4811877716243, 13.59483103391386], [41.493573, 13.691659], [43.65052, 11.46448], [41.23402, 14.09175], [40.876693725586, 14.318618774414], [45.7601, 8.8096], [43.58300139576382, 11.522125002221816], [45.6274098, 8.7121458], [44.66180260625645, 10.854625413495116], [44.66244, 10.85816], [43.4081, 11.7649], [45.7341, 9.3835], [44.88008, 11.56906], [43.40804784777996, 11.763220279967504], [45.14231059784972, 9.632817601064309], [41.25075, 16.21894], [44.4525, 11.2796], [44.66238507058817, 10.858520518762573], [42.49917, 12.31096], [43.395714, 11.760434], [42.200748, 14.59728], [42.203846, 14.535772], [41.90990674284409, 15.168792010891588], [41.68601410548256, 13.18750898624291], [44.826193, 10.380317], [43.07509608255541, 13.842811499524649], [42.119499, 12.61847], [41.68652804286626, 13.18860423243303], [42.49929, 12.31107], [45.548589, 9.210064], [45.0749, 8.50907], [43.99436, 12.61855], [45.55872953594708, 9.039780726784564], [41.88976488263891, 12.758369210890834], [41.90890271028204, 15.168512077047428], [41.59151, 15.47307]],\n",
       "                {&quot;blur&quot;: 15, &quot;maxZoom&quot;: 18, &quot;minOpacity&quot;: 0.5, &quot;radius&quot;: 15}\n",
       "            );\n",
       "        \n",
       "    \n",
       "            heat_map_0fbd82f34f5fc1e0266da8bf8abaec9f.addTo(map_28f760fd72da4a6b30c6ec3a93582c63);\n",
       "        \n",
       "&lt;/script&gt;\n",
       "&lt;/html&gt;\" style=\"position:absolute;width:100%;height:100%;left:0;top:0;border:none !important;\" allowfullscreen webkitallowfullscreen mozallowfullscreen></iframe></div></div>"
      ],
      "text/plain": [
       "<folium.folium.Map at 0x25908e78140>"
      ]
     },
     "metadata": {},
     "output_type": "display_data"
    }
   ],
   "source": [
    "import folium\n",
    "from IPython.display import display\n",
    "from folium.plugins import HeatMap\n",
    "\n",
    "# Set the center of the map to Italy\n",
    "italy_lat = 41.8719\n",
    "italy_long = 12.5674\n",
    "charger_map = folium.Map(location=[italy_lat, italy_long], zoom_start=6)  # Adjust zoom level as needed\n",
    "\n",
    "# Prepare data for the heatmap\n",
    "heat_data = [[row['gpsLat'], row['gpsLong']] for _, row in hypercarge_location_cleaned.iterrows()]\n",
    "\n",
    "# Create a HeatMap layer\n",
    "HeatMap(heat_data, radius=15).add_to(charger_map)\n",
    "\n",
    "# Display the heatmap in the notebook\n",
    "display(charger_map)"
   ]
  },
  {
   "cell_type": "code",
   "execution_count": 242,
   "metadata": {},
   "outputs": [
    {
     "name": "stderr",
     "output_type": "stream",
     "text": [
      "C:\\Users\\LENOVO\\AppData\\Local\\Temp\\ipykernel_16256\\1054690611.py:33: FutureWarning: \n",
      "\n",
      "Passing `palette` without assigning `hue` is deprecated and will be removed in v0.14.0. Assign the `x` variable to `hue` and set `legend=False` for the same effect.\n",
      "\n",
      "  ax = sns.countplot(x=feature, data=hypercarge_location_cleaned, palette='viridis')\n",
      "C:\\Users\\LENOVO\\AppData\\Local\\Temp\\ipykernel_16256\\1054690611.py:33: FutureWarning: \n",
      "\n",
      "Passing `palette` without assigning `hue` is deprecated and will be removed in v0.14.0. Assign the `x` variable to `hue` and set `legend=False` for the same effect.\n",
      "\n",
      "  ax = sns.countplot(x=feature, data=hypercarge_location_cleaned, palette='viridis')\n",
      "C:\\Users\\LENOVO\\AppData\\Local\\Temp\\ipykernel_16256\\1054690611.py:33: FutureWarning: \n",
      "\n",
      "Passing `palette` without assigning `hue` is deprecated and will be removed in v0.14.0. Assign the `x` variable to `hue` and set `legend=False` for the same effect.\n",
      "\n",
      "  ax = sns.countplot(x=feature, data=hypercarge_location_cleaned, palette='viridis')\n",
      "C:\\Users\\LENOVO\\AppData\\Local\\Temp\\ipykernel_16256\\1054690611.py:33: FutureWarning: \n",
      "\n",
      "Passing `palette` without assigning `hue` is deprecated and will be removed in v0.14.0. Assign the `x` variable to `hue` and set `legend=False` for the same effect.\n",
      "\n",
      "  ax = sns.countplot(x=feature, data=hypercarge_location_cleaned, palette='viridis')\n",
      "C:\\Users\\LENOVO\\AppData\\Local\\Temp\\ipykernel_16256\\1054690611.py:33: FutureWarning: \n",
      "\n",
      "Passing `palette` without assigning `hue` is deprecated and will be removed in v0.14.0. Assign the `x` variable to `hue` and set `legend=False` for the same effect.\n",
      "\n",
      "  ax = sns.countplot(x=feature, data=hypercarge_location_cleaned, palette='viridis')\n",
      "C:\\Users\\LENOVO\\AppData\\Local\\Temp\\ipykernel_16256\\1054690611.py:33: FutureWarning: \n",
      "\n",
      "Passing `palette` without assigning `hue` is deprecated and will be removed in v0.14.0. Assign the `x` variable to `hue` and set `legend=False` for the same effect.\n",
      "\n",
      "  ax = sns.countplot(x=feature, data=hypercarge_location_cleaned, palette='viridis')\n",
      "C:\\Users\\LENOVO\\AppData\\Local\\Temp\\ipykernel_16256\\1054690611.py:33: FutureWarning: \n",
      "\n",
      "Passing `palette` without assigning `hue` is deprecated and will be removed in v0.14.0. Assign the `x` variable to `hue` and set `legend=False` for the same effect.\n",
      "\n",
      "  ax = sns.countplot(x=feature, data=hypercarge_location_cleaned, palette='viridis')\n",
      "C:\\Users\\LENOVO\\AppData\\Local\\Temp\\ipykernel_16256\\1054690611.py:33: FutureWarning: \n",
      "\n",
      "Passing `palette` without assigning `hue` is deprecated and will be removed in v0.14.0. Assign the `x` variable to `hue` and set `legend=False` for the same effect.\n",
      "\n",
      "  ax = sns.countplot(x=feature, data=hypercarge_location_cleaned, palette='viridis')\n",
      "C:\\Users\\LENOVO\\AppData\\Local\\Temp\\ipykernel_16256\\1054690611.py:33: FutureWarning: \n",
      "\n",
      "Passing `palette` without assigning `hue` is deprecated and will be removed in v0.14.0. Assign the `x` variable to `hue` and set `legend=False` for the same effect.\n",
      "\n",
      "  ax = sns.countplot(x=feature, data=hypercarge_location_cleaned, palette='viridis')\n",
      "C:\\Users\\LENOVO\\AppData\\Local\\Temp\\ipykernel_16256\\1054690611.py:33: FutureWarning: \n",
      "\n",
      "Passing `palette` without assigning `hue` is deprecated and will be removed in v0.14.0. Assign the `x` variable to `hue` and set `legend=False` for the same effect.\n",
      "\n",
      "  ax = sns.countplot(x=feature, data=hypercarge_location_cleaned, palette='viridis')\n",
      "C:\\Users\\LENOVO\\AppData\\Local\\Temp\\ipykernel_16256\\1054690611.py:33: FutureWarning: \n",
      "\n",
      "Passing `palette` without assigning `hue` is deprecated and will be removed in v0.14.0. Assign the `x` variable to `hue` and set `legend=False` for the same effect.\n",
      "\n",
      "  ax = sns.countplot(x=feature, data=hypercarge_location_cleaned, palette='viridis')\n",
      "C:\\Users\\LENOVO\\AppData\\Local\\Temp\\ipykernel_16256\\1054690611.py:33: FutureWarning: \n",
      "\n",
      "Passing `palette` without assigning `hue` is deprecated and will be removed in v0.14.0. Assign the `x` variable to `hue` and set `legend=False` for the same effect.\n",
      "\n",
      "  ax = sns.countplot(x=feature, data=hypercarge_location_cleaned, palette='viridis')\n",
      "C:\\Users\\LENOVO\\AppData\\Local\\Temp\\ipykernel_16256\\1054690611.py:33: FutureWarning: \n",
      "\n",
      "Passing `palette` without assigning `hue` is deprecated and will be removed in v0.14.0. Assign the `x` variable to `hue` and set `legend=False` for the same effect.\n",
      "\n",
      "  ax = sns.countplot(x=feature, data=hypercarge_location_cleaned, palette='viridis')\n",
      "C:\\Users\\LENOVO\\AppData\\Local\\Temp\\ipykernel_16256\\1054690611.py:33: FutureWarning: \n",
      "\n",
      "Passing `palette` without assigning `hue` is deprecated and will be removed in v0.14.0. Assign the `x` variable to `hue` and set `legend=False` for the same effect.\n",
      "\n",
      "  ax = sns.countplot(x=feature, data=hypercarge_location_cleaned, palette='viridis')\n",
      "C:\\Users\\LENOVO\\AppData\\Local\\Temp\\ipykernel_16256\\1054690611.py:33: FutureWarning: \n",
      "\n",
      "Passing `palette` without assigning `hue` is deprecated and will be removed in v0.14.0. Assign the `x` variable to `hue` and set `legend=False` for the same effect.\n",
      "\n",
      "  ax = sns.countplot(x=feature, data=hypercarge_location_cleaned, palette='viridis')\n"
     ]
    },
    {
     "data": {
      "image/png": "[encoded data removed]",
      "text/plain": [
       "<Figure size 1500x2000 with 15 Axes>"
      ]
     },
     "metadata": {},
     "output_type": "display_data"
    }
   ],
   "source": [
    "import pandas as pd\n",
    "import matplotlib.pyplot as plt\n",
    "import seaborn as sns\n",
    "\n",
    "# Set the style for seaborn\n",
    "sns.set(style='whitegrid')\n",
    "\n",
    "# List of features to plot\n",
    "features_to_plot = [\n",
    "    'numberStacks',\n",
    "    'telemetrySave',\n",
    "    'distributorId',\n",
    "    'corporationId',\n",
    "    'chassis_encoded',\n",
    "    'doorContactSwitch_encoded',\n",
    "    'deadManSwitch_encoded',\n",
    "    'hymaintInstalled_encoded',\n",
    "    'status_errorcode_encoded',\n",
    "    'status_hycErrorCode_encoded',\n",
    "    'status_status_encoded',\n",
    "    'simActivated_encoded',\n",
    "    'isActive_encoded',\n",
    "    'softwareVersion_encoded',\n",
    "    'isFavourite_encoded'\n",
    "]\n",
    "\n",
    "# Create a subplot for each feature with 3 columns and 5 rows\n",
    "plt.figure(figsize=(15, 20))\n",
    "\n",
    "# Create subplots for each feature\n",
    "for i, feature in enumerate(features_to_plot, 1):\n",
    "    plt.subplot(5, 3, i)\n",
    "    ax = sns.countplot(x=feature, data=hypercarge_location_cleaned, palette='viridis')\n",
    "    plt.title(f'Distribution of {feature}')\n",
    "    plt.xlabel(feature)\n",
    "    plt.ylabel('Count')\n",
    "\n",
    "    # Add the count on top of each bar\n",
    "    for p in ax.patches:\n",
    "        ax.annotate(f'{int(p.get_height())}', \n",
    "                    (p.get_x() + p.get_width() / 2., p.get_height()), \n",
    "                    ha='center', va='baseline', fontsize=10, color='black', \n",
    "                    xytext=(0, 5),  # 5 points vertical offset\n",
    "                    textcoords='offset points')\n",
    "\n",
    "plt.tight_layout()\n",
    "plt.show()"
   ]
  },
  {
   "cell_type": "code",
   "execution_count": null,
   "metadata": {},
   "outputs": [],
   "source": []
  }
 ],
 "metadata": {
  "kernelspec": {
   "display_name": "Python 3",
   "language": "python",
   "name": "python3"
  },
  "language_info": {
   "codemirror_mode": {
    "name": "ipython",
    "version": 3
   },
   "file_extension": ".py",
   "mimetype": "text/x-python",
   "name": "python",
   "nbconvert_exporter": "python",
   "pygments_lexer": "ipython3",
   "version": "3.12.6"
  }
 },
 "nbformat": 4,
 "nbformat_minor": 2
}
