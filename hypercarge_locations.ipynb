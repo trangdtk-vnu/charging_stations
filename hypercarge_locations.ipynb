{
 "cells": [
  {
   "cell_type": "markdown",
   "metadata": {},
   "source": [
    "# hypercarge_locations "
   ]
  },
  {
   "cell_type": "code",
   "execution_count": 57,
   "metadata": {},
   "outputs": [],
   "source": [
    "# Importing essential libraries\n",
    "import pandas as pd\n",
    "import numpy as np\n",
    "import matplotlib.pyplot as plt\n",
    "import seaborn as sns"
   ]
  },
  {
   "cell_type": "code",
   "execution_count": 58,
   "metadata": {},
   "outputs": [
    {
     "data": {
      "text/html": [
       "<div>\n",
       "<style scoped>\n",
       "    .dataframe tbody tr th:only-of-type {\n",
       "        vertical-align: middle;\n",
       "    }\n",
       "\n",
       "    .dataframe tbody tr th {\n",
       "        vertical-align: top;\n",
       "    }\n",
       "\n",
       "    .dataframe thead th {\n",
       "        text-align: right;\n",
       "    }\n",
       "</style>\n",
       "<table border=\"1\" class=\"dataframe\">\n",
       "  <thead>\n",
       "    <tr style=\"text-align: right;\">\n",
       "      <th></th>\n",
       "      <th>chargerId</th>\n",
       "      <th>serialNumber</th>\n",
       "      <th>sshurl</th>\n",
       "      <th>sshPort</th>\n",
       "      <th>gpsLat</th>\n",
       "      <th>gpsLong</th>\n",
       "      <th>numberStacks</th>\n",
       "      <th>chassis</th>\n",
       "      <th>emergencyStop</th>\n",
       "      <th>doorContactSwitch</th>\n",
       "      <th>...</th>\n",
       "      <th>corporationName</th>\n",
       "      <th>operatorName</th>\n",
       "      <th>hasVollmacht</th>\n",
       "      <th>hasCommissioningProtocol</th>\n",
       "      <th>surroundingChargers</th>\n",
       "      <th>isFavourite</th>\n",
       "      <th>sessionLiveViewEnabled</th>\n",
       "      <th>finishedEol</th>\n",
       "      <th>lendeeId</th>\n",
       "      <th>lendeeName</th>\n",
       "    </tr>\n",
       "  </thead>\n",
       "  <tbody>\n",
       "    <tr>\n",
       "      <th>0</th>\n",
       "      <td>20800</td>\n",
       "      <td>23BZ1509B</td>\n",
       "      <td>10.245.161.30</td>\n",
       "      <td>NaN</td>\n",
       "      <td>45.041390</td>\n",
       "      <td>11.710673</td>\n",
       "      <td>4</td>\n",
       "      <td>HYC_300</td>\n",
       "      <td>False</td>\n",
       "      <td>True</td>\n",
       "      <td>...</td>\n",
       "      <td>Free To X S.p.A.</td>\n",
       "      <td>NaN</td>\n",
       "      <td>False</td>\n",
       "      <td>False</td>\n",
       "      <td>[{'chargerId': 6772, 'gpsLat': 44.66244, 'gpsL...</td>\n",
       "      <td>False</td>\n",
       "      <td>False</td>\n",
       "      <td>True</td>\n",
       "      <td>NaN</td>\n",
       "      <td>NaN</td>\n",
       "    </tr>\n",
       "    <tr>\n",
       "      <th>1</th>\n",
       "      <td>17737</td>\n",
       "      <td>22BZ5330B</td>\n",
       "      <td>10.245.22.116</td>\n",
       "      <td>NaN</td>\n",
       "      <td>42.029548</td>\n",
       "      <td>11.962168</td>\n",
       "      <td>4</td>\n",
       "      <td>HYC_300</td>\n",
       "      <td>False</td>\n",
       "      <td>True</td>\n",
       "      <td>...</td>\n",
       "      <td>Free To X S.p.A.</td>\n",
       "      <td>NaN</td>\n",
       "      <td>False</td>\n",
       "      <td>False</td>\n",
       "      <td>[{'chargerId': 6771, 'gpsLat': 42.49917, 'gpsL...</td>\n",
       "      <td>False</td>\n",
       "      <td>False</td>\n",
       "      <td>True</td>\n",
       "      <td>NaN</td>\n",
       "      <td>NaN</td>\n",
       "    </tr>\n",
       "    <tr>\n",
       "      <th>2</th>\n",
       "      <td>83776</td>\n",
       "      <td>24BZ1716B</td>\n",
       "      <td>10.246.181.216</td>\n",
       "      <td>NaN</td>\n",
       "      <td>43.812700</td>\n",
       "      <td>11.154000</td>\n",
       "      <td>4</td>\n",
       "      <td>HYC_300</td>\n",
       "      <td>False</td>\n",
       "      <td>True</td>\n",
       "      <td>...</td>\n",
       "      <td>Free To X S.p.A.</td>\n",
       "      <td>NaN</td>\n",
       "      <td>False</td>\n",
       "      <td>False</td>\n",
       "      <td>[{'chargerId': 6772, 'gpsLat': 44.66244, 'gpsL...</td>\n",
       "      <td>False</td>\n",
       "      <td>NaN</td>\n",
       "      <td>True</td>\n",
       "      <td>NaN</td>\n",
       "      <td>NaN</td>\n",
       "    </tr>\n",
       "    <tr>\n",
       "      <th>3</th>\n",
       "      <td>19519</td>\n",
       "      <td>23BZ1033B</td>\n",
       "      <td>10.245.29.175</td>\n",
       "      <td>NaN</td>\n",
       "      <td>42.034378</td>\n",
       "      <td>12.648893</td>\n",
       "      <td>4</td>\n",
       "      <td>HYC_300</td>\n",
       "      <td>False</td>\n",
       "      <td>True</td>\n",
       "      <td>...</td>\n",
       "      <td>Free To X S.p.A.</td>\n",
       "      <td>NaN</td>\n",
       "      <td>False</td>\n",
       "      <td>False</td>\n",
       "      <td>[{'chargerId': 6771, 'gpsLat': 42.49917, 'gpsL...</td>\n",
       "      <td>False</td>\n",
       "      <td>False</td>\n",
       "      <td>True</td>\n",
       "      <td>NaN</td>\n",
       "      <td>NaN</td>\n",
       "    </tr>\n",
       "    <tr>\n",
       "      <th>4</th>\n",
       "      <td>83781</td>\n",
       "      <td>24BZ1721B</td>\n",
       "      <td>10.246.186.62</td>\n",
       "      <td>NaN</td>\n",
       "      <td>NaN</td>\n",
       "      <td>NaN</td>\n",
       "      <td>4</td>\n",
       "      <td>HYC_300</td>\n",
       "      <td>False</td>\n",
       "      <td>True</td>\n",
       "      <td>...</td>\n",
       "      <td>Free To X S.p.A.</td>\n",
       "      <td>NaN</td>\n",
       "      <td>False</td>\n",
       "      <td>False</td>\n",
       "      <td>NaN</td>\n",
       "      <td>False</td>\n",
       "      <td>NaN</td>\n",
       "      <td>True</td>\n",
       "      <td>NaN</td>\n",
       "      <td>NaN</td>\n",
       "    </tr>\n",
       "  </tbody>\n",
       "</table>\n",
       "<p>5 rows × 74 columns</p>\n",
       "</div>"
      ],
      "text/plain": [
       "   chargerId serialNumber          sshurl  sshPort     gpsLat    gpsLong  \\\n",
       "0      20800    23BZ1509B   10.245.161.30      NaN  45.041390  11.710673   \n",
       "1      17737    22BZ5330B   10.245.22.116      NaN  42.029548  11.962168   \n",
       "2      83776    24BZ1716B  10.246.181.216      NaN  43.812700  11.154000   \n",
       "3      19519    23BZ1033B   10.245.29.175      NaN  42.034378  12.648893   \n",
       "4      83781    24BZ1721B   10.246.186.62      NaN        NaN        NaN   \n",
       "\n",
       "   numberStacks  chassis  emergencyStop  doorContactSwitch  ...  \\\n",
       "0             4  HYC_300          False               True  ...   \n",
       "1             4  HYC_300          False               True  ...   \n",
       "2             4  HYC_300          False               True  ...   \n",
       "3             4  HYC_300          False               True  ...   \n",
       "4             4  HYC_300          False               True  ...   \n",
       "\n",
       "    corporationName  operatorName  hasVollmacht hasCommissioningProtocol  \\\n",
       "0  Free To X S.p.A.           NaN         False                    False   \n",
       "1  Free To X S.p.A.           NaN         False                    False   \n",
       "2  Free To X S.p.A.           NaN         False                    False   \n",
       "3  Free To X S.p.A.           NaN         False                    False   \n",
       "4  Free To X S.p.A.           NaN         False                    False   \n",
       "\n",
       "                                 surroundingChargers isFavourite  \\\n",
       "0  [{'chargerId': 6772, 'gpsLat': 44.66244, 'gpsL...       False   \n",
       "1  [{'chargerId': 6771, 'gpsLat': 42.49917, 'gpsL...       False   \n",
       "2  [{'chargerId': 6772, 'gpsLat': 44.66244, 'gpsL...       False   \n",
       "3  [{'chargerId': 6771, 'gpsLat': 42.49917, 'gpsL...       False   \n",
       "4                                                NaN       False   \n",
       "\n",
       "   sessionLiveViewEnabled  finishedEol lendeeId lendeeName  \n",
       "0                   False         True      NaN        NaN  \n",
       "1                   False         True      NaN        NaN  \n",
       "2                     NaN         True      NaN        NaN  \n",
       "3                   False         True      NaN        NaN  \n",
       "4                     NaN         True      NaN        NaN  \n",
       "\n",
       "[5 rows x 74 columns]"
      ]
     },
     "execution_count": 58,
     "metadata": {},
     "output_type": "execute_result"
    }
   ],
   "source": [
    "# Load the dataset\n",
    "hypercarge_location = pd.read_csv(r'dataset\\full\\hypercarge_locations.csv')\n",
    "\n",
    "# Preview the first few rows\n",
    "hypercarge_location.head()"
   ]
  },
  {
   "cell_type": "code",
   "execution_count": 59,
   "metadata": {},
   "outputs": [
    {
     "data": {
      "text/html": [
       "<div>\n",
       "<style scoped>\n",
       "    .dataframe tbody tr th:only-of-type {\n",
       "        vertical-align: middle;\n",
       "    }\n",
       "\n",
       "    .dataframe tbody tr th {\n",
       "        vertical-align: top;\n",
       "    }\n",
       "\n",
       "    .dataframe thead th {\n",
       "        text-align: right;\n",
       "    }\n",
       "</style>\n",
       "<table border=\"1\" class=\"dataframe\">\n",
       "  <thead>\n",
       "    <tr style=\"text-align: right;\">\n",
       "      <th></th>\n",
       "      <th>chargerId</th>\n",
       "      <th>sshPort</th>\n",
       "      <th>gpsLat</th>\n",
       "      <th>gpsLong</th>\n",
       "      <th>numberStacks</th>\n",
       "      <th>simIccid</th>\n",
       "      <th>serviceExpirationDate</th>\n",
       "      <th>softwareExpirationDate</th>\n",
       "      <th>locationZipCode</th>\n",
       "      <th>calibrationLawOrdered</th>\n",
       "      <th>...</th>\n",
       "      <th>defaultSoftwareVersion</th>\n",
       "      <th>officialEichrechtCompletion</th>\n",
       "      <th>endClientId</th>\n",
       "      <th>distributorId</th>\n",
       "      <th>corporationId</th>\n",
       "      <th>operatorId</th>\n",
       "      <th>endClientName</th>\n",
       "      <th>operatorName</th>\n",
       "      <th>lendeeId</th>\n",
       "      <th>lendeeName</th>\n",
       "    </tr>\n",
       "  </thead>\n",
       "  <tbody>\n",
       "    <tr>\n",
       "      <th>count</th>\n",
       "      <td>374.000000</td>\n",
       "      <td>0.0</td>\n",
       "      <td>259.000000</td>\n",
       "      <td>259.000000</td>\n",
       "      <td>374.000000</td>\n",
       "      <td>3.720000e+02</td>\n",
       "      <td>0.0</td>\n",
       "      <td>0.0</td>\n",
       "      <td>153.000000</td>\n",
       "      <td>0.0</td>\n",
       "      <td>...</td>\n",
       "      <td>0.0</td>\n",
       "      <td>0.0</td>\n",
       "      <td>0.0</td>\n",
       "      <td>374.000000</td>\n",
       "      <td>374.000000</td>\n",
       "      <td>0.0</td>\n",
       "      <td>0.0</td>\n",
       "      <td>0.0</td>\n",
       "      <td>0.0</td>\n",
       "      <td>0.0</td>\n",
       "    </tr>\n",
       "    <tr>\n",
       "      <th>mean</th>\n",
       "      <td>43247.780749</td>\n",
       "      <td>NaN</td>\n",
       "      <td>41.117911</td>\n",
       "      <td>6.143900</td>\n",
       "      <td>3.823529</td>\n",
       "      <td>8.945020e+18</td>\n",
       "      <td>NaN</td>\n",
       "      <td>NaN</td>\n",
       "      <td>35724.941176</td>\n",
       "      <td>NaN</td>\n",
       "      <td>...</td>\n",
       "      <td>NaN</td>\n",
       "      <td>NaN</td>\n",
       "      <td>NaN</td>\n",
       "      <td>184.350267</td>\n",
       "      <td>186.018717</td>\n",
       "      <td>NaN</td>\n",
       "      <td>NaN</td>\n",
       "      <td>NaN</td>\n",
       "      <td>NaN</td>\n",
       "      <td>NaN</td>\n",
       "    </tr>\n",
       "    <tr>\n",
       "      <th>std</th>\n",
       "      <td>33380.514195</td>\n",
       "      <td>NaN</td>\n",
       "      <td>9.314472</td>\n",
       "      <td>15.581104</td>\n",
       "      <td>0.421770</td>\n",
       "      <td>7.217696e+06</td>\n",
       "      <td>NaN</td>\n",
       "      <td>NaN</td>\n",
       "      <td>24216.932744</td>\n",
       "      <td>NaN</td>\n",
       "      <td>...</td>\n",
       "      <td>NaN</td>\n",
       "      <td>NaN</td>\n",
       "      <td>NaN</td>\n",
       "      <td>84.130167</td>\n",
       "      <td>85.055996</td>\n",
       "      <td>NaN</td>\n",
       "      <td>NaN</td>\n",
       "      <td>NaN</td>\n",
       "      <td>NaN</td>\n",
       "      <td>NaN</td>\n",
       "    </tr>\n",
       "    <tr>\n",
       "      <th>min</th>\n",
       "      <td>6590.000000</td>\n",
       "      <td>NaN</td>\n",
       "      <td>0.000000</td>\n",
       "      <td>-50.000000</td>\n",
       "      <td>1.000000</td>\n",
       "      <td>8.945020e+18</td>\n",
       "      <td>NaN</td>\n",
       "      <td>NaN</td>\n",
       "      <td>10.000000</td>\n",
       "      <td>NaN</td>\n",
       "      <td>...</td>\n",
       "      <td>NaN</td>\n",
       "      <td>NaN</td>\n",
       "      <td>NaN</td>\n",
       "      <td>180.000000</td>\n",
       "      <td>180.000000</td>\n",
       "      <td>NaN</td>\n",
       "      <td>NaN</td>\n",
       "      <td>NaN</td>\n",
       "      <td>NaN</td>\n",
       "      <td>NaN</td>\n",
       "    </tr>\n",
       "    <tr>\n",
       "      <th>25%</th>\n",
       "      <td>13418.250000</td>\n",
       "      <td>NaN</td>\n",
       "      <td>41.849835</td>\n",
       "      <td>9.046675</td>\n",
       "      <td>4.000000</td>\n",
       "      <td>8.945020e+18</td>\n",
       "      <td>NaN</td>\n",
       "      <td>NaN</td>\n",
       "      <td>20045.000000</td>\n",
       "      <td>NaN</td>\n",
       "      <td>...</td>\n",
       "      <td>NaN</td>\n",
       "      <td>NaN</td>\n",
       "      <td>NaN</td>\n",
       "      <td>180.000000</td>\n",
       "      <td>180.000000</td>\n",
       "      <td>NaN</td>\n",
       "      <td>NaN</td>\n",
       "      <td>NaN</td>\n",
       "      <td>NaN</td>\n",
       "      <td>NaN</td>\n",
       "    </tr>\n",
       "    <tr>\n",
       "      <th>50%</th>\n",
       "      <td>19747.500000</td>\n",
       "      <td>NaN</td>\n",
       "      <td>43.818792</td>\n",
       "      <td>11.419845</td>\n",
       "      <td>4.000000</td>\n",
       "      <td>8.945020e+18</td>\n",
       "      <td>NaN</td>\n",
       "      <td>NaN</td>\n",
       "      <td>31032.000000</td>\n",
       "      <td>NaN</td>\n",
       "      <td>...</td>\n",
       "      <td>NaN</td>\n",
       "      <td>NaN</td>\n",
       "      <td>NaN</td>\n",
       "      <td>180.000000</td>\n",
       "      <td>180.000000</td>\n",
       "      <td>NaN</td>\n",
       "      <td>NaN</td>\n",
       "      <td>NaN</td>\n",
       "      <td>NaN</td>\n",
       "      <td>NaN</td>\n",
       "    </tr>\n",
       "    <tr>\n",
       "      <th>75%</th>\n",
       "      <td>83748.750000</td>\n",
       "      <td>NaN</td>\n",
       "      <td>44.962939</td>\n",
       "      <td>12.903881</td>\n",
       "      <td>4.000000</td>\n",
       "      <td>8.945020e+18</td>\n",
       "      <td>NaN</td>\n",
       "      <td>NaN</td>\n",
       "      <td>50019.000000</td>\n",
       "      <td>NaN</td>\n",
       "      <td>...</td>\n",
       "      <td>NaN</td>\n",
       "      <td>NaN</td>\n",
       "      <td>NaN</td>\n",
       "      <td>180.000000</td>\n",
       "      <td>180.000000</td>\n",
       "      <td>NaN</td>\n",
       "      <td>NaN</td>\n",
       "      <td>NaN</td>\n",
       "      <td>NaN</td>\n",
       "      <td>NaN</td>\n",
       "    </tr>\n",
       "    <tr>\n",
       "      <th>max</th>\n",
       "      <td>83842.000000</td>\n",
       "      <td>NaN</td>\n",
       "      <td>57.000000</td>\n",
       "      <td>16.777855</td>\n",
       "      <td>4.000000</td>\n",
       "      <td>8.945020e+18</td>\n",
       "      <td>NaN</td>\n",
       "      <td>NaN</td>\n",
       "      <td>83100.000000</td>\n",
       "      <td>NaN</td>\n",
       "      <td>...</td>\n",
       "      <td>NaN</td>\n",
       "      <td>NaN</td>\n",
       "      <td>NaN</td>\n",
       "      <td>1807.000000</td>\n",
       "      <td>1807.000000</td>\n",
       "      <td>NaN</td>\n",
       "      <td>NaN</td>\n",
       "      <td>NaN</td>\n",
       "      <td>NaN</td>\n",
       "      <td>NaN</td>\n",
       "    </tr>\n",
       "  </tbody>\n",
       "</table>\n",
       "<p>8 rows × 24 columns</p>\n",
       "</div>"
      ],
      "text/plain": [
       "          chargerId  sshPort      gpsLat     gpsLong  numberStacks  \\\n",
       "count    374.000000      0.0  259.000000  259.000000    374.000000   \n",
       "mean   43247.780749      NaN   41.117911    6.143900      3.823529   \n",
       "std    33380.514195      NaN    9.314472   15.581104      0.421770   \n",
       "min     6590.000000      NaN    0.000000  -50.000000      1.000000   \n",
       "25%    13418.250000      NaN   41.849835    9.046675      4.000000   \n",
       "50%    19747.500000      NaN   43.818792   11.419845      4.000000   \n",
       "75%    83748.750000      NaN   44.962939   12.903881      4.000000   \n",
       "max    83842.000000      NaN   57.000000   16.777855      4.000000   \n",
       "\n",
       "           simIccid  serviceExpirationDate  softwareExpirationDate  \\\n",
       "count  3.720000e+02                    0.0                     0.0   \n",
       "mean   8.945020e+18                    NaN                     NaN   \n",
       "std    7.217696e+06                    NaN                     NaN   \n",
       "min    8.945020e+18                    NaN                     NaN   \n",
       "25%    8.945020e+18                    NaN                     NaN   \n",
       "50%    8.945020e+18                    NaN                     NaN   \n",
       "75%    8.945020e+18                    NaN                     NaN   \n",
       "max    8.945020e+18                    NaN                     NaN   \n",
       "\n",
       "       locationZipCode  calibrationLawOrdered  ...  defaultSoftwareVersion  \\\n",
       "count       153.000000                    0.0  ...                     0.0   \n",
       "mean      35724.941176                    NaN  ...                     NaN   \n",
       "std       24216.932744                    NaN  ...                     NaN   \n",
       "min          10.000000                    NaN  ...                     NaN   \n",
       "25%       20045.000000                    NaN  ...                     NaN   \n",
       "50%       31032.000000                    NaN  ...                     NaN   \n",
       "75%       50019.000000                    NaN  ...                     NaN   \n",
       "max       83100.000000                    NaN  ...                     NaN   \n",
       "\n",
       "       officialEichrechtCompletion  endClientId  distributorId  corporationId  \\\n",
       "count                          0.0          0.0     374.000000     374.000000   \n",
       "mean                           NaN          NaN     184.350267     186.018717   \n",
       "std                            NaN          NaN      84.130167      85.055996   \n",
       "min                            NaN          NaN     180.000000     180.000000   \n",
       "25%                            NaN          NaN     180.000000     180.000000   \n",
       "50%                            NaN          NaN     180.000000     180.000000   \n",
       "75%                            NaN          NaN     180.000000     180.000000   \n",
       "max                            NaN          NaN    1807.000000    1807.000000   \n",
       "\n",
       "       operatorId  endClientName  operatorName  lendeeId  lendeeName  \n",
       "count         0.0            0.0           0.0       0.0         0.0  \n",
       "mean          NaN            NaN           NaN       NaN         NaN  \n",
       "std           NaN            NaN           NaN       NaN         NaN  \n",
       "min           NaN            NaN           NaN       NaN         NaN  \n",
       "25%           NaN            NaN           NaN       NaN         NaN  \n",
       "50%           NaN            NaN           NaN       NaN         NaN  \n",
       "75%           NaN            NaN           NaN       NaN         NaN  \n",
       "max           NaN            NaN           NaN       NaN         NaN  \n",
       "\n",
       "[8 rows x 24 columns]"
      ]
     },
     "execution_count": 59,
     "metadata": {},
     "output_type": "execute_result"
    }
   ],
   "source": [
    "# Check the statistics of numeric columns\n",
    "hypercarge_location.describe()"
   ]
  },
  {
   "cell_type": "markdown",
   "metadata": {},
   "source": [
    "## Handling missing values"
   ]
  },
  {
   "cell_type": "code",
   "execution_count": 60,
   "metadata": {},
   "outputs": [
    {
     "data": {
      "text/plain": [
       "chargerId                   0\n",
       "serialNumber                0\n",
       "sshurl                      0\n",
       "sshPort                   374\n",
       "gpsLat                    115\n",
       "                         ... \n",
       "isFavourite                 0\n",
       "sessionLiveViewEnabled    160\n",
       "finishedEol                 0\n",
       "lendeeId                  374\n",
       "lendeeName                374\n",
       "Length: 74, dtype: int64"
      ]
     },
     "execution_count": 60,
     "metadata": {},
     "output_type": "execute_result"
    }
   ],
   "source": [
    "# Check for missing values\n",
    "hypercarge_location.isnull().sum()"
   ]
  },
  {
   "cell_type": "code",
   "execution_count": 61,
   "metadata": {},
   "outputs": [
    {
     "data": {
      "text/plain": [
       "0"
      ]
     },
     "execution_count": 61,
     "metadata": {},
     "output_type": "execute_result"
    }
   ],
   "source": [
    "# Check for duplicates\n",
    "hypercarge_location.duplicated().sum()"
   ]
  },
  {
   "cell_type": "markdown",
   "metadata": {},
   "source": [
    "The maximumn number of columns is 374, so I deleted all the features with 374 missing values."
   ]
  },
  {
   "cell_type": "code",
   "execution_count": 62,
   "metadata": {},
   "outputs": [
    {
     "name": "stdout",
     "output_type": "stream",
     "text": [
      "Dropped columns: ['sshPort', 'serviceExpirationDate', 'softwareExpirationDate', 'calibrationLawOrdered', 'lastMaintenance', 'defaultSoftwareVersion', 'officialEichrechtCompletion', 'endClientId', 'operatorId', 'endClientName', 'operatorName', 'lendeeId', 'lendeeName']\n",
      "   chargerId serialNumber          sshurl     gpsLat    gpsLong  numberStacks  \\\n",
      "0      20800    23BZ1509B   10.245.161.30  45.041390  11.710673             4   \n",
      "1      17737    22BZ5330B   10.245.22.116  42.029548  11.962168             4   \n",
      "2      83776    24BZ1716B  10.246.181.216  43.812700  11.154000             4   \n",
      "3      19519    23BZ1033B   10.245.29.175  42.034378  12.648893             4   \n",
      "4      83781    24BZ1721B   10.246.186.62        NaN        NaN             4   \n",
      "\n",
      "   chassis  emergencyStop  doorContactSwitch standAloneOrBackend  ...  \\\n",
      "0  HYC_300          False               True             Backend  ...   \n",
      "1  HYC_300          False               True             Backend  ...   \n",
      "2  HYC_300          False               True             Backend  ...   \n",
      "3  HYC_300          False               True             Backend  ...   \n",
      "4  HYC_300          False               True             Backend  ...   \n",
      "\n",
      "   corporationId  enableClientWebinterface   distributorName  \\\n",
      "0            180                     False  Free To X S.p.A.   \n",
      "1            180                     False  Free To X S.p.A.   \n",
      "2            180                     False  Free To X S.p.A.   \n",
      "3            180                     False  Free To X S.p.A.   \n",
      "4            180                     False  Free To X S.p.A.   \n",
      "\n",
      "    corporationName hasVollmacht hasCommissioningProtocol  \\\n",
      "0  Free To X S.p.A.        False                    False   \n",
      "1  Free To X S.p.A.        False                    False   \n",
      "2  Free To X S.p.A.        False                    False   \n",
      "3  Free To X S.p.A.        False                    False   \n",
      "4  Free To X S.p.A.        False                    False   \n",
      "\n",
      "                                 surroundingChargers isFavourite  \\\n",
      "0  [{'chargerId': 6772, 'gpsLat': 44.66244, 'gpsL...       False   \n",
      "1  [{'chargerId': 6771, 'gpsLat': 42.49917, 'gpsL...       False   \n",
      "2  [{'chargerId': 6772, 'gpsLat': 44.66244, 'gpsL...       False   \n",
      "3  [{'chargerId': 6771, 'gpsLat': 42.49917, 'gpsL...       False   \n",
      "4                                                NaN       False   \n",
      "\n",
      "  sessionLiveViewEnabled  finishedEol  \n",
      "0                  False         True  \n",
      "1                  False         True  \n",
      "2                    NaN         True  \n",
      "3                  False         True  \n",
      "4                    NaN         True  \n",
      "\n",
      "[5 rows x 61 columns]\n"
     ]
    }
   ],
   "source": [
    "# Check for columns with exactly 374 missing values\n",
    "missing_value_count = hypercarge_location.isnull().sum()\n",
    "\n",
    "# Identify columns where the missing value count is exactly 374\n",
    "columns_to_drop = missing_value_count[missing_value_count == 374].index\n",
    "\n",
    "# Drop those columns\n",
    "hypercarge_location_cleaned = hypercarge_location.drop(columns=columns_to_drop)\n",
    "\n",
    "# Check the result\n",
    "print(f\"Dropped columns: {list(columns_to_drop)}\")\n",
    "print(hypercarge_location_cleaned.head())"
   ]
  },
  {
   "cell_type": "markdown",
   "metadata": {},
   "source": [
    "New dataset name \"hypercarge_location_cleaned\" after deleting all features have 374 missing values."
   ]
  },
  {
   "cell_type": "code",
   "execution_count": 63,
   "metadata": {},
   "outputs": [
    {
     "name": "stdout",
     "output_type": "stream",
     "text": [
      "gpsLat                    115\n",
      "gpsLong                   115\n",
      "simIccid                    2\n",
      "commissioningDate         107\n",
      "chargePointIdentity       113\n",
      "customerIccid             336\n",
      "warrantyExpiration        160\n",
      "websocketUrl              114\n",
      "locationStreet            221\n",
      "locationTown              221\n",
      "locationZipCode           221\n",
      "locationProvince          221\n",
      "locationCountry           147\n",
      "locationUpdateNote        252\n",
      "status_hycErrorCode        85\n",
      "status_text               213\n",
      "simActivationDate          35\n",
      "simLastRequest             35\n",
      "hymaintVersion             48\n",
      "surroundingChargers       115\n",
      "sessionLiveViewEnabled    160\n",
      "dtype: int64\n"
     ]
    }
   ],
   "source": [
    "# Find features with missing values\n",
    "missing_values = hypercarge_location_cleaned.isnull().sum()\n",
    "\n",
    "# Filter to show only columns with missing values\n",
    "missing_values = missing_values[missing_values > 0]\n",
    "\n",
    "# Display features with missing values and the count\n",
    "print(missing_values)"
   ]
  },
  {
   "cell_type": "markdown",
   "metadata": {},
   "source": [
    "There are still a lot of features with too many missing values. Continue dropping features with > 200 missing values."
   ]
  },
  {
   "cell_type": "code",
   "execution_count": 64,
   "metadata": {},
   "outputs": [
    {
     "name": "stdout",
     "output_type": "stream",
     "text": [
      "Dropped columns: ['sshPort', 'customerIccid', 'serviceExpirationDate', 'softwareExpirationDate', 'locationStreet', 'locationTown', 'locationZipCode', 'locationProvince', 'locationUpdateNote', 'calibrationLawOrdered', 'status_text', 'lastMaintenance', 'defaultSoftwareVersion', 'officialEichrechtCompletion', 'endClientId', 'operatorId', 'endClientName', 'operatorName', 'lendeeId', 'lendeeName']\n",
      "   chargerId serialNumber          sshurl     gpsLat    gpsLong  numberStacks  \\\n",
      "0      20800    23BZ1509B   10.245.161.30  45.041390  11.710673             4   \n",
      "1      17737    22BZ5330B   10.245.22.116  42.029548  11.962168             4   \n",
      "2      83776    24BZ1716B  10.246.181.216  43.812700  11.154000             4   \n",
      "3      19519    23BZ1033B   10.245.29.175  42.034378  12.648893             4   \n",
      "4      83781    24BZ1721B   10.246.186.62        NaN        NaN             4   \n",
      "\n",
      "   chassis  emergencyStop  doorContactSwitch standAloneOrBackend  ...  \\\n",
      "0  HYC_300          False               True             Backend  ...   \n",
      "1  HYC_300          False               True             Backend  ...   \n",
      "2  HYC_300          False               True             Backend  ...   \n",
      "3  HYC_300          False               True             Backend  ...   \n",
      "4  HYC_300          False               True             Backend  ...   \n",
      "\n",
      "   corporationId  enableClientWebinterface   distributorName  \\\n",
      "0            180                     False  Free To X S.p.A.   \n",
      "1            180                     False  Free To X S.p.A.   \n",
      "2            180                     False  Free To X S.p.A.   \n",
      "3            180                     False  Free To X S.p.A.   \n",
      "4            180                     False  Free To X S.p.A.   \n",
      "\n",
      "    corporationName hasVollmacht hasCommissioningProtocol  \\\n",
      "0  Free To X S.p.A.        False                    False   \n",
      "1  Free To X S.p.A.        False                    False   \n",
      "2  Free To X S.p.A.        False                    False   \n",
      "3  Free To X S.p.A.        False                    False   \n",
      "4  Free To X S.p.A.        False                    False   \n",
      "\n",
      "                                 surroundingChargers  isFavourite  \\\n",
      "0  [{'chargerId': 6772, 'gpsLat': 44.66244, 'gpsL...        False   \n",
      "1  [{'chargerId': 6771, 'gpsLat': 42.49917, 'gpsL...        False   \n",
      "2  [{'chargerId': 6772, 'gpsLat': 44.66244, 'gpsL...        False   \n",
      "3  [{'chargerId': 6771, 'gpsLat': 42.49917, 'gpsL...        False   \n",
      "4                                                NaN        False   \n",
      "\n",
      "   sessionLiveViewEnabled  finishedEol  \n",
      "0                   False         True  \n",
      "1                   False         True  \n",
      "2                     NaN         True  \n",
      "3                   False         True  \n",
      "4                     NaN         True  \n",
      "\n",
      "[5 rows x 54 columns]\n"
     ]
    }
   ],
   "source": [
    "# Identify columns where the missing value count is exactly 374\n",
    "columns_to_drop = missing_value_count[missing_value_count > 200].index\n",
    "\n",
    "# Drop those columns\n",
    "hypercarge_location_cleaned = hypercarge_location.drop(columns=columns_to_drop)\n",
    "\n",
    "# Check the result\n",
    "print(f\"Dropped columns: {list(columns_to_drop)}\")\n",
    "print(hypercarge_location_cleaned.head())"
   ]
  },
  {
   "cell_type": "code",
   "execution_count": 65,
   "metadata": {},
   "outputs": [
    {
     "name": "stdout",
     "output_type": "stream",
     "text": [
      "gpsLat                    115\n",
      "gpsLong                   115\n",
      "simIccid                    2\n",
      "commissioningDate         107\n",
      "chargePointIdentity       113\n",
      "warrantyExpiration        160\n",
      "websocketUrl              114\n",
      "locationCountry           147\n",
      "status_hycErrorCode        85\n",
      "simActivationDate          35\n",
      "simLastRequest             35\n",
      "hymaintVersion             48\n",
      "surroundingChargers       115\n",
      "sessionLiveViewEnabled    160\n",
      "dtype: int64\n"
     ]
    }
   ],
   "source": [
    "# Find features with missing values\n",
    "missing_values = hypercarge_location_cleaned.isnull().sum()\n",
    "\n",
    "# Filter to show only columns with missing values\n",
    "missing_values = missing_values[missing_values > 0]\n",
    "\n",
    "# Display features with missing values and the count\n",
    "print(missing_values)"
   ]
  },
  {
   "cell_type": "markdown",
   "metadata": {},
   "source": [
    "simActivationDate and simLastRequest both have 35 missing values, I want to see if when simActivationDate = NaN, simLastRequest is also NaN"
   ]
  },
  {
   "cell_type": "code",
   "execution_count": 66,
   "metadata": {},
   "outputs": [
    {
     "name": "stdout",
     "output_type": "stream",
     "text": [
      "simLastRequest\n",
      "True    35\n",
      "Name: count, dtype: int64\n"
     ]
    }
   ],
   "source": [
    "# Check if simLastRequest is NaN when simActivationDate is NaN\n",
    "nan_check = hypercarge_location_cleaned[hypercarge_location_cleaned['simActivationDate'].isnull()]['simLastRequest'].isnull().value_counts()\n",
    "\n",
    "# Display the results\n",
    "print(nan_check)"
   ]
  },
  {
   "cell_type": "markdown",
   "metadata": {},
   "source": [
    "There is a feature simActivated (Boolean), I want to check if simActivated = False, both simActivationDate and simLastRequest = NaN"
   ]
  },
  {
   "cell_type": "code",
   "execution_count": 67,
   "metadata": {},
   "outputs": [
    {
     "name": "stdout",
     "output_type": "stream",
     "text": [
      "Number of rows where simActivated is False and both simActivationDate and simLastRequest are NaN: 35\n"
     ]
    }
   ],
   "source": [
    "# Check if both simActivationDate and simLastRequest are NaN when simActivated is False\n",
    "nan_check_sim_activated_false = hypercarge_location_cleaned.loc[\n",
    "    hypercarge_location_cleaned['simActivated'] == False\n",
    "]\n",
    "\n",
    "# Count how many of those rows have simActivationDate and simLastRequest as NaN\n",
    "count_nan_rows = nan_check_sim_activated_false[\n",
    "    nan_check_sim_activated_false['simActivationDate'].isnull() & \n",
    "    nan_check_sim_activated_false['simLastRequest'].isnull()\n",
    "].shape[0]\n",
    "\n",
    "# Display the result\n",
    "print(\"Number of rows where simActivated is False and both simActivationDate and simLastRequest are NaN:\", count_nan_rows)"
   ]
  },
  {
   "cell_type": "markdown",
   "metadata": {},
   "source": [
    "Since both simActivationDate and simLastRequest are NaN when simActivated is False, their utility in the analysis may be limited => Drop these 2 features."
   ]
  },
  {
   "cell_type": "code",
   "execution_count": 68,
   "metadata": {},
   "outputs": [],
   "source": [
    "# Delete the features from the dataset\n",
    "hypercarge_location_cleaned.drop(columns=['simActivationDate', 'simLastRequest'], inplace=True)"
   ]
  },
  {
   "cell_type": "markdown",
   "metadata": {},
   "source": [
    "I wanted to check if simIccid important feature. First, let's see how many different values are there in that feature"
   ]
  },
  {
   "cell_type": "code",
   "execution_count": 69,
   "metadata": {},
   "outputs": [
    {
     "name": "stdout",
     "output_type": "stream",
     "text": [
      "Number of unique values in simIccid: 107\n"
     ]
    }
   ],
   "source": [
    "# Count the number of unique values in the ICCID feature (simIccid)\n",
    "unique_iccid_values_count = hypercarge_location_cleaned['simIccid'].nunique()\n",
    "\n",
    "# Display the count of unique values\n",
    "print(\"Number of unique values in simIccid:\", unique_iccid_values_count)"
   ]
  },
  {
   "cell_type": "markdown",
   "metadata": {},
   "source": [
    "There are 107 different values which is a large number. There might be ok to delete this feature."
   ]
  },
  {
   "cell_type": "code",
   "execution_count": 70,
   "metadata": {},
   "outputs": [],
   "source": [
    "# Delete the IsimIccidCCID feature from the dataset\n",
    "hypercarge_location_cleaned.drop(columns=['simIccid'], inplace=True)"
   ]
  },
  {
   "cell_type": "markdown",
   "metadata": {},
   "source": [
    "Let's see if chargePointIdentity is worth to analysis."
   ]
  },
  {
   "cell_type": "code",
   "execution_count": 71,
   "metadata": {},
   "outputs": [
    {
     "name": "stdout",
     "output_type": "stream",
     "text": [
      "Number of unique values in chargePointIdentity: 258\n"
     ]
    }
   ],
   "source": [
    "# Count the number of unique values in the feature \"Unique identity or name of the charge point\"\n",
    "unique_charge_point_identity_count = hypercarge_location_cleaned['chargePointIdentity'].nunique()\n",
    "\n",
    "# Display the count of unique values\n",
    "print(\"Number of unique values in chargePointIdentity:\", unique_charge_point_identity_count)"
   ]
  },
  {
   "cell_type": "markdown",
   "metadata": {},
   "source": [
    "There are also too many different ID for this feature. Also, we already have ID for charger, I think it is not important to include this feature into analysing."
   ]
  },
  {
   "cell_type": "code",
   "execution_count": 72,
   "metadata": {},
   "outputs": [],
   "source": [
    "# Delete the chargePointIdentity feature from the dataset\n",
    "hypercarge_location_cleaned.drop(columns=['chargePointIdentity'], inplace=True)"
   ]
  },
  {
   "cell_type": "markdown",
   "metadata": {},
   "source": [
    "With too many missing values, warrantyExpiration (160), websocketUrl (114); hymaintVersion; commissioningDate (107) affect operational and maintenance aspects rather than directly influencing customer behaviour. It is reasonable to delete this feature."
   ]
  },
  {
   "cell_type": "code",
   "execution_count": 73,
   "metadata": {},
   "outputs": [],
   "source": [
    "# Delete warrantyExpiration, websocketUrl and hymaintVersion feature from the dataset\n",
    "hypercarge_location_cleaned.drop(columns=['warrantyExpiration', 'websocketUrl', 'hymaintVersion', 'commissioningDate'], inplace=True)"
   ]
  },
  {
   "cell_type": "markdown",
   "metadata": {},
   "source": [
    "Diagnose status_hycErrorCode"
   ]
  },
  {
   "cell_type": "code",
   "execution_count": 74,
   "metadata": {},
   "outputs": [
    {
     "name": "stdout",
     "output_type": "stream",
     "text": [
      "Number of unique values in status_hycErrorCode: 2\n",
      "Unique values and their counts:\n",
      " status_hycErrorCode\n",
      "NoError        283\n",
      "Door Opened      6\n",
      "Name: count, dtype: int64\n"
     ]
    }
   ],
   "source": [
    "# Count the number of unique values in the feature \"status_hycErrorCode\" and display those values\n",
    "unique_hyc_error_codes = hypercarge_location_cleaned['status_hycErrorCode'].value_counts()\n",
    "\n",
    "# Display the count of unique values and the unique values themselves\n",
    "unique_hyc_error_codes_count = unique_hyc_error_codes.shape[0]\n",
    "\n",
    "print(\"Number of unique values in status_hycErrorCode:\", unique_hyc_error_codes_count)\n",
    "print(\"Unique values and their counts:\\n\", unique_hyc_error_codes)"
   ]
  },
  {
   "cell_type": "code",
   "execution_count": 75,
   "metadata": {},
   "outputs": [],
   "source": [
    "# Fill missing values in the status_hycErrorCode with \"Unknown\"\n",
    "hypercarge_location_cleaned['status_hycErrorCode'] = hypercarge_location_cleaned['status_hycErrorCode'].fillna('Unknown')"
   ]
  },
  {
   "cell_type": "markdown",
   "metadata": {},
   "source": [
    "Diagnose sessionLiveViewEnabled"
   ]
  },
  {
   "cell_type": "code",
   "execution_count": 76,
   "metadata": {},
   "outputs": [
    {
     "name": "stdout",
     "output_type": "stream",
     "text": [
      "Number of unique values in sessionLiveViewEnabled: 1\n",
      "Unique values and their counts:\n",
      " sessionLiveViewEnabled\n",
      "False    214\n",
      "Name: count, dtype: int64\n"
     ]
    }
   ],
   "source": [
    "# Count the number of unique values in the feature \"status_hycErrorCode\" and display those values\n",
    "unique_sessionLiveViewEnabled = hypercarge_location_cleaned['sessionLiveViewEnabled'].value_counts()\n",
    "\n",
    "# Display the count of unique values and the unique values themselves\n",
    "unique_sessionLiveViewEnabled_count = unique_sessionLiveViewEnabled.shape[0]\n",
    "\n",
    "print(\"Number of unique values in sessionLiveViewEnabled:\", unique_sessionLiveViewEnabled_count)\n",
    "print(\"Unique values and their counts:\\n\", unique_sessionLiveViewEnabled)"
   ]
  },
  {
   "cell_type": "markdown",
   "metadata": {},
   "source": [
    "There could be reasonable to consider missing value as True in this context"
   ]
  },
  {
   "cell_type": "code",
   "execution_count": 77,
   "metadata": {},
   "outputs": [],
   "source": [
    "# Ensure the sessionLiveViewEnabled column is of type boolean before filling NaNs\n",
    "hypercarge_location_cleaned['sessionLiveViewEnabled'] = hypercarge_location_cleaned['sessionLiveViewEnabled'].astype('boolean')\n",
    "\n",
    "# Fill missing values in the sessionLiveViewEnabled with True\n",
    "hypercarge_location_cleaned['sessionLiveViewEnabled'] = hypercarge_location_cleaned['sessionLiveViewEnabled'].fillna(True)"
   ]
  },
  {
   "cell_type": "markdown",
   "metadata": {},
   "source": [
    "Since FreeX currently only operates in Italy => safely delete locationCountry"
   ]
  },
  {
   "cell_type": "code",
   "execution_count": 80,
   "metadata": {},
   "outputs": [],
   "source": [
    "hypercarge_location_cleaned.drop(columns=['locationCountry'], inplace=True)"
   ]
  },
  {
   "cell_type": "markdown",
   "metadata": {},
   "source": [
    "Diagnose gpsLat gpsLong and surroundingChargers:\n",
    "They all have 115 missing values"
   ]
  },
  {
   "cell_type": "code",
   "execution_count": 82,
   "metadata": {},
   "outputs": [
    {
     "name": "stdout",
     "output_type": "stream",
     "text": [
      "Number of rows where gpsLat, gpsLong, and surroundingChargers are all NaN: 115\n"
     ]
    }
   ],
   "source": [
    "# Check if gpsLat, gpsLong, and surroundingChargers all have NaN values simultaneously\n",
    "missing_combination = hypercarge_location_cleaned[\n",
    "    hypercarge_location_cleaned['gpsLat'].isnull() & \n",
    "    hypercarge_location_cleaned['gpsLong'].isnull() & \n",
    "    hypercarge_location_cleaned['surroundingChargers'].isnull()\n",
    "]\n",
    "\n",
    "# Count the number of rows that meet this condition\n",
    "count_missing_combination = missing_combination.shape[0]\n",
    "\n",
    "# Display the result\n",
    "print(\"Number of rows where gpsLat, gpsLong, and surroundingChargers are all NaN:\", count_missing_combination)"
   ]
  },
  {
   "cell_type": "markdown",
   "metadata": {},
   "source": [
    "We don't know how too fill NaN values for these features. For now, keep them."
   ]
  },
  {
   "cell_type": "code",
   "execution_count": 81,
   "metadata": {},
   "outputs": [
    {
     "name": "stdout",
     "output_type": "stream",
     "text": [
      "gpsLat                 115\n",
      "gpsLong                115\n",
      "surroundingChargers    115\n",
      "dtype: int64\n"
     ]
    }
   ],
   "source": [
    "# Find features with missing values\n",
    "missing_values = hypercarge_location_cleaned.isnull().sum()\n",
    "\n",
    "# Filter to show only columns with missing values\n",
    "missing_values = missing_values[missing_values > 0]\n",
    "\n",
    "# Display features with missing values and the count\n",
    "print(missing_values)"
   ]
  },
  {
   "cell_type": "markdown",
   "metadata": {},
   "source": [
    "## Diagnose single feature"
   ]
  },
  {
   "cell_type": "code",
   "execution_count": 87,
   "metadata": {},
   "outputs": [
    {
     "name": "stdout",
     "output_type": "stream",
     "text": [
      "                      Feature     Type  Unique Value Count\n",
      "0                   chargerId    int64                 374\n",
      "1                serialNumber   object                 374\n",
      "2                      sshurl   object                 374\n",
      "3                      gpsLat  float64                 232\n",
      "4                     gpsLong  float64                 232\n",
      "5                numberStacks    int64                   3\n",
      "6                     chassis   object                   3\n",
      "7               emergencyStop     bool                   1\n",
      "8           doorContactSwitch     bool                   2\n",
      "9         standAloneOrBackend   object                   1\n",
      "10                   isPublic     bool                   1\n",
      "11    prohibitSoftwareupdates     bool                   1\n",
      "12         needsSpecialAccess     bool                   1\n",
      "13             notServiceable     bool                   1\n",
      "14              deadManSwitch     bool                   2\n",
      "15                  hwVersion    int64                   1\n",
      "16              telemetrySave    int64                   3\n",
      "17           hymaintInstalled     bool                   2\n",
      "18           isRemoteLocation     bool                   1\n",
      "19             lastSignOfLife   object                 142\n",
      "20                 outletList   object                 374\n",
      "21            status_position    int64                   1\n",
      "22           status_errorcode   object                   3\n",
      "23        status_hycErrorCode   object                   3\n",
      "24              status_status   object                   5\n",
      "25          status_updatetime   object                 362\n",
      "26           status_isPrivate     bool                   1\n",
      "27               simActivated     bool                   2\n",
      "28      excludeFromStatistics     bool                   1\n",
      "29                   isActive     bool                   2\n",
      "30            softwareVersion   object                   9\n",
      "31  isUtilityExecutionBlocked     bool                   1\n",
      "32                   allNotes   object                 173\n",
      "33   creditCardTerminalActive     bool                   1\n",
      "34              distributorId    int64                   2\n",
      "35              corporationId    int64                   3\n",
      "36   enableClientWebinterface     bool                   1\n",
      "37            distributorName   object                   2\n",
      "38            corporationName   object                   3\n",
      "39               hasVollmacht     bool                   1\n",
      "40   hasCommissioningProtocol     bool                   1\n",
      "41        surroundingChargers   object                 235\n",
      "42                isFavourite     bool                   2\n",
      "43     sessionLiveViewEnabled  boolean                   2\n",
      "44                finishedEol     bool                   1\n"
     ]
    }
   ],
   "source": [
    "# Get the data types of each feature in the dataset\n",
    "feature_types = hypercarge_location_cleaned.dtypes\n",
    "\n",
    "# Get the count of unique values for each feature in the dataset\n",
    "unique_value_counts = {feature: hypercarge_location_cleaned[feature].nunique() for feature in hypercarge_location_cleaned.columns}\n",
    "\n",
    "# Create a DataFrame to display features, their types, and unique value counts\n",
    "combined_info = pd.DataFrame({\n",
    "    'Feature': feature_types.index,\n",
    "    'Type': feature_types.values,\n",
    "    'Unique Value Count': [unique_value_counts[feature] for feature in feature_types.index]\n",
    "})\n",
    "\n",
    "# Display the combined DataFrame\n",
    "print(combined_info)"
   ]
  },
  {
   "cell_type": "markdown",
   "metadata": {},
   "source": [
    "List of deleted features and reason(s):\n",
    "1. Technical Specifications not directly influencing customer behaviour: serialNumber, sshurl, outletList, allNotes\n",
    "2. Only have 1 value, don't have valuable analysis result: standAloneOrBackend, isPublic, prohibitSoftwareupdates, needsSpecialAccess, notServiceable, hwVersion, isRemoteLocation, status_position, status_isPrivate, excludeFromStatistics, isUtilityExecutionBlocked, creditCardTerminalActive, enableClientWebinterface, hasVollmacht, hasCommissioningProtocol, finishedEol\n"
   ]
  },
  {
   "cell_type": "code",
   "execution_count": 88,
   "metadata": {},
   "outputs": [],
   "source": [
    "features_to_delete = [\n",
    "    'serialNumber',\n",
    "    'sshurl',\n",
    "    'outletList',\n",
    "    'allNotes',\n",
    "    'standAloneOrBackend',\n",
    "    'isPublic',\n",
    "    'prohibitSoftwareupdates',\n",
    "    'needsSpecialAccess',\n",
    "    'notServiceable',\n",
    "    'hwVersion',\n",
    "    'isRemoteLocation',\n",
    "    'status_position',\n",
    "    'status_isPrivate',\n",
    "    'excludeFromStatistics',\n",
    "    'isUtilityExecutionBlocked',\n",
    "    'creditCardTerminalActive',\n",
    "    'enableClientWebinterface',\n",
    "    'hasVollmacht',\n",
    "    'hasCommissioningProtocol',\n",
    "    'finishedEol'\n",
    "]\n",
    "\n",
    "# Delete the specified features from the dataset\n",
    "hypercarge_location_cleaned.drop(columns=features_to_delete, inplace=True)"
   ]
  },
  {
   "cell_type": "code",
   "execution_count": 89,
   "metadata": {},
   "outputs": [
    {
     "name": "stdout",
     "output_type": "stream",
     "text": [
      "                   Feature     Type  Unique Value Count\n",
      "0                chargerId    int64                 374\n",
      "1                   gpsLat  float64                 232\n",
      "2                  gpsLong  float64                 232\n",
      "3             numberStacks    int64                   3\n",
      "4                  chassis   object                   3\n",
      "5            emergencyStop     bool                   1\n",
      "6        doorContactSwitch     bool                   2\n",
      "7            deadManSwitch     bool                   2\n",
      "8            telemetrySave    int64                   3\n",
      "9         hymaintInstalled     bool                   2\n",
      "10          lastSignOfLife   object                 142\n",
      "11        status_errorcode   object                   3\n",
      "12     status_hycErrorCode   object                   3\n",
      "13           status_status   object                   5\n",
      "14       status_updatetime   object                 362\n",
      "15            simActivated     bool                   2\n",
      "16                isActive     bool                   2\n",
      "17         softwareVersion   object                   9\n",
      "18           distributorId    int64                   2\n",
      "19           corporationId    int64                   3\n",
      "20         distributorName   object                   2\n",
      "21         corporationName   object                   3\n",
      "22     surroundingChargers   object                 235\n",
      "23             isFavourite     bool                   2\n",
      "24  sessionLiveViewEnabled  boolean                   2\n"
     ]
    }
   ],
   "source": [
    "# Get the data types of each feature in the dataset\n",
    "feature_types = hypercarge_location_cleaned.dtypes\n",
    "\n",
    "# Get the count of unique values for each feature in the dataset\n",
    "unique_value_counts = {feature: hypercarge_location_cleaned[feature].nunique() for feature in hypercarge_location_cleaned.columns}\n",
    "\n",
    "# Create a DataFrame to display features, their types, and unique value counts\n",
    "combined_info = pd.DataFrame({\n",
    "    'Feature': feature_types.index,\n",
    "    'Type': feature_types.values,\n",
    "    'Unique Value Count': [unique_value_counts[feature] for feature in feature_types.index]\n",
    "})\n",
    "\n",
    "# Display the combined DataFrame\n",
    "print(combined_info)"
   ]
  },
  {
   "cell_type": "markdown",
   "metadata": {},
   "source": [
    "1. There are some chargerId have the same gpsLat and gpsLong? (374-232=142)\n",
    "2. There are some chargerID have the same surroundingChargers? (374-235=139)\n",
    "(take in to consideration missing value for gpsLat and gpsLong)"
   ]
  },
  {
   "cell_type": "code",
   "execution_count": null,
   "metadata": {},
   "outputs": [],
   "source": []
  }
 ],
 "metadata": {
  "kernelspec": {
   "display_name": "Python 3",
   "language": "python",
   "name": "python3"
  },
  "language_info": {
   "codemirror_mode": {
    "name": "ipython",
    "version": 3
   },
   "file_extension": ".py",
   "mimetype": "text/x-python",
   "name": "python",
   "nbconvert_exporter": "python",
   "pygments_lexer": "ipython3",
   "version": "3.12.6"
  }
 },
 "nbformat": 4,
 "nbformat_minor": 2
}
