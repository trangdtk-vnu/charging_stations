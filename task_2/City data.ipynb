{
 "cells": [
  {
   "cell_type": "code",
   "execution_count": 1,
   "id": "initial_id",
   "metadata": {
    "collapsed": true,
    "ExecuteTime": {
     "end_time": "2024-11-15T16:45:12.608870Z",
     "start_time": "2024-11-15T16:45:11.414969Z"
    }
   },
   "outputs": [],
   "source": [
    "import pandas as pd"
   ]
  },
  {
   "cell_type": "code",
   "outputs": [],
   "source": [
    "florence = pd.read_csv('C:/Users/devea/Desktop/dataset/T2/florence.csv')\n",
    "milan = pd.read_csv('C:/Users/devea/Desktop/dataset/T2/milan.csv')\n",
    "rome = pd.read_csv('C:/Users/devea/Desktop/dataset/T2/rome.csv')\n",
    "catania = pd.read_csv('C:/Users/devea/Desktop/dataset/T2/catania.csv')\n",
    "turin = pd.read_csv('C:/Users/devea/Desktop/dataset/T2/turin.csv')"
   ],
   "metadata": {
    "collapsed": false,
    "ExecuteTime": {
     "end_time": "2024-11-15T16:45:16.115177Z",
     "start_time": "2024-11-15T16:45:16.023903Z"
    }
   },
   "id": "515601d057c4d723",
   "execution_count": 2
  },
  {
   "cell_type": "code",
   "outputs": [],
   "source": [
    "big_city = pd.concat([catania, milan, rome],ignore_index=True)"
   ],
   "metadata": {
    "collapsed": false,
    "ExecuteTime": {
     "end_time": "2024-11-15T16:45:41.204789Z",
     "start_time": "2024-11-15T16:45:41.197890Z"
    }
   },
   "id": "12230a3e55d0fa93",
   "execution_count": 4
  },
  {
   "cell_type": "code",
   "outputs": [],
   "source": [
    "big_city.to_csv('C:/Users/devea/Desktop/dataset/T2/BigCity.csv')"
   ],
   "metadata": {
    "collapsed": false,
    "ExecuteTime": {
     "end_time": "2024-11-15T16:47:32.339104Z",
     "start_time": "2024-11-15T16:47:32.234194Z"
    }
   },
   "id": "d6c379f588c15f7a",
   "execution_count": 10
  },
  {
   "cell_type": "code",
   "outputs": [
    {
     "data": {
      "text/plain": "                                               geometry  EV_stations_counts  \\\n0     POLYGON ((494324.36910769687 4140139.900782528...                   0   \n1     POLYGON ((494491.37794651155 4140530.022613017...                   0   \n2     POLYGON ((494705.80941380473 4141022.185615587...                   0   \n3     POLYGON ((494818.1755447965 4140037.859610446,...                   0   \n4     POLYGON ((494818.17554479634 4141263.137357092...                   0   \n...                                                 ...                 ...   \n7419  POLYGON ((279712.88499382435 4665962.624067501...                   0   \n7420  POLYGON ((279936.8977891614 4667074.922709849,...                   0   \n7421  POLYGON ((279943.90517592826 4666956.66127452,...                   0   \n7422  POLYGON ((276963.33554860845 4668444.681126864...                   0   \n7423  POLYGON ((276961.6290790918 4668447.717085045,...                   0   \n\n     EV_stations_geomery  population landuse  nodes  edges  density  \\\n0                     []         0.0   Other      0      0      0.0   \n1                     []         0.0   Other      0      0      0.0   \n2                     []         0.0   Other      0      0      0.0   \n3                     []         0.0   Other      0      0      0.0   \n4                     []         0.0   Other      0      0      0.0   \n...                  ...         ...     ...    ...    ...      ...   \n7419                  []         0.0   Other      0      0      0.0   \n7420                  []         0.0   Other      0      0      0.0   \n7421                  []         0.0   Other      0      0      0.0   \n7422                  []         0.0   Other      0      0      0.0   \n7423                  []         0.0   Other      0      0      0.0   \n\n     oneway_exists highway_types  ...  place_of_worship_count  \\\n0               No           NaN  ...                     NaN   \n1               No           NaN  ...                     NaN   \n2               No           NaN  ...                     NaN   \n3               No           NaN  ...                     NaN   \n4               No           NaN  ...                     NaN   \n...            ...           ...  ...                     ...   \n7419            No           NaN  ...                     0.0   \n7420            No           NaN  ...                     0.0   \n7421            No           NaN  ...                     0.0   \n7422            No           NaN  ...                     0.0   \n7423            No           NaN  ...                     0.0   \n\n      community_centre_count townhall_count  parking_count  library_count  \\\n0                        NaN            NaN            NaN            NaN   \n1                        NaN            NaN            NaN            NaN   \n2                        NaN            NaN            NaN            NaN   \n3                        NaN            NaN            NaN            NaN   \n4                        NaN            NaN            NaN            NaN   \n...                      ...            ...            ...            ...   \n7419                     0.0            0.0            0.0            0.0   \n7420                     0.0            0.0            0.0            0.0   \n7421                     0.0            0.0            0.0            0.0   \n7422                     0.0            0.0            0.0            0.0   \n7423                     0.0            0.0            0.0            0.0   \n\n      park_count  commercial_count  government_count  civic_count  \\\n0            NaN               NaN               NaN          NaN   \n1            NaN               NaN               NaN          NaN   \n2            NaN               NaN               NaN          NaN   \n3            NaN               NaN               NaN          NaN   \n4            NaN               NaN               NaN          NaN   \n...          ...               ...               ...          ...   \n7419         0.0               0.0               0.0          0.0   \n7420         0.0               0.0               0.0          0.0   \n7421         0.0               0.0               0.0          0.0   \n7422         0.0               0.0               0.0          0.0   \n7423         0.0               0.0               0.0          0.0   \n\n      retail_count  \n0              NaN  \n1              NaN  \n2              NaN  \n3              NaN  \n4              NaN  \n...            ...  \n7419           0.0  \n7420           0.0  \n7421           0.0  \n7422           0.0  \n7423           0.0  \n\n[7424 rows x 26 columns]",
      "text/html": "<div>\n<style scoped>\n    .dataframe tbody tr th:only-of-type {\n        vertical-align: middle;\n    }\n\n    .dataframe tbody tr th {\n        vertical-align: top;\n    }\n\n    .dataframe thead th {\n        text-align: right;\n    }\n</style>\n<table border=\"1\" class=\"dataframe\">\n  <thead>\n    <tr style=\"text-align: right;\">\n      <th></th>\n      <th>geometry</th>\n      <th>EV_stations_counts</th>\n      <th>EV_stations_geomery</th>\n      <th>population</th>\n      <th>landuse</th>\n      <th>nodes</th>\n      <th>edges</th>\n      <th>density</th>\n      <th>oneway_exists</th>\n      <th>highway_types</th>\n      <th>...</th>\n      <th>place_of_worship_count</th>\n      <th>community_centre_count</th>\n      <th>townhall_count</th>\n      <th>parking_count</th>\n      <th>library_count</th>\n      <th>park_count</th>\n      <th>commercial_count</th>\n      <th>government_count</th>\n      <th>civic_count</th>\n      <th>retail_count</th>\n    </tr>\n  </thead>\n  <tbody>\n    <tr>\n      <th>0</th>\n      <td>POLYGON ((494324.36910769687 4140139.900782528...</td>\n      <td>0</td>\n      <td>[]</td>\n      <td>0.0</td>\n      <td>Other</td>\n      <td>0</td>\n      <td>0</td>\n      <td>0.0</td>\n      <td>No</td>\n      <td>NaN</td>\n      <td>...</td>\n      <td>NaN</td>\n      <td>NaN</td>\n      <td>NaN</td>\n      <td>NaN</td>\n      <td>NaN</td>\n      <td>NaN</td>\n      <td>NaN</td>\n      <td>NaN</td>\n      <td>NaN</td>\n      <td>NaN</td>\n    </tr>\n    <tr>\n      <th>1</th>\n      <td>POLYGON ((494491.37794651155 4140530.022613017...</td>\n      <td>0</td>\n      <td>[]</td>\n      <td>0.0</td>\n      <td>Other</td>\n      <td>0</td>\n      <td>0</td>\n      <td>0.0</td>\n      <td>No</td>\n      <td>NaN</td>\n      <td>...</td>\n      <td>NaN</td>\n      <td>NaN</td>\n      <td>NaN</td>\n      <td>NaN</td>\n      <td>NaN</td>\n      <td>NaN</td>\n      <td>NaN</td>\n      <td>NaN</td>\n      <td>NaN</td>\n      <td>NaN</td>\n    </tr>\n    <tr>\n      <th>2</th>\n      <td>POLYGON ((494705.80941380473 4141022.185615587...</td>\n      <td>0</td>\n      <td>[]</td>\n      <td>0.0</td>\n      <td>Other</td>\n      <td>0</td>\n      <td>0</td>\n      <td>0.0</td>\n      <td>No</td>\n      <td>NaN</td>\n      <td>...</td>\n      <td>NaN</td>\n      <td>NaN</td>\n      <td>NaN</td>\n      <td>NaN</td>\n      <td>NaN</td>\n      <td>NaN</td>\n      <td>NaN</td>\n      <td>NaN</td>\n      <td>NaN</td>\n      <td>NaN</td>\n    </tr>\n    <tr>\n      <th>3</th>\n      <td>POLYGON ((494818.1755447965 4140037.859610446,...</td>\n      <td>0</td>\n      <td>[]</td>\n      <td>0.0</td>\n      <td>Other</td>\n      <td>0</td>\n      <td>0</td>\n      <td>0.0</td>\n      <td>No</td>\n      <td>NaN</td>\n      <td>...</td>\n      <td>NaN</td>\n      <td>NaN</td>\n      <td>NaN</td>\n      <td>NaN</td>\n      <td>NaN</td>\n      <td>NaN</td>\n      <td>NaN</td>\n      <td>NaN</td>\n      <td>NaN</td>\n      <td>NaN</td>\n    </tr>\n    <tr>\n      <th>4</th>\n      <td>POLYGON ((494818.17554479634 4141263.137357092...</td>\n      <td>0</td>\n      <td>[]</td>\n      <td>0.0</td>\n      <td>Other</td>\n      <td>0</td>\n      <td>0</td>\n      <td>0.0</td>\n      <td>No</td>\n      <td>NaN</td>\n      <td>...</td>\n      <td>NaN</td>\n      <td>NaN</td>\n      <td>NaN</td>\n      <td>NaN</td>\n      <td>NaN</td>\n      <td>NaN</td>\n      <td>NaN</td>\n      <td>NaN</td>\n      <td>NaN</td>\n      <td>NaN</td>\n    </tr>\n    <tr>\n      <th>...</th>\n      <td>...</td>\n      <td>...</td>\n      <td>...</td>\n      <td>...</td>\n      <td>...</td>\n      <td>...</td>\n      <td>...</td>\n      <td>...</td>\n      <td>...</td>\n      <td>...</td>\n      <td>...</td>\n      <td>...</td>\n      <td>...</td>\n      <td>...</td>\n      <td>...</td>\n      <td>...</td>\n      <td>...</td>\n      <td>...</td>\n      <td>...</td>\n      <td>...</td>\n      <td>...</td>\n    </tr>\n    <tr>\n      <th>7419</th>\n      <td>POLYGON ((279712.88499382435 4665962.624067501...</td>\n      <td>0</td>\n      <td>[]</td>\n      <td>0.0</td>\n      <td>Other</td>\n      <td>0</td>\n      <td>0</td>\n      <td>0.0</td>\n      <td>No</td>\n      <td>NaN</td>\n      <td>...</td>\n      <td>0.0</td>\n      <td>0.0</td>\n      <td>0.0</td>\n      <td>0.0</td>\n      <td>0.0</td>\n      <td>0.0</td>\n      <td>0.0</td>\n      <td>0.0</td>\n      <td>0.0</td>\n      <td>0.0</td>\n    </tr>\n    <tr>\n      <th>7420</th>\n      <td>POLYGON ((279936.8977891614 4667074.922709849,...</td>\n      <td>0</td>\n      <td>[]</td>\n      <td>0.0</td>\n      <td>Other</td>\n      <td>0</td>\n      <td>0</td>\n      <td>0.0</td>\n      <td>No</td>\n      <td>NaN</td>\n      <td>...</td>\n      <td>0.0</td>\n      <td>0.0</td>\n      <td>0.0</td>\n      <td>0.0</td>\n      <td>0.0</td>\n      <td>0.0</td>\n      <td>0.0</td>\n      <td>0.0</td>\n      <td>0.0</td>\n      <td>0.0</td>\n    </tr>\n    <tr>\n      <th>7421</th>\n      <td>POLYGON ((279943.90517592826 4666956.66127452,...</td>\n      <td>0</td>\n      <td>[]</td>\n      <td>0.0</td>\n      <td>Other</td>\n      <td>0</td>\n      <td>0</td>\n      <td>0.0</td>\n      <td>No</td>\n      <td>NaN</td>\n      <td>...</td>\n      <td>0.0</td>\n      <td>0.0</td>\n      <td>0.0</td>\n      <td>0.0</td>\n      <td>0.0</td>\n      <td>0.0</td>\n      <td>0.0</td>\n      <td>0.0</td>\n      <td>0.0</td>\n      <td>0.0</td>\n    </tr>\n    <tr>\n      <th>7422</th>\n      <td>POLYGON ((276963.33554860845 4668444.681126864...</td>\n      <td>0</td>\n      <td>[]</td>\n      <td>0.0</td>\n      <td>Other</td>\n      <td>0</td>\n      <td>0</td>\n      <td>0.0</td>\n      <td>No</td>\n      <td>NaN</td>\n      <td>...</td>\n      <td>0.0</td>\n      <td>0.0</td>\n      <td>0.0</td>\n      <td>0.0</td>\n      <td>0.0</td>\n      <td>0.0</td>\n      <td>0.0</td>\n      <td>0.0</td>\n      <td>0.0</td>\n      <td>0.0</td>\n    </tr>\n    <tr>\n      <th>7423</th>\n      <td>POLYGON ((276961.6290790918 4668447.717085045,...</td>\n      <td>0</td>\n      <td>[]</td>\n      <td>0.0</td>\n      <td>Other</td>\n      <td>0</td>\n      <td>0</td>\n      <td>0.0</td>\n      <td>No</td>\n      <td>NaN</td>\n      <td>...</td>\n      <td>0.0</td>\n      <td>0.0</td>\n      <td>0.0</td>\n      <td>0.0</td>\n      <td>0.0</td>\n      <td>0.0</td>\n      <td>0.0</td>\n      <td>0.0</td>\n      <td>0.0</td>\n      <td>0.0</td>\n    </tr>\n  </tbody>\n</table>\n<p>7424 rows × 26 columns</p>\n</div>"
     },
     "execution_count": 5,
     "metadata": {},
     "output_type": "execute_result"
    }
   ],
   "source": [
    "big_city"
   ],
   "metadata": {
    "collapsed": false,
    "ExecuteTime": {
     "end_time": "2024-11-15T16:45:43.825241Z",
     "start_time": "2024-11-15T16:45:43.805495Z"
    }
   },
   "id": "ae87958396d99124",
   "execution_count": 5
  },
  {
   "cell_type": "code",
   "outputs": [],
   "source": [
    "small_city = pd.concat([florence,turin],ignore_index=True)"
   ],
   "metadata": {
    "collapsed": false,
    "ExecuteTime": {
     "end_time": "2024-11-15T16:46:04.392771Z",
     "start_time": "2024-11-15T16:46:04.388123Z"
    }
   },
   "id": "4162f2f06b6e5840",
   "execution_count": 6
  },
  {
   "cell_type": "code",
   "outputs": [],
   "source": [
    "small_city.to_csv('C:/Users/devea/Desktop/dataset/T2/SmallCity.csv')"
   ],
   "metadata": {
    "collapsed": false,
    "ExecuteTime": {
     "end_time": "2024-11-15T16:48:02.484254Z",
     "start_time": "2024-11-15T16:48:02.464875Z"
    }
   },
   "id": "ac050166677b61fe",
   "execution_count": 11
  },
  {
   "cell_type": "code",
   "outputs": [
    {
     "data": {
      "text/plain": "                                               geometry  EV_stations_counts  \\\n0     POLYGON ((190197.79642455757 4855418.303914024...                   0   \n1     POLYGON ((190413.30977452965 4855690.313606118...                   0   \n2     POLYGON ((190657.83061832457 4856164.938966472...                   0   \n3     POLYGON ((190673.1779001825 4855179.05095902, ...                   0   \n4     POLYGON ((190637.60410776787 4854689.248399376...                   0   \n...                                                 ...                 ...   \n1105  POLYGON ((-70940.66370983236 5021941.754257384...                   0   \n1106  POLYGON ((-70637.16384388541 5022328.219177642...                   0   \n1107  POLYGON ((-70529.70146135893 5021823.709363707...                   0   \n1108  POLYGON ((-70406.6998233085 5022370.586099741,...                   0   \n1109  POLYGON ((-70224.18544081762 5022297.417056035...                   0   \n\n     EV_stations_geomery  population landuse  nodes  edges   density  \\\n0                     []    0.055365   Other      0      0  0.000000   \n1                     []    0.379845   Other      0      0  0.000000   \n2                     []    1.814465   Other      4      5  0.416667   \n3                     []    0.245168   Other      0      0  0.000000   \n4                     []    0.219274   Other      0      0  0.000000   \n...                  ...         ...     ...    ...    ...       ...   \n1105                  []    0.011744   Other      4      7  0.583333   \n1106                  []    0.279534   Other      0      0  0.000000   \n1107                  []    0.014169   Other      0      0  0.000000   \n1108                  []    0.033220   Other      0      0  0.000000   \n1109                  []    0.013136   Other      0      0  0.000000   \n\n     oneway_exists highway_types  ...  place_of_worship_count  \\\n0               No           NaN  ...                     NaN   \n1               No           NaN  ...                     NaN   \n2               No           NaN  ...                     NaN   \n3               No           NaN  ...                     NaN   \n4               No           NaN  ...                     NaN   \n...            ...           ...  ...                     ...   \n1105            No           NaN  ...                     0.0   \n1106            No           NaN  ...                     0.0   \n1107            No           NaN  ...                     0.0   \n1108            No           NaN  ...                     0.0   \n1109            No           NaN  ...                     0.0   \n\n      community_centre_count townhall_count  parking_count  library_count  \\\n0                        NaN            NaN            NaN            NaN   \n1                        NaN            NaN            NaN            NaN   \n2                        NaN            NaN            NaN            NaN   \n3                        NaN            NaN            NaN            NaN   \n4                        NaN            NaN            NaN            NaN   \n...                      ...            ...            ...            ...   \n1105                     0.0            0.0            0.0            0.0   \n1106                     0.0            0.0            0.0            0.0   \n1107                     0.0            0.0            0.0            0.0   \n1108                     0.0            0.0            0.0            0.0   \n1109                     0.0            0.0            0.0            0.0   \n\n      park_count  commercial_count  government_count  civic_count  \\\n0            NaN               NaN               NaN          NaN   \n1            NaN               NaN               NaN          NaN   \n2            NaN               NaN               NaN          NaN   \n3            NaN               NaN               NaN          NaN   \n4            NaN               NaN               NaN          NaN   \n...          ...               ...               ...          ...   \n1105         0.0               0.0               0.0          0.0   \n1106         0.0               0.0               0.0          0.0   \n1107         0.0               0.0               0.0          0.0   \n1108         0.0               0.0               0.0          0.0   \n1109         0.0               0.0               0.0          0.0   \n\n      retail_count  \n0              NaN  \n1              NaN  \n2              NaN  \n3              NaN  \n4              NaN  \n...            ...  \n1105           0.0  \n1106           0.0  \n1107           0.0  \n1108           0.0  \n1109           0.0  \n\n[1110 rows x 26 columns]",
      "text/html": "<div>\n<style scoped>\n    .dataframe tbody tr th:only-of-type {\n        vertical-align: middle;\n    }\n\n    .dataframe tbody tr th {\n        vertical-align: top;\n    }\n\n    .dataframe thead th {\n        text-align: right;\n    }\n</style>\n<table border=\"1\" class=\"dataframe\">\n  <thead>\n    <tr style=\"text-align: right;\">\n      <th></th>\n      <th>geometry</th>\n      <th>EV_stations_counts</th>\n      <th>EV_stations_geomery</th>\n      <th>population</th>\n      <th>landuse</th>\n      <th>nodes</th>\n      <th>edges</th>\n      <th>density</th>\n      <th>oneway_exists</th>\n      <th>highway_types</th>\n      <th>...</th>\n      <th>place_of_worship_count</th>\n      <th>community_centre_count</th>\n      <th>townhall_count</th>\n      <th>parking_count</th>\n      <th>library_count</th>\n      <th>park_count</th>\n      <th>commercial_count</th>\n      <th>government_count</th>\n      <th>civic_count</th>\n      <th>retail_count</th>\n    </tr>\n  </thead>\n  <tbody>\n    <tr>\n      <th>0</th>\n      <td>POLYGON ((190197.79642455757 4855418.303914024...</td>\n      <td>0</td>\n      <td>[]</td>\n      <td>0.055365</td>\n      <td>Other</td>\n      <td>0</td>\n      <td>0</td>\n      <td>0.000000</td>\n      <td>No</td>\n      <td>NaN</td>\n      <td>...</td>\n      <td>NaN</td>\n      <td>NaN</td>\n      <td>NaN</td>\n      <td>NaN</td>\n      <td>NaN</td>\n      <td>NaN</td>\n      <td>NaN</td>\n      <td>NaN</td>\n      <td>NaN</td>\n      <td>NaN</td>\n    </tr>\n    <tr>\n      <th>1</th>\n      <td>POLYGON ((190413.30977452965 4855690.313606118...</td>\n      <td>0</td>\n      <td>[]</td>\n      <td>0.379845</td>\n      <td>Other</td>\n      <td>0</td>\n      <td>0</td>\n      <td>0.000000</td>\n      <td>No</td>\n      <td>NaN</td>\n      <td>...</td>\n      <td>NaN</td>\n      <td>NaN</td>\n      <td>NaN</td>\n      <td>NaN</td>\n      <td>NaN</td>\n      <td>NaN</td>\n      <td>NaN</td>\n      <td>NaN</td>\n      <td>NaN</td>\n      <td>NaN</td>\n    </tr>\n    <tr>\n      <th>2</th>\n      <td>POLYGON ((190657.83061832457 4856164.938966472...</td>\n      <td>0</td>\n      <td>[]</td>\n      <td>1.814465</td>\n      <td>Other</td>\n      <td>4</td>\n      <td>5</td>\n      <td>0.416667</td>\n      <td>No</td>\n      <td>NaN</td>\n      <td>...</td>\n      <td>NaN</td>\n      <td>NaN</td>\n      <td>NaN</td>\n      <td>NaN</td>\n      <td>NaN</td>\n      <td>NaN</td>\n      <td>NaN</td>\n      <td>NaN</td>\n      <td>NaN</td>\n      <td>NaN</td>\n    </tr>\n    <tr>\n      <th>3</th>\n      <td>POLYGON ((190673.1779001825 4855179.05095902, ...</td>\n      <td>0</td>\n      <td>[]</td>\n      <td>0.245168</td>\n      <td>Other</td>\n      <td>0</td>\n      <td>0</td>\n      <td>0.000000</td>\n      <td>No</td>\n      <td>NaN</td>\n      <td>...</td>\n      <td>NaN</td>\n      <td>NaN</td>\n      <td>NaN</td>\n      <td>NaN</td>\n      <td>NaN</td>\n      <td>NaN</td>\n      <td>NaN</td>\n      <td>NaN</td>\n      <td>NaN</td>\n      <td>NaN</td>\n    </tr>\n    <tr>\n      <th>4</th>\n      <td>POLYGON ((190637.60410776787 4854689.248399376...</td>\n      <td>0</td>\n      <td>[]</td>\n      <td>0.219274</td>\n      <td>Other</td>\n      <td>0</td>\n      <td>0</td>\n      <td>0.000000</td>\n      <td>No</td>\n      <td>NaN</td>\n      <td>...</td>\n      <td>NaN</td>\n      <td>NaN</td>\n      <td>NaN</td>\n      <td>NaN</td>\n      <td>NaN</td>\n      <td>NaN</td>\n      <td>NaN</td>\n      <td>NaN</td>\n      <td>NaN</td>\n      <td>NaN</td>\n    </tr>\n    <tr>\n      <th>...</th>\n      <td>...</td>\n      <td>...</td>\n      <td>...</td>\n      <td>...</td>\n      <td>...</td>\n      <td>...</td>\n      <td>...</td>\n      <td>...</td>\n      <td>...</td>\n      <td>...</td>\n      <td>...</td>\n      <td>...</td>\n      <td>...</td>\n      <td>...</td>\n      <td>...</td>\n      <td>...</td>\n      <td>...</td>\n      <td>...</td>\n      <td>...</td>\n      <td>...</td>\n      <td>...</td>\n    </tr>\n    <tr>\n      <th>1105</th>\n      <td>POLYGON ((-70940.66370983236 5021941.754257384...</td>\n      <td>0</td>\n      <td>[]</td>\n      <td>0.011744</td>\n      <td>Other</td>\n      <td>4</td>\n      <td>7</td>\n      <td>0.583333</td>\n      <td>No</td>\n      <td>NaN</td>\n      <td>...</td>\n      <td>0.0</td>\n      <td>0.0</td>\n      <td>0.0</td>\n      <td>0.0</td>\n      <td>0.0</td>\n      <td>0.0</td>\n      <td>0.0</td>\n      <td>0.0</td>\n      <td>0.0</td>\n      <td>0.0</td>\n    </tr>\n    <tr>\n      <th>1106</th>\n      <td>POLYGON ((-70637.16384388541 5022328.219177642...</td>\n      <td>0</td>\n      <td>[]</td>\n      <td>0.279534</td>\n      <td>Other</td>\n      <td>0</td>\n      <td>0</td>\n      <td>0.000000</td>\n      <td>No</td>\n      <td>NaN</td>\n      <td>...</td>\n      <td>0.0</td>\n      <td>0.0</td>\n      <td>0.0</td>\n      <td>0.0</td>\n      <td>0.0</td>\n      <td>0.0</td>\n      <td>0.0</td>\n      <td>0.0</td>\n      <td>0.0</td>\n      <td>0.0</td>\n    </tr>\n    <tr>\n      <th>1107</th>\n      <td>POLYGON ((-70529.70146135893 5021823.709363707...</td>\n      <td>0</td>\n      <td>[]</td>\n      <td>0.014169</td>\n      <td>Other</td>\n      <td>0</td>\n      <td>0</td>\n      <td>0.000000</td>\n      <td>No</td>\n      <td>NaN</td>\n      <td>...</td>\n      <td>0.0</td>\n      <td>0.0</td>\n      <td>0.0</td>\n      <td>0.0</td>\n      <td>0.0</td>\n      <td>0.0</td>\n      <td>0.0</td>\n      <td>0.0</td>\n      <td>0.0</td>\n      <td>0.0</td>\n    </tr>\n    <tr>\n      <th>1108</th>\n      <td>POLYGON ((-70406.6998233085 5022370.586099741,...</td>\n      <td>0</td>\n      <td>[]</td>\n      <td>0.033220</td>\n      <td>Other</td>\n      <td>0</td>\n      <td>0</td>\n      <td>0.000000</td>\n      <td>No</td>\n      <td>NaN</td>\n      <td>...</td>\n      <td>0.0</td>\n      <td>0.0</td>\n      <td>0.0</td>\n      <td>0.0</td>\n      <td>0.0</td>\n      <td>0.0</td>\n      <td>0.0</td>\n      <td>0.0</td>\n      <td>0.0</td>\n      <td>0.0</td>\n    </tr>\n    <tr>\n      <th>1109</th>\n      <td>POLYGON ((-70224.18544081762 5022297.417056035...</td>\n      <td>0</td>\n      <td>[]</td>\n      <td>0.013136</td>\n      <td>Other</td>\n      <td>0</td>\n      <td>0</td>\n      <td>0.000000</td>\n      <td>No</td>\n      <td>NaN</td>\n      <td>...</td>\n      <td>0.0</td>\n      <td>0.0</td>\n      <td>0.0</td>\n      <td>0.0</td>\n      <td>0.0</td>\n      <td>0.0</td>\n      <td>0.0</td>\n      <td>0.0</td>\n      <td>0.0</td>\n      <td>0.0</td>\n    </tr>\n  </tbody>\n</table>\n<p>1110 rows × 26 columns</p>\n</div>"
     },
     "execution_count": 7,
     "metadata": {},
     "output_type": "execute_result"
    }
   ],
   "source": [
    "small_city"
   ],
   "metadata": {
    "collapsed": false,
    "ExecuteTime": {
     "end_time": "2024-11-15T16:46:05.741469Z",
     "start_time": "2024-11-15T16:46:05.724445Z"
    }
   },
   "id": "41339d89669648cf",
   "execution_count": 7
  },
  {
   "cell_type": "code",
   "outputs": [],
   "source": [
    "all_city = pd.concat([big_city,small_city],ignore_index=True)"
   ],
   "metadata": {
    "collapsed": false,
    "ExecuteTime": {
     "end_time": "2024-11-15T16:46:07.684331Z",
     "start_time": "2024-11-15T16:46:07.680426Z"
    }
   },
   "id": "12c738ac631e14a4",
   "execution_count": 8
  },
  {
   "cell_type": "code",
   "outputs": [],
   "source": [
    "all_city.to_csv('C:/Users/devea/Desktop/dataset/T2/AllCity.csv')"
   ],
   "metadata": {
    "collapsed": false,
    "ExecuteTime": {
     "end_time": "2024-11-15T16:48:26.555778Z",
     "start_time": "2024-11-15T16:48:26.453647Z"
    }
   },
   "id": "68be95bb46578c60",
   "execution_count": 12
  },
  {
   "cell_type": "code",
   "outputs": [
    {
     "data": {
      "text/plain": "                                               geometry  EV_stations_counts  \\\n0     POLYGON ((494324.36910769687 4140139.900782528...                   0   \n1     POLYGON ((494491.37794651155 4140530.022613017...                   0   \n2     POLYGON ((494705.80941380473 4141022.185615587...                   0   \n3     POLYGON ((494818.1755447965 4140037.859610446,...                   0   \n4     POLYGON ((494818.17554479634 4141263.137357092...                   0   \n...                                                 ...                 ...   \n8529  POLYGON ((-70940.66370983236 5021941.754257384...                   0   \n8530  POLYGON ((-70637.16384388541 5022328.219177642...                   0   \n8531  POLYGON ((-70529.70146135893 5021823.709363707...                   0   \n8532  POLYGON ((-70406.6998233085 5022370.586099741,...                   0   \n8533  POLYGON ((-70224.18544081762 5022297.417056035...                   0   \n\n     EV_stations_geomery  population landuse  nodes  edges   density  \\\n0                     []    0.000000   Other      0      0  0.000000   \n1                     []    0.000000   Other      0      0  0.000000   \n2                     []    0.000000   Other      0      0  0.000000   \n3                     []    0.000000   Other      0      0  0.000000   \n4                     []    0.000000   Other      0      0  0.000000   \n...                  ...         ...     ...    ...    ...       ...   \n8529                  []    0.011744   Other      4      7  0.583333   \n8530                  []    0.279534   Other      0      0  0.000000   \n8531                  []    0.014169   Other      0      0  0.000000   \n8532                  []    0.033220   Other      0      0  0.000000   \n8533                  []    0.013136   Other      0      0  0.000000   \n\n     oneway_exists highway_types  ...  place_of_worship_count  \\\n0               No           NaN  ...                     NaN   \n1               No           NaN  ...                     NaN   \n2               No           NaN  ...                     NaN   \n3               No           NaN  ...                     NaN   \n4               No           NaN  ...                     NaN   \n...            ...           ...  ...                     ...   \n8529            No           NaN  ...                     0.0   \n8530            No           NaN  ...                     0.0   \n8531            No           NaN  ...                     0.0   \n8532            No           NaN  ...                     0.0   \n8533            No           NaN  ...                     0.0   \n\n      community_centre_count townhall_count  parking_count  library_count  \\\n0                        NaN            NaN            NaN            NaN   \n1                        NaN            NaN            NaN            NaN   \n2                        NaN            NaN            NaN            NaN   \n3                        NaN            NaN            NaN            NaN   \n4                        NaN            NaN            NaN            NaN   \n...                      ...            ...            ...            ...   \n8529                     0.0            0.0            0.0            0.0   \n8530                     0.0            0.0            0.0            0.0   \n8531                     0.0            0.0            0.0            0.0   \n8532                     0.0            0.0            0.0            0.0   \n8533                     0.0            0.0            0.0            0.0   \n\n      park_count  commercial_count  government_count  civic_count  \\\n0            NaN               NaN               NaN          NaN   \n1            NaN               NaN               NaN          NaN   \n2            NaN               NaN               NaN          NaN   \n3            NaN               NaN               NaN          NaN   \n4            NaN               NaN               NaN          NaN   \n...          ...               ...               ...          ...   \n8529         0.0               0.0               0.0          0.0   \n8530         0.0               0.0               0.0          0.0   \n8531         0.0               0.0               0.0          0.0   \n8532         0.0               0.0               0.0          0.0   \n8533         0.0               0.0               0.0          0.0   \n\n      retail_count  \n0              NaN  \n1              NaN  \n2              NaN  \n3              NaN  \n4              NaN  \n...            ...  \n8529           0.0  \n8530           0.0  \n8531           0.0  \n8532           0.0  \n8533           0.0  \n\n[8534 rows x 26 columns]",
      "text/html": "<div>\n<style scoped>\n    .dataframe tbody tr th:only-of-type {\n        vertical-align: middle;\n    }\n\n    .dataframe tbody tr th {\n        vertical-align: top;\n    }\n\n    .dataframe thead th {\n        text-align: right;\n    }\n</style>\n<table border=\"1\" class=\"dataframe\">\n  <thead>\n    <tr style=\"text-align: right;\">\n      <th></th>\n      <th>geometry</th>\n      <th>EV_stations_counts</th>\n      <th>EV_stations_geomery</th>\n      <th>population</th>\n      <th>landuse</th>\n      <th>nodes</th>\n      <th>edges</th>\n      <th>density</th>\n      <th>oneway_exists</th>\n      <th>highway_types</th>\n      <th>...</th>\n      <th>place_of_worship_count</th>\n      <th>community_centre_count</th>\n      <th>townhall_count</th>\n      <th>parking_count</th>\n      <th>library_count</th>\n      <th>park_count</th>\n      <th>commercial_count</th>\n      <th>government_count</th>\n      <th>civic_count</th>\n      <th>retail_count</th>\n    </tr>\n  </thead>\n  <tbody>\n    <tr>\n      <th>0</th>\n      <td>POLYGON ((494324.36910769687 4140139.900782528...</td>\n      <td>0</td>\n      <td>[]</td>\n      <td>0.000000</td>\n      <td>Other</td>\n      <td>0</td>\n      <td>0</td>\n      <td>0.000000</td>\n      <td>No</td>\n      <td>NaN</td>\n      <td>...</td>\n      <td>NaN</td>\n      <td>NaN</td>\n      <td>NaN</td>\n      <td>NaN</td>\n      <td>NaN</td>\n      <td>NaN</td>\n      <td>NaN</td>\n      <td>NaN</td>\n      <td>NaN</td>\n      <td>NaN</td>\n    </tr>\n    <tr>\n      <th>1</th>\n      <td>POLYGON ((494491.37794651155 4140530.022613017...</td>\n      <td>0</td>\n      <td>[]</td>\n      <td>0.000000</td>\n      <td>Other</td>\n      <td>0</td>\n      <td>0</td>\n      <td>0.000000</td>\n      <td>No</td>\n      <td>NaN</td>\n      <td>...</td>\n      <td>NaN</td>\n      <td>NaN</td>\n      <td>NaN</td>\n      <td>NaN</td>\n      <td>NaN</td>\n      <td>NaN</td>\n      <td>NaN</td>\n      <td>NaN</td>\n      <td>NaN</td>\n      <td>NaN</td>\n    </tr>\n    <tr>\n      <th>2</th>\n      <td>POLYGON ((494705.80941380473 4141022.185615587...</td>\n      <td>0</td>\n      <td>[]</td>\n      <td>0.000000</td>\n      <td>Other</td>\n      <td>0</td>\n      <td>0</td>\n      <td>0.000000</td>\n      <td>No</td>\n      <td>NaN</td>\n      <td>...</td>\n      <td>NaN</td>\n      <td>NaN</td>\n      <td>NaN</td>\n      <td>NaN</td>\n      <td>NaN</td>\n      <td>NaN</td>\n      <td>NaN</td>\n      <td>NaN</td>\n      <td>NaN</td>\n      <td>NaN</td>\n    </tr>\n    <tr>\n      <th>3</th>\n      <td>POLYGON ((494818.1755447965 4140037.859610446,...</td>\n      <td>0</td>\n      <td>[]</td>\n      <td>0.000000</td>\n      <td>Other</td>\n      <td>0</td>\n      <td>0</td>\n      <td>0.000000</td>\n      <td>No</td>\n      <td>NaN</td>\n      <td>...</td>\n      <td>NaN</td>\n      <td>NaN</td>\n      <td>NaN</td>\n      <td>NaN</td>\n      <td>NaN</td>\n      <td>NaN</td>\n      <td>NaN</td>\n      <td>NaN</td>\n      <td>NaN</td>\n      <td>NaN</td>\n    </tr>\n    <tr>\n      <th>4</th>\n      <td>POLYGON ((494818.17554479634 4141263.137357092...</td>\n      <td>0</td>\n      <td>[]</td>\n      <td>0.000000</td>\n      <td>Other</td>\n      <td>0</td>\n      <td>0</td>\n      <td>0.000000</td>\n      <td>No</td>\n      <td>NaN</td>\n      <td>...</td>\n      <td>NaN</td>\n      <td>NaN</td>\n      <td>NaN</td>\n      <td>NaN</td>\n      <td>NaN</td>\n      <td>NaN</td>\n      <td>NaN</td>\n      <td>NaN</td>\n      <td>NaN</td>\n      <td>NaN</td>\n    </tr>\n    <tr>\n      <th>...</th>\n      <td>...</td>\n      <td>...</td>\n      <td>...</td>\n      <td>...</td>\n      <td>...</td>\n      <td>...</td>\n      <td>...</td>\n      <td>...</td>\n      <td>...</td>\n      <td>...</td>\n      <td>...</td>\n      <td>...</td>\n      <td>...</td>\n      <td>...</td>\n      <td>...</td>\n      <td>...</td>\n      <td>...</td>\n      <td>...</td>\n      <td>...</td>\n      <td>...</td>\n      <td>...</td>\n    </tr>\n    <tr>\n      <th>8529</th>\n      <td>POLYGON ((-70940.66370983236 5021941.754257384...</td>\n      <td>0</td>\n      <td>[]</td>\n      <td>0.011744</td>\n      <td>Other</td>\n      <td>4</td>\n      <td>7</td>\n      <td>0.583333</td>\n      <td>No</td>\n      <td>NaN</td>\n      <td>...</td>\n      <td>0.0</td>\n      <td>0.0</td>\n      <td>0.0</td>\n      <td>0.0</td>\n      <td>0.0</td>\n      <td>0.0</td>\n      <td>0.0</td>\n      <td>0.0</td>\n      <td>0.0</td>\n      <td>0.0</td>\n    </tr>\n    <tr>\n      <th>8530</th>\n      <td>POLYGON ((-70637.16384388541 5022328.219177642...</td>\n      <td>0</td>\n      <td>[]</td>\n      <td>0.279534</td>\n      <td>Other</td>\n      <td>0</td>\n      <td>0</td>\n      <td>0.000000</td>\n      <td>No</td>\n      <td>NaN</td>\n      <td>...</td>\n      <td>0.0</td>\n      <td>0.0</td>\n      <td>0.0</td>\n      <td>0.0</td>\n      <td>0.0</td>\n      <td>0.0</td>\n      <td>0.0</td>\n      <td>0.0</td>\n      <td>0.0</td>\n      <td>0.0</td>\n    </tr>\n    <tr>\n      <th>8531</th>\n      <td>POLYGON ((-70529.70146135893 5021823.709363707...</td>\n      <td>0</td>\n      <td>[]</td>\n      <td>0.014169</td>\n      <td>Other</td>\n      <td>0</td>\n      <td>0</td>\n      <td>0.000000</td>\n      <td>No</td>\n      <td>NaN</td>\n      <td>...</td>\n      <td>0.0</td>\n      <td>0.0</td>\n      <td>0.0</td>\n      <td>0.0</td>\n      <td>0.0</td>\n      <td>0.0</td>\n      <td>0.0</td>\n      <td>0.0</td>\n      <td>0.0</td>\n      <td>0.0</td>\n    </tr>\n    <tr>\n      <th>8532</th>\n      <td>POLYGON ((-70406.6998233085 5022370.586099741,...</td>\n      <td>0</td>\n      <td>[]</td>\n      <td>0.033220</td>\n      <td>Other</td>\n      <td>0</td>\n      <td>0</td>\n      <td>0.000000</td>\n      <td>No</td>\n      <td>NaN</td>\n      <td>...</td>\n      <td>0.0</td>\n      <td>0.0</td>\n      <td>0.0</td>\n      <td>0.0</td>\n      <td>0.0</td>\n      <td>0.0</td>\n      <td>0.0</td>\n      <td>0.0</td>\n      <td>0.0</td>\n      <td>0.0</td>\n    </tr>\n    <tr>\n      <th>8533</th>\n      <td>POLYGON ((-70224.18544081762 5022297.417056035...</td>\n      <td>0</td>\n      <td>[]</td>\n      <td>0.013136</td>\n      <td>Other</td>\n      <td>0</td>\n      <td>0</td>\n      <td>0.000000</td>\n      <td>No</td>\n      <td>NaN</td>\n      <td>...</td>\n      <td>0.0</td>\n      <td>0.0</td>\n      <td>0.0</td>\n      <td>0.0</td>\n      <td>0.0</td>\n      <td>0.0</td>\n      <td>0.0</td>\n      <td>0.0</td>\n      <td>0.0</td>\n      <td>0.0</td>\n    </tr>\n  </tbody>\n</table>\n<p>8534 rows × 26 columns</p>\n</div>"
     },
     "execution_count": 9,
     "metadata": {},
     "output_type": "execute_result"
    }
   ],
   "source": [
    "all_city"
   ],
   "metadata": {
    "collapsed": false,
    "ExecuteTime": {
     "end_time": "2024-11-15T16:46:08.559802Z",
     "start_time": "2024-11-15T16:46:08.537607Z"
    }
   },
   "id": "1fc77f9ddacf4447",
   "execution_count": 9
  },
  {
   "cell_type": "code",
   "outputs": [],
   "source": [],
   "metadata": {
    "collapsed": false
   },
   "id": "367e754ce1444cfa"
  }
 ],
 "metadata": {
  "kernelspec": {
   "display_name": "Python 3",
   "language": "python",
   "name": "python3"
  },
  "language_info": {
   "codemirror_mode": {
    "name": "ipython",
    "version": 2
   },
   "file_extension": ".py",
   "mimetype": "text/x-python",
   "name": "python",
   "nbconvert_exporter": "python",
   "pygments_lexer": "ipython2",
   "version": "2.7.6"
  }
 },
 "nbformat": 4,
 "nbformat_minor": 5
}
