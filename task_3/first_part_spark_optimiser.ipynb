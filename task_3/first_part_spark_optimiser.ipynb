{
 "cells": [
  {
   "cell_type": "markdown",
   "metadata": {},
   "source": [
    "This code is the translation from Python to Pyspark for 'Optimise_task3.ipynb' file."
   ]
  },
  {
   "cell_type": "markdown",
   "metadata": {},
   "source": [
    "# First part of Spark_Optimise_Task_3"
   ]
  },
  {
   "cell_type": "code",
   "execution_count": 25,
   "metadata": {},
   "outputs": [],
   "source": [
    "# I need this library for geospatial operations\n",
    "# !pip install apache-sedona\n",
    "# pip install --upgrade pip\n",
    "# pip install scikit-learn\n",
    "# pip install pyspark\n",
    "# pip install apache-sedona[spark]\n",
    "# pip install apache-sedona"
   ]
  },
  {
   "cell_type": "code",
   "execution_count": 26,
   "metadata": {},
   "outputs": [],
   "source": [
    "# Addin Sedona extensions to PySpark session\n",
    "# pip show apache-sedona\n",
    "# print(spark.version)"
   ]
  },
  {
   "cell_type": "code",
   "execution_count": 60,
   "metadata": {},
   "outputs": [],
   "source": [
    "# libraries\n",
    "import numpy as np\n",
    "import pandas as pd\n",
    "import matplotlib.pyplot as plt\n",
    "import seaborn as sns\n",
    "from sklearn.model_selection import train_test_split, GridSearchCV\n",
    "from sklearn.metrics import mean_squared_error, mean_absolute_error\n",
    "from sklearn.linear_model import LinearRegression\n",
    "from sklearn.ensemble import RandomForestRegressor, GradientBoostingRegressor\n",
    "import geopandas as gpd\n",
    "import folium\n",
    "import osmnx as ox\n",
    "\n",
    "from pyspark.sql import SparkSession\n",
    "from pyspark.sql.functions import col, mean, stddev, when, isnan, udf\n",
    "from pyspark.ml.feature import VectorAssembler\n",
    "from pyspark.ml.regression import LinearRegression, RandomForestRegressor, GBTRegressor\n",
    "from pyspark.ml.evaluation import RegressionEvaluator\n",
    "from sedona.register.geo_registrator import SedonaRegistrator\n",
    "from shapely.geometry import Polygon, Point\n",
    "from shapely import wkt\n",
    "from shapely.wkt import loads\n",
    "from pyspark.sql.types import StructType, StructField, FloatType, StringType"
   ]
  },
  {
   "cell_type": "code",
   "execution_count": 28,
   "metadata": {},
   "outputs": [],
   "source": [
    "# Convert Excel to CSV\n",
    "# final_dataset = pd.read_excel(r'C:\\Users\\Камила\\BIG_DATA_PROJECT\\charging_stations\\task_3\\task_3_dataset_enlarged.xlsx')\n",
    "# final_dataset.to_csv(r'C:\\Users\\Камила\\BIG_DATA_PROJECT\\charging_stations\\task_3\\task_3_dataset_enlarged.csv', index=False)"
   ]
  },
  {
   "cell_type": "markdown",
   "metadata": {},
   "source": [
    "Below code shows the population density for Italy in all locations (from which we get the population density for our specific locations).\n",
    "\n",
    "+ in laptop or python it was loading too long (or even didn't open)."
   ]
  },
  {
   "cell_type": "code",
   "execution_count": null,
   "metadata": {},
   "outputs": [
    {
     "name": "stdout",
     "output_type": "stream",
     "text": [
      "+------------------+-----------------+----------------+\n",
      "|         longitude|         latitude|ita_general_2020|\n",
      "+------------------+-----------------+----------------+\n",
      "|  6.21569444459422|48.00013888887011|        1.061017|\n",
      "| 6.216250000149777|48.00013888887011|        1.061017|\n",
      "|6.2165277779275545|48.00013888887011|        1.061017|\n",
      "| 6.243750000149799|48.00013888887011|        0.831058|\n",
      "| 6.244027777927577|48.00013888887011|        0.831058|\n",
      "+------------------+-----------------+----------------+\n",
      "only showing top 5 rows\n",
      "\n",
      "root\n",
      " |-- longitude: double (nullable = true)\n",
      " |-- latitude: double (nullable = true)\n",
      " |-- ita_general_2020: double (nullable = true)\n",
      "\n"
     ]
    }
   ],
   "source": [
    "\"\"\"from pyspark.sql import SparkSession\n",
    "\n",
    "# Path to your CSV file\n",
    "path = r'C:\\Users\\Камила\\Downloads\\ita_general_2020_csv\\ita_general_2020.csv'\n",
    "\n",
    "# Create SparkSession\n",
    "spark = SparkSession.builder \\\n",
    "    .appName('ReadCSVExample') \\\n",
    "    .getOrCreate()\n",
    "\n",
    "# Read the CSV file\n",
    "df = spark.read.csv(path, inferSchema=True, header=True)\n",
    "\n",
    "# Show the first few rows and schema\n",
    "df.show(5)  # Displays the first 5 rows\n",
    "df.printSchema()  # Displays the schema (column names and data types)\"\"\"\n"
   ]
  },
  {
   "cell_type": "markdown",
   "metadata": {},
   "source": [
    "checking for pyspark working example + spark session creation:"
   ]
  },
  {
   "cell_type": "code",
   "execution_count": 33,
   "metadata": {},
   "outputs": [
    {
     "data": {
      "text/plain": [
       "'# Test\\ndata = [(1, \"a\"), (2, \"b\"), (3, \"c\")]\\ndf = spark.createDataFrame(data, [\"id\", \"value\"])\\ndf.show()'"
      ]
     },
     "execution_count": 33,
     "metadata": {},
     "output_type": "execute_result"
    }
   ],
   "source": [
    "from pyspark.sql import SparkSession\n",
    "import os\n",
    "\n",
    "# Ensure the correct Python executable paths\n",
    "os.environ[\"PYSPARK_PYTHON\"] = r\"C:\\Users\\Камила\\AppData\\Local\\Programs\\Python\\Python311\\python.exe\"\n",
    "os.environ[\"PYSPARK_DRIVER_PYTHON\"] = r\"C:\\Users\\Камила\\AppData\\Local\\Programs\\Python\\Python311\\python.exe\"\n",
    "\n",
    "# Configure Spark session\n",
    "spark = SparkSession.builder \\\n",
    "    .appName(\"PythonVersionFix\") \\\n",
    "    .master(\"local[*]\") \\\n",
    "    .config(\"spark.executorEnv.PYSPARK_PYTHON\", r\"C:\\Users\\Камила\\AppData\\Local\\Programs\\Python\\Python311\\python.exe\") \\\n",
    "    .config(\"spark.executorEnv.PYSPARK_DRIVER_PYTHON\", r\"C:\\Users\\Камила\\AppData\\Local\\Programs\\Python\\Python311\\python.exe\") \\\n",
    "    .getOrCreate()\n",
    "\n",
    "\"\"\"# Test\n",
    "data = [(1, \"a\"), (2, \"b\"), (3, \"c\")]\n",
    "df = spark.createDataFrame(data, [\"id\", \"value\"])\n",
    "df.show()\"\"\""
   ]
  },
  {
   "cell_type": "markdown",
   "metadata": {},
   "source": [
    "Reading data excel provided by company:"
   ]
  },
  {
   "cell_type": "code",
   "execution_count": 34,
   "metadata": {},
   "outputs": [],
   "source": [
    "# Load your dataset (assume it's a CSV)\n",
    "final_dataset = spark.read.csv(r\"C:\\Users\\Камила\\BIG_DATA_PROJECT\\charging_stations\\task_3\\task_3_dataset_enlarged.csv\", header=True, inferSchema=True)"
   ]
  },
  {
   "cell_type": "markdown",
   "metadata": {},
   "source": [
    "## Define grids"
   ]
  },
  {
   "cell_type": "markdown",
   "metadata": {},
   "source": [
    "### Part 1. Polygon"
   ]
  },
  {
   "cell_type": "code",
   "execution_count": 36,
   "metadata": {},
   "outputs": [],
   "source": [
    "# Function to create a 1km grid using Shapely\n",
    "def create_1km_grid_py(lat, lon):\n",
    "    km_in_degree = 0.5 / 110.574\n",
    "    km_lon = 0.5 / (111.320 * np.cos(np.radians(lat)))\n",
    "    return str(Polygon([\n",
    "        (lon - km_lon, lat - km_in_degree),\n",
    "        (lon - km_lon, lat + km_in_degree),\n",
    "        (lon + km_lon, lat + km_in_degree),\n",
    "        (lon + km_lon, lat - km_in_degree)\n",
    "    ]))\n",
    "\n",
    "# Register the UDF\n",
    "grid_udf = udf(create_1km_grid_py)\n",
    "\n",
    "# Apply the UDF to generate the grid polygons\n",
    "final_dataset = final_dataset.withColumn(\"geometry\", grid_udf(col(\"gpsLat\"), col(\"gpsLong\")))"
   ]
  },
  {
   "cell_type": "code",
   "execution_count": 37,
   "metadata": {},
   "outputs": [
    {
     "data": {
      "text/plain": [
       "<Axes: >"
      ]
     },
     "execution_count": 37,
     "metadata": {},
     "output_type": "execute_result"
    },
    {
     "data": {
      "image/png": "[encoded data removed]",
      "text/plain": [
       "<Figure size 640x480 with 1 Axes>"
      ]
     },
     "metadata": {},
     "output_type": "display_data"
    }
   ],
   "source": [
    "# Convert to GeoPandas for visualization\n",
    "# Collect PySpark DataFrame to Pandas\n",
    "final_dataset = final_dataset.toPandas()\n",
    "\n",
    "# Convert the WKT column to Shapely geometries\n",
    "final_dataset['geometry'] = final_dataset['geometry'].apply(wkt.loads)\n",
    "\n",
    "# Create a GeoDataFrame\n",
    "gdf = gpd.GeoDataFrame(final_dataset, geometry='geometry', crs=\"EPSG:4326\")\n",
    "\n",
    "# Plot the grid\n",
    "gdf.plot()"
   ]
  },
  {
   "cell_type": "code",
   "execution_count": 38,
   "metadata": {},
   "outputs": [],
   "source": [
    "# Define the function to create a 1km grid\n",
    "def create_1km_grid(lat, lon):\n",
    "    \"\"\"Creates a 0.5km x 0.5km square grid around a given point (latitude, longitude).\"\"\"\n",
    "    km_lat = 0.5 / 110.574  # degrees latitude per kilometer\n",
    "    km_lon = 0.5 / (111.320 * np.cos(np.radians(lat)))  # degrees longitude per kilometer\n",
    "\n",
    "    # Define the bounds of the square grid\n",
    "    lat_min = lat - (km_lat / 2)\n",
    "    lat_max = lat + (km_lat / 2)\n",
    "    lon_min = lon - (km_lon / 2)\n",
    "    lon_max = lon + (km_lon / 2)\n",
    "\n",
    "    # Create a polygon\n",
    "    square = Polygon([\n",
    "        (lon_min, lat_min),\n",
    "        (lon_min, lat_max),\n",
    "        (lon_max, lat_max),\n",
    "        (lon_max, lat_min),\n",
    "        (lon_min, lat_min)\n",
    "    ])\n",
    "    return square.wkt  # Return WKT (Well-Known Text) format for PySpark compatibility"
   ]
  },
  {
   "cell_type": "code",
   "execution_count": 39,
   "metadata": {},
   "outputs": [],
   "source": [
    "final_dataset['polygon'] = final_dataset.apply(lambda x: create_1km_grid(x['gpsLat'], x['gpsLong']), axis=1)"
   ]
  },
  {
   "cell_type": "code",
   "execution_count": 40,
   "metadata": {},
   "outputs": [],
   "source": [
    "# Convert the 'polygon' column to Shapely objects\n",
    "final_dataset['polygon'] = final_dataset['polygon'].apply(wkt.loads)"
   ]
  },
  {
   "cell_type": "code",
   "execution_count": 41,
   "metadata": {},
   "outputs": [],
   "source": [
    "gdf = gpd.GeoDataFrame(final_dataset, geometry='polygon', crs=\"EPSG:4326\")"
   ]
  },
  {
   "cell_type": "code",
   "execution_count": 42,
   "metadata": {},
   "outputs": [
    {
     "name": "stdout",
     "output_type": "stream",
     "text": [
      "<class 'pandas.core.frame.DataFrame'>\n"
     ]
    }
   ],
   "source": [
    "print(type(final_dataset))"
   ]
  },
  {
   "cell_type": "code",
   "execution_count": 43,
   "metadata": {},
   "outputs": [
    {
     "name": "stdout",
     "output_type": "stream",
     "text": [
      "         location     gpsLat    gpsLong  \\\n",
      "0      Location 1  45.099342   7.708655   \n",
      "1      Location 2  45.558440   9.240295   \n",
      "2      Location 3  45.568602   9.363047   \n",
      "3      Location 4  45.627761   8.712500   \n",
      "4      Location 5  41.924079  12.516347   \n",
      "..            ...        ...        ...   \n",
      "128  Location 129  44.999790   9.302020   \n",
      "129  Location 130  45.703120   8.583530   \n",
      "130  Location 131  44.000000  12.481811   \n",
      "131  Location 132  45.769533  13.646450   \n",
      "132  Location 133  45.016987  11.798013   \n",
      "\n",
      "                                              geometry  \\\n",
      "0    POLYGON ((7.702291931641269 45.094820171335215...   \n",
      "1    POLYGON ((9.233880046157743 45.55391802752161,...   \n",
      "2    POLYGON ((9.35663083966997 45.56408017245701, ...   \n",
      "3    POLYGON ((8.70607698288634 45.62323919286701, ...   \n",
      "4    POLYGON ((12.51031009485218 41.91955673782281,...   \n",
      "..                                                 ...   \n",
      "128  POLYGON ((9.295668004057807 44.995268041335216...   \n",
      "129  POLYGON ((8.577098573563243 45.69859814133521,...   \n",
      "130  POLYGON ((12.47556711366672 43.99547814133521,...   \n",
      "131  POLYGON ((13.640010920028073 45.76501147466851...   \n",
      "132  POLYGON ((11.791658696709039 45.01246494133521...   \n",
      "\n",
      "                                               polygon  \n",
      "0    POLYGON ((7.705473462320634 45.09708110066761,...  \n",
      "1    POLYGON ((9.237087469141786 45.556178956854005...  \n",
      "2    POLYGON ((9.35983884288598 45.566341101789405,...  \n",
      "3    POLYGON ((8.709288370108236 45.625500122199405...  \n",
      "4    POLYGON ((12.51332848853559 41.9218176671552, ...  \n",
      "..                                                 ...  \n",
      "128  POLYGON ((9.298844002028904 44.99752897066761,...  \n",
      "129  POLYGON ((8.58031428678162 45.700859070667605,...  \n",
      "130  POLYGON ((12.47868911238891 43.997739070667606...  \n",
      "131  POLYGON ((13.643230460014037 45.76727240400090...  \n",
      "132  POLYGON ((11.79483564835452 45.014725870667604...  \n",
      "\n",
      "[133 rows x 5 columns]\n"
     ]
    }
   ],
   "source": [
    "print(final_dataset)"
   ]
  },
  {
   "cell_type": "code",
   "execution_count": 55,
   "metadata": {},
   "outputs": [],
   "source": [
    "gdf = gdf.drop(columns=['geometry'])"
   ]
  },
  {
   "cell_type": "code",
   "execution_count": 44,
   "metadata": {},
   "outputs": [
    {
     "name": "stdout",
     "output_type": "stream",
     "text": [
      "         location     gpsLat    gpsLong  \\\n",
      "0      Location 1  45.099342   7.708655   \n",
      "1      Location 2  45.558440   9.240295   \n",
      "2      Location 3  45.568602   9.363047   \n",
      "3      Location 4  45.627761   8.712500   \n",
      "4      Location 5  41.924079  12.516347   \n",
      "..            ...        ...        ...   \n",
      "128  Location 129  44.999790   9.302020   \n",
      "129  Location 130  45.703120   8.583530   \n",
      "130  Location 131  44.000000  12.481811   \n",
      "131  Location 132  45.769533  13.646450   \n",
      "132  Location 133  45.016987  11.798013   \n",
      "\n",
      "                                               polygon  \n",
      "0    POLYGON ((7.705473462320634 45.09708110066761,...  \n",
      "1    POLYGON ((9.237087469141786 45.556178956854005...  \n",
      "2    POLYGON ((9.35983884288598 45.566341101789405,...  \n",
      "3    POLYGON ((8.709288370108236 45.625500122199405...  \n",
      "4    POLYGON ((12.51332848853559 41.9218176671552, ...  \n",
      "..                                                 ...  \n",
      "128  POLYGON ((9.298844002028904 44.99752897066761,...  \n",
      "129  POLYGON ((8.58031428678162 45.700859070667605,...  \n",
      "130  POLYGON ((12.47868911238891 43.997739070667606...  \n",
      "131  POLYGON ((13.643230460014037 45.76727240400090...  \n",
      "132  POLYGON ((11.79483564835452 45.014725870667604...  \n",
      "\n",
      "[133 rows x 4 columns]\n"
     ]
    }
   ],
   "source": [
    "# Remove the 'geometry' column from the DataFrame\n",
    "final_dataset = final_dataset.drop(columns=['geometry'])\n",
    "\n",
    "# Print the DataFrame to verify\n",
    "print(final_dataset)"
   ]
  },
  {
   "cell_type": "markdown",
   "metadata": {},
   "source": [
    "converting pandas dataframe again to pyspark dataframe:"
   ]
  },
  {
   "cell_type": "code",
   "execution_count": 46,
   "metadata": {},
   "outputs": [
    {
     "name": "stdout",
     "output_type": "stream",
     "text": [
      "+-----------+----------------+----------------+-----------------------------------------------------------------------------------------------------------------------------------------------------------------------------------------------------------+\n",
      "|location   |gpsLat          |gpsLong         |polygon                                                                                                                                                                                                    |\n",
      "+-----------+----------------+----------------+-----------------------------------------------------------------------------------------------------------------------------------------------------------------------------------------------------------+\n",
      "|Location 1 |45.09934203     |7.708654993     |POLYGON ((7.705473462320634 45.09708110066761, 7.705473462320634 45.101602959332396, 7.711836523679366 45.101602959332396, 7.711836523679366 45.09708110066761, 7.705473462320634 45.09708110066761))      |\n",
      "|Location 2 |45.5584398861864|9.24029489212583|POLYGON ((9.237087469141786 45.556178956854005, 9.237087469141786 45.56070081551879, 9.243502315109874 45.56070081551879, 9.243502315109874 45.556178956854005, 9.237087469141786 45.556178956854005))     |\n",
      "|Location 3 |45.5686020311218|9.36304684610199|POLYGON ((9.35983884288598 45.566341101789405, 9.35983884288598 45.57086296045419, 9.366254849317999 45.57086296045419, 9.366254849317999 45.566341101789405, 9.35983884288598 45.566341101789405))        |\n",
      "|Location 4 |45.6277610515318|8.71249975733013|POLYGON ((8.709288370108236 45.625500122199405, 8.709288370108236 45.63002198086419, 8.715711144552024 45.63002198086419, 8.715711144552024 45.625500122199405, 8.709288370108236 45.625500122199405))     |\n",
      "|Location 5 |41.9240785964876|12.516346882219 |POLYGON ((12.51332848853559 41.9218176671552, 12.51332848853559 41.92633952581999, 12.51936527590241 41.92633952581999, 12.51936527590241 41.9218176671552, 12.51332848853559 41.9218176671552))           |\n",
      "|Location 6 |43.68321857     |10.43437685     |POLYGON ((10.431271384357458 43.68095764066761, 10.431271384357458 43.685479499332395, 10.43748231564254 43.685479499332395, 10.43748231564254 43.68095764066761, 10.431271384357458 43.68095764066761))   |\n",
      "|Location 7 |41.911629       |12.4439452      |POLYGON ((12.440927395094137 41.909368070667604, 12.440927395094137 41.91388992933239, 12.446963004905863 41.91388992933239, 12.446963004905863 41.909368070667604, 12.440927395094137 41.909368070667604))|\n",
      "|Location 8 |44.810031702133 |10.286827741443 |POLYGON ((10.28366220995558 44.80777077280061, 10.28366220995558 44.8122926314654, 10.28999327293042 44.8122926314654, 10.28999327293042 44.80777077280061, 10.28366220995558 44.80777077280061))          |\n",
      "|Location 9 |45.5118679373017|9.28048191263696|POLYGON ((9.277277144817885 45.50960700796931, 9.277277144817885 45.514128866634096, 9.283686680456034 45.514128866634096, 9.283686680456034 45.50960700796931, 9.277277144817885 45.50960700796931))      |\n",
      "|Location 10|44.8473232      |11.5979132      |POLYGON ((11.594745619818367 44.845062270667604, 11.594745619818367 44.84958412933239, 11.601080780181634 44.84958412933239, 11.601080780181634 44.845062270667604, 11.594745619818367 44.845062270667604))|\n",
      "|Location 11|45.5427892825392|9.18957908132117|POLYGON ((9.186372551338085 45.5405283532068, 9.186372551338085 45.54505021187159, 9.192785611304256 45.54505021187159, 9.192785611304256 45.5405283532068, 9.186372551338085 45.5405283532068))           |\n",
      "|Location 12|41.9578508559251|12.5479545040863|POLYGON ((12.54493451133886 41.95558992659271, 12.54493451133886 41.960111785257496, 12.55097449683374 41.960111785257496, 12.55097449683374 41.95558992659271, 12.54493451133886 41.95558992659271))      |\n",
      "|Location 13|45.4238615      |11.873375       |POLYGON ((11.87017523186528 45.42160057066761, 11.87017523186528 45.426122429332395, 11.876574768134718 45.426122429332395, 11.876574768134718 45.42160057066761, 11.87017523186528 45.42160057066761))    |\n",
      "|Location 14|45.5772057974587|9.06559138730712|POLYGON ((9.062382892595446 45.57494486812631, 9.062382892595446 45.5794667267911, 9.068799882018793 45.5794667267911, 9.068799882018793 45.57494486812631, 9.062382892595446 45.57494486812631))          |\n",
      "|Location 15|43.560201415122 |13.5108636275027|POLYGON ((13.507764509660669 43.55794048578961, 13.507764509660669 43.562462344454396, 13.51396274534473 43.562462344454396, 13.51396274534473 43.55794048578961, 13.507764509660669 43.55794048578961))   |\n",
      "|Location 16|45.3930637896606|9.15013222095038|POLYGON ((9.146934196983732 45.39080286032821, 9.146934196983732 45.395324718992995, 9.15333024491703 45.395324718992995, 9.15333024491703 45.39080286032821, 9.146934196983732 45.39080286032821))        |\n",
      "|Location 17|45.6500079673525|8.80839790130186|POLYGON ((8.805185238780409 45.64774703802011, 8.805185238780409 45.652268896684895, 8.81161056382331 45.652268896684895, 8.81161056382331 45.64774703802011, 8.805185238780409 45.64774703802011))        |\n",
      "|Location 18|45.4422563231016|9.04696847777923|POLYGON ((9.043767666540564 45.43999539376921, 9.043767666540564 45.444517252434, 9.050169289017894 45.444517252434, 9.050169289017894 45.43999539376921, 9.043767666540564 45.43999539376921))            |\n",
      "|Location 19|44.8255611421675|10.2096103215406|POLYGON ((10.20644393739274 44.82330021283511, 10.20644393739274 44.827822071499895, 10.21277670568846 44.827822071499895, 10.21277670568846 44.82330021283511, 10.20644393739274 44.82330021283511))      |\n",
      "|Location 20|42.460214478762 |12.4183118423288|POLYGON ((12.415267736251472 42.457953549429604, 12.415267736251472 42.46247540809439, 12.421355948406127 42.46247540809439, 12.421355948406127 42.457953549429604, 12.415267736251472 42.457953549429604))|\n",
      "+-----------+----------------+----------------+-----------------------------------------------------------------------------------------------------------------------------------------------------------------------------------------------------------+\n",
      "only showing top 20 rows\n",
      "\n"
     ]
    }
   ],
   "source": [
    "from pyspark.sql.types import StructType, StructField, StringType, DoubleType\n",
    "\n",
    "# Convert Shapely geometries to WKT in the Pandas DataFrame\n",
    "final_dataset['polygon'] = final_dataset['polygon'].apply(lambda geom: geom.wkt)\n",
    "\n",
    "# Define the schema for the PySpark DataFrame\n",
    "schema = StructType([\n",
    "    StructField(\"location\", StringType(), True),\n",
    "    StructField(\"gpsLat\", DoubleType(), True),\n",
    "    StructField(\"gpsLong\", DoubleType(), True),\n",
    "    StructField(\"polygon\", StringType(), True)  # WKT representation of the geometry\n",
    "])\n",
    "\n",
    "# Convert Pandas DataFrame back to PySpark DataFrame\n",
    "final_dataset = spark.createDataFrame(final_dataset, schema=schema)\n",
    "\n",
    "# Show the PySpark DataFrame\n",
    "final_dataset.show(truncate=False)"
   ]
  },
  {
   "cell_type": "code",
   "execution_count": 47,
   "metadata": {},
   "outputs": [
    {
     "name": "stdout",
     "output_type": "stream",
     "text": [
      "root\n",
      " |-- location: string (nullable = true)\n",
      " |-- gpsLat: double (nullable = true)\n",
      " |-- gpsLong: double (nullable = true)\n",
      " |-- polygon: string (nullable = true)\n",
      "\n"
     ]
    }
   ],
   "source": [
    "final_dataset.printSchema()"
   ]
  },
  {
   "cell_type": "code",
   "execution_count": 48,
   "metadata": {},
   "outputs": [
    {
     "name": "stdout",
     "output_type": "stream",
     "text": [
      "<class 'pyspark.sql.dataframe.DataFrame'>\n"
     ]
    }
   ],
   "source": [
    "print(type(final_dataset))"
   ]
  },
  {
   "cell_type": "code",
   "execution_count": 49,
   "metadata": {},
   "outputs": [
    {
     "name": "stdout",
     "output_type": "stream",
     "text": [
      "<class 'geopandas.geodataframe.GeoDataFrame'>\n"
     ]
    }
   ],
   "source": [
    "print(type(gdf))"
   ]
  },
  {
   "cell_type": "code",
   "execution_count": 50,
   "metadata": {},
   "outputs": [
    {
     "name": "stdout",
     "output_type": "stream",
     "text": [
      "<class 'geopandas.geoseries.GeoSeries'>\n"
     ]
    }
   ],
   "source": [
    "print(type(gdf['polygon']))"
   ]
  },
  {
   "cell_type": "code",
   "execution_count": null,
   "metadata": {},
   "outputs": [],
   "source": [
    "# I will extract this csv, so that I can continue on that later without running everything above.\n",
    "# gdf.to_csv(r\"C:\\Users\\Камила\\BIG_DATA_PROJECT\\charging_stations\\task_3\\polygon_data.csv\", index=False)"
   ]
  },
  {
   "cell_type": "code",
   "execution_count": 9,
   "metadata": {},
   "outputs": [
    {
     "data": {
      "text/plain": [
       "'3.5.2'"
      ]
     },
     "execution_count": 9,
     "metadata": {},
     "output_type": "execute_result"
    }
   ],
   "source": [
    "spark.version"
   ]
  },
  {
   "cell_type": "markdown",
   "metadata": {},
   "source": [
    "As in my laptop in version of 3.5 spark - sedona library can be imported, but not fully used: sedona.context or sedona.registrator, csv file is provided for later use! In the second part in 'second_part_spark_optimiser' file."
   ]
  }
 ],
 "metadata": {
  "kernelspec": {
   "display_name": "Python 3",
   "language": "python",
   "name": "python3"
  },
  "language_info": {
   "codemirror_mode": {
    "name": "ipython",
    "version": 3
   },
   "file_extension": ".py",
   "mimetype": "text/x-python",
   "name": "python",
   "nbconvert_exporter": "python",
   "pygments_lexer": "ipython3",
   "version": "3.11.2"
  }
 },
 "nbformat": 4,
 "nbformat_minor": 2
}
